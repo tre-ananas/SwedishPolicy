{
 "cells": [
  {
   "cell_type": "markdown",
   "metadata": {},
   "source": [
    "# Load Libraries and Set Settings"
   ]
  },
  {
   "cell_type": "code",
   "execution_count": 1,
   "metadata": {},
   "outputs": [],
   "source": [
    "# Libraries\n",
    "import requests\n",
    "from bs4 import BeautifulSoup\n",
    "import pandas as pd\n",
    "import PyPDF2\n",
    "from io import BytesIO\n",
    "from tqdm import tqdm\n",
    "import time\n",
    "import csv\n",
    "import sys\n",
    "from random import randint\n",
    "\n",
    "# Other Settings\n",
    "pd.set_option('display.max.colwidth', None) # max display width"
   ]
  },
  {
   "cell_type": "markdown",
   "metadata": {},
   "source": [
    "# Load Data"
   ]
  },
  {
   "cell_type": "code",
   "execution_count": 2,
   "metadata": {},
   "outputs": [],
   "source": [
    "# Load data from CSV file into a DataFrame\n",
    "pdf_content = pd.read_csv('pdf_data.csv')"
   ]
  },
  {
   "cell_type": "code",
   "execution_count": 3,
   "metadata": {},
   "outputs": [],
   "source": [
    "# Load data from CSV file into a DataFrame\n",
    "article_link_directory = pd.read_csv('article_link_directory.csv')"
   ]
  },
  {
   "cell_type": "code",
   "execution_count": 4,
   "metadata": {},
   "outputs": [
    {
     "data": {
      "text/plain": [
       "27079"
      ]
     },
     "execution_count": 4,
     "metadata": {},
     "output_type": "execute_result"
    }
   ],
   "source": [
    "len(pdf_content)"
   ]
  },
  {
   "cell_type": "code",
   "execution_count": 5,
   "metadata": {},
   "outputs": [
    {
     "data": {
      "text/html": [
       "<div>\n",
       "<style scoped>\n",
       "    .dataframe tbody tr th:only-of-type {\n",
       "        vertical-align: middle;\n",
       "    }\n",
       "\n",
       "    .dataframe tbody tr th {\n",
       "        vertical-align: top;\n",
       "    }\n",
       "\n",
       "    .dataframe thead th {\n",
       "        text-align: right;\n",
       "    }\n",
       "</style>\n",
       "<table border=\"1\" class=\"dataframe\">\n",
       "  <thead>\n",
       "    <tr style=\"text-align: right;\">\n",
       "      <th></th>\n",
       "      <th>PDF URL</th>\n",
       "      <th>Inside PDF Text</th>\n",
       "    </tr>\n",
       "  </thead>\n",
       "  <tbody>\n",
       "    <tr>\n",
       "      <th>0</th>\n",
       "      <td>https://www.regeringen.se/contentassets/c9981cbd1c054e3fa1a2a917d3e22939/inbjudan-till-larosatena-att-inkomma-med-underlag-till-regeringens-forskningspolitik.pdf</td>\n",
       "      <td>\\n  \\n \\n \\n2023 -04-26 \\nU2023/01467  \\n  \\n  \\n  \\nUtbildningsdepartementet  \\nUtbildningsministern  Rektorer enligt sändlista   \\n \\n \\nTelefonväxel: 08 -405 10 00  \\nFax: 08 -24 46 31  \\nWebb: www.regeringen.se  Postadress: 103 33 Stockholm  \\nBesöksadress: Drottninggatan 16  \\nE-post: u.registrator@regeringskansliet.se  \\n \\nInbjudan att inkomma med underlag till regeringens forsknings - \\noch innovationspolitik  \\nSom ett led i regeringens arbete med en kommande forsknings - och \\ninnovationspolitisk proposition, bjuder regeringen in universitet och \\nhögskolor att inkomma med underlag som kan bidra till regeringens \\nforsknings - och innovationspolitik, vars fokus är excellens, internationa -\\nlisering och innovation.  \\nI regeringsförklaringen 2022 har statsministern uttalat att utbildning och \\nforskning av hög kvalitet är h elt avgörande för Sveriges välstånd  och att det \\nsvenska näringslivet är ett drivhus för innovation och är världsledande inom \\nhållbarhet . Obunden forskning är en omistlig beståndsdel i det öppna sam -\\nhället.  Högre utbildning och forskning är avgörande för Sv eriges kompetens -\\nförsörjning och för att Sverige ska kunna möta olika samhällsutmaningar.  \\nRegeringen anser att en tydlig inriktning mot excellens krävs för att svensk \\nforskning ska vara konkurrenskraftig. Utbildning och forskning ska hålla en \\ninternationel lt sett hög kvalitet och bedrivas effektivt. Internationalisering, \\ninklusive student -, doktorand - och forskarmobilitet, är viktiga medel för att \\nsvensk forskning och innovation ska kunna nå högsta kvalitet. Det ska finnas \\nbra villkor för forskning och inno vation för det svenska näringslivet. Läro -\\nsätena ska ha goda förutsättningar att nyttiggöra forskningsresultat samt att \\nbidra till innovation och svensk konkurrenskraft . Den akademiska friheten \\nska främjas, värnas och bidra till ett öppet samhälle. Lärosät ena ska samverka \\nmed det omgivande samhället för ömsesidigt utbyte och verka för att utbild -\\nning och forskning kommer samhället till nytta. En fråga som vi  behöver ha \\nett förstärkt fokus på framöver är  samtidigt  de utmaningar och säkerhets -\\nrisker  som internationa lisering  kan innebära . 2 (4) \\n \\n Med detta brev vill jag inbjuda er att inkomma med underlag inför \\nkommande forsknings - och innovationspolitiska proposition. Delge gärna de \\nforsknings prioriteringar som har gjorts på ert lärosäte och hur den framtida \\ninriktningen ser ut. Kommentera i synnerhet hur lärosätets verksamhet \\nförhåller sig till de politiska prioriteringarna hög kvalitet i forskning och \\nutbildning, internationalisering  och innovation.  Kommentera även ert arbete \\nmed samverkan, med fokus på hur fors kningsresultat kan nyttiggöras.   \\nKommentera gärna i ert underlag hur ni arbetar med profilområden. Att \\nlärosätena arbetar strategiskt med att profilera sin forskning kan bidra till \\nexcellens och konkurrenskraft och regeringen kommer därför följa det \\narbete  som pågår och vilka överväganden som lärosätena hittills har gjort när \\ndet gäller profilområden. Regeringen avser att i den forsknings - och innova -\\ntions politiska propositionen återkomma i frågan om hur lärosätenas anslag \\ntill forskning och utbildning på forskarnivå ska fördelas. Något ansöknings -\\nförfarande rörande profilområden kommer inte att initieras innan dess.  \\nEventuella synpunkter avseende den statliga organisationen för extern \\nforsknings - och innovationsfinansiering  lämnas inte i det ta underlag. Det \\nkommer att finnas möjlighet att lämna sådana synpunkter efter att den \\npågående utredningen En effektiv organisation för statlig forsknings -\\nfinansiering (U2022:06) har lämnat sitt betänkande.  \\nRegeringen har även gett Forskningsrådet för hä lsa, arbetsliv och välfärd \\n(Forte), Forskningsrådet för miljö, areella näringar och samhällsbyggande \\n(Formas), Rymdstyrelsen, Statens energimyndighet , Verket för innovations -\\nsystem (Vinnova) och Vetenskapsrådet i uppdrag att utifrån sina respektive \\nansvars områden göra analyser och lämna rekommendationer som kan bidra \\ntill regeringens forsknings - och innovationspolitik (dnr. U2023/01317 ).  \\nSenas t den 31  oktober  2023 önskar Utbildningsdepartementet  ta emot \\nunderlaget till u.registrator@regeringskansliet.se . Ange dnr. U2023/01467.  \\nNär det gäller Sveriges Lantbruksuniversitet skickas underlag et till både \\nUtbildningsdepartementet och Landsbygds - och infrastruktur departementet. \\nSvaren kommer att läggas ut på regeringens hemsida.  \\nVänliga hälsningar,  \\n \\nMats Persson  3 (4) \\n \\n Sändlista  \\nUppsala universitet  \\nLunds universitet  \\nGöteborgs universitet  \\nStockholms universitet  \\nUmeå universitet  \\nLinköpings universitet  \\nKarolinska institutet  \\nKungl. Tekniska högskolan  \\nLuleå tekniska universitet  \\nKarlstads universitet  \\nLinnéuniversitetet  \\nÖrebro universitet  \\nMittuniversitetet  \\nMalmö universitet  \\nMälardal ens universitet  \\nSveriges lantbruksuniversitet  \\nBlekinge tekniska högskola  \\nFörsvarshögskolan  \\nGymnastik - och idrottshögskolan  \\nHögskolan i Borås  \\nHögskolan Dalarna  \\nHögskolan i Gävle  \\nHögskolan i Halmstad  \\nHögskolan Kristianstad  \\nHögskolan i Skövde  \\nHögskolan Väst  \\nKonstfack  \\nKungl. Konsthögskolan  \\nKungl. Musikhögskolan i Stockholm  \\nStockholms konstnärliga högskola  \\nSödertörns högskola  \\nAkademi för Ledarskap och Teologi  \\nBeckmans skola AB  \\nChalmers Tekniska Högskola AB  \\nEnskilda Högskolan Stockholm AB  \\nEricastiftelsen  \\nJohannelunds teologiska högskola  4 (4) \\n \\n Handelshögskolan i Stockholm  \\nMarie Cederschiöld högskola AB  \\nNewmaninstitutet AB  \\nSophiahemmet, Ideell förening  \\nStiftelsen Högskolan i Jönköping  \\nStiftelsen Rödakorshemmet  \\nStiftelsen Stockholms Musikpedagogiska  Institut  \\n \\n \\n</td>\n",
       "    </tr>\n",
       "  </tbody>\n",
       "</table>\n",
       "</div>"
      ],
      "text/plain": [
       "                                                                                                                                                             PDF URL  \\\n",
       "0  https://www.regeringen.se/contentassets/c9981cbd1c054e3fa1a2a917d3e22939/inbjudan-till-larosatena-att-inkomma-med-underlag-till-regeringens-forskningspolitik.pdf   \n",
       "\n",
       "                                                                                                                                                                                                                                                                                                                                                                                                                                                                                                                                                                                                                                                                                                                                                                                                                                                                                                                                                                                                                                                                                                                                                                                                                                                                                                                                                                                                                                                                                                                                                                                                                                                                                                                                                                                                                                                                                                                                                                                                                                                                                                                                                                                                                                                                                                                                                                                                                                                                                                                                                                                                                                                                                                                                                                                                                                                                                                                                                                                                                                                                                                                                                                                                                                                                                                                                                                                                                                                                                                                                                                                                                                                                                                                                                                                                                                                                                                                                                                                                                                                                                                                                                                                                                                                                                                                                                                                                                                                                                                                                                                                                                                                                                                                                                                                                                                                                                                                                                                                                                                                                                                                                                                                                                                                                                                                                                                                                                                                                                                                                                                                                                                                                                                                                                                                                                                                                                                                                                                                                                                          Inside PDF Text  \n",
       "0      \\n  \\n \\n \\n2023 -04-26 \\nU2023/01467  \\n  \\n  \\n  \\nUtbildningsdepartementet  \\nUtbildningsministern  Rektorer enligt sändlista   \\n \\n \\nTelefonväxel: 08 -405 10 00  \\nFax: 08 -24 46 31  \\nWebb: www.regeringen.se  Postadress: 103 33 Stockholm  \\nBesöksadress: Drottninggatan 16  \\nE-post: u.registrator@regeringskansliet.se  \\n \\nInbjudan att inkomma med underlag till regeringens forsknings - \\noch innovationspolitik  \\nSom ett led i regeringens arbete med en kommande forsknings - och \\ninnovationspolitisk proposition, bjuder regeringen in universitet och \\nhögskolor att inkomma med underlag som kan bidra till regeringens \\nforsknings - och innovationspolitik, vars fokus är excellens, internationa -\\nlisering och innovation.  \\nI regeringsförklaringen 2022 har statsministern uttalat att utbildning och \\nforskning av hög kvalitet är h elt avgörande för Sveriges välstånd  och att det \\nsvenska näringslivet är ett drivhus för innovation och är världsledande inom \\nhållbarhet . Obunden forskning är en omistlig beståndsdel i det öppna sam -\\nhället.  Högre utbildning och forskning är avgörande för Sv eriges kompetens -\\nförsörjning och för att Sverige ska kunna möta olika samhällsutmaningar.  \\nRegeringen anser att en tydlig inriktning mot excellens krävs för att svensk \\nforskning ska vara konkurrenskraftig. Utbildning och forskning ska hålla en \\ninternationel lt sett hög kvalitet och bedrivas effektivt. Internationalisering, \\ninklusive student -, doktorand - och forskarmobilitet, är viktiga medel för att \\nsvensk forskning och innovation ska kunna nå högsta kvalitet. Det ska finnas \\nbra villkor för forskning och inno vation för det svenska näringslivet. Läro -\\nsätena ska ha goda förutsättningar att nyttiggöra forskningsresultat samt att \\nbidra till innovation och svensk konkurrenskraft . Den akademiska friheten \\nska främjas, värnas och bidra till ett öppet samhälle. Lärosät ena ska samverka \\nmed det omgivande samhället för ömsesidigt utbyte och verka för att utbild -\\nning och forskning kommer samhället till nytta. En fråga som vi  behöver ha \\nett förstärkt fokus på framöver är  samtidigt  de utmaningar och säkerhets -\\nrisker  som internationa lisering  kan innebära . 2 (4) \\n \\n Med detta brev vill jag inbjuda er att inkomma med underlag inför \\nkommande forsknings - och innovationspolitiska proposition. Delge gärna de \\nforsknings prioriteringar som har gjorts på ert lärosäte och hur den framtida \\ninriktningen ser ut. Kommentera i synnerhet hur lärosätets verksamhet \\nförhåller sig till de politiska prioriteringarna hög kvalitet i forskning och \\nutbildning, internationalisering  och innovation.  Kommentera även ert arbete \\nmed samverkan, med fokus på hur fors kningsresultat kan nyttiggöras.   \\nKommentera gärna i ert underlag hur ni arbetar med profilområden. Att \\nlärosätena arbetar strategiskt med att profilera sin forskning kan bidra till \\nexcellens och konkurrenskraft och regeringen kommer därför följa det \\narbete  som pågår och vilka överväganden som lärosätena hittills har gjort när \\ndet gäller profilområden. Regeringen avser att i den forsknings - och innova -\\ntions politiska propositionen återkomma i frågan om hur lärosätenas anslag \\ntill forskning och utbildning på forskarnivå ska fördelas. Något ansöknings -\\nförfarande rörande profilområden kommer inte att initieras innan dess.  \\nEventuella synpunkter avseende den statliga organisationen för extern \\nforsknings - och innovationsfinansiering  lämnas inte i det ta underlag. Det \\nkommer att finnas möjlighet att lämna sådana synpunkter efter att den \\npågående utredningen En effektiv organisation för statlig forsknings -\\nfinansiering (U2022:06) har lämnat sitt betänkande.  \\nRegeringen har även gett Forskningsrådet för hä lsa, arbetsliv och välfärd \\n(Forte), Forskningsrådet för miljö, areella näringar och samhällsbyggande \\n(Formas), Rymdstyrelsen, Statens energimyndighet , Verket för innovations -\\nsystem (Vinnova) och Vetenskapsrådet i uppdrag att utifrån sina respektive \\nansvars områden göra analyser och lämna rekommendationer som kan bidra \\ntill regeringens forsknings - och innovationspolitik (dnr. U2023/01317 ).  \\nSenas t den 31  oktober  2023 önskar Utbildningsdepartementet  ta emot \\nunderlaget till u.registrator@regeringskansliet.se . Ange dnr. U2023/01467.  \\nNär det gäller Sveriges Lantbruksuniversitet skickas underlag et till både \\nUtbildningsdepartementet och Landsbygds - och infrastruktur departementet. \\nSvaren kommer att läggas ut på regeringens hemsida.  \\nVänliga hälsningar,  \\n \\nMats Persson  3 (4) \\n \\n Sändlista  \\nUppsala universitet  \\nLunds universitet  \\nGöteborgs universitet  \\nStockholms universitet  \\nUmeå universitet  \\nLinköpings universitet  \\nKarolinska institutet  \\nKungl. Tekniska högskolan  \\nLuleå tekniska universitet  \\nKarlstads universitet  \\nLinnéuniversitetet  \\nÖrebro universitet  \\nMittuniversitetet  \\nMalmö universitet  \\nMälardal ens universitet  \\nSveriges lantbruksuniversitet  \\nBlekinge tekniska högskola  \\nFörsvarshögskolan  \\nGymnastik - och idrottshögskolan  \\nHögskolan i Borås  \\nHögskolan Dalarna  \\nHögskolan i Gävle  \\nHögskolan i Halmstad  \\nHögskolan Kristianstad  \\nHögskolan i Skövde  \\nHögskolan Väst  \\nKonstfack  \\nKungl. Konsthögskolan  \\nKungl. Musikhögskolan i Stockholm  \\nStockholms konstnärliga högskola  \\nSödertörns högskola  \\nAkademi för Ledarskap och Teologi  \\nBeckmans skola AB  \\nChalmers Tekniska Högskola AB  \\nEnskilda Högskolan Stockholm AB  \\nEricastiftelsen  \\nJohannelunds teologiska högskola  4 (4) \\n \\n Handelshögskolan i Stockholm  \\nMarie Cederschiöld högskola AB  \\nNewmaninstitutet AB  \\nSophiahemmet, Ideell förening  \\nStiftelsen Högskolan i Jönköping  \\nStiftelsen Rödakorshemmet  \\nStiftelsen Stockholms Musikpedagogiska  Institut  \\n \\n \\n   "
      ]
     },
     "execution_count": 5,
     "metadata": {},
     "output_type": "execute_result"
    }
   ],
   "source": [
    "pdf_content.head(1)"
   ]
  },
  {
   "cell_type": "code",
   "execution_count": 6,
   "metadata": {},
   "outputs": [
    {
     "data": {
      "text/html": [
       "<div>\n",
       "<style scoped>\n",
       "    .dataframe tbody tr th:only-of-type {\n",
       "        vertical-align: middle;\n",
       "    }\n",
       "\n",
       "    .dataframe tbody tr th {\n",
       "        vertical-align: top;\n",
       "    }\n",
       "\n",
       "    .dataframe thead th {\n",
       "        text-align: right;\n",
       "    }\n",
       "</style>\n",
       "<table border=\"1\" class=\"dataframe\">\n",
       "  <thead>\n",
       "    <tr style=\"text-align: right;\">\n",
       "      <th></th>\n",
       "      <th>PDF URL</th>\n",
       "      <th>Inside PDF Text</th>\n",
       "    </tr>\n",
       "  </thead>\n",
       "  <tbody>\n",
       "    <tr>\n",
       "      <th>27078</th>\n",
       "      <td>NO CONTENT</td>\n",
       "      <td>NO CONTENT</td>\n",
       "    </tr>\n",
       "  </tbody>\n",
       "</table>\n",
       "</div>"
      ],
      "text/plain": [
       "          PDF URL Inside PDF Text\n",
       "27078  NO CONTENT      NO CONTENT"
      ]
     },
     "execution_count": 6,
     "metadata": {},
     "output_type": "execute_result"
    }
   ],
   "source": [
    "pdf_content.tail(1)"
   ]
  },
  {
   "cell_type": "code",
   "execution_count": 7,
   "metadata": {},
   "outputs": [
    {
     "data": {
      "text/plain": [
       "27079"
      ]
     },
     "execution_count": 7,
     "metadata": {},
     "output_type": "execute_result"
    }
   ],
   "source": [
    "len(article_link_directory)"
   ]
  },
  {
   "cell_type": "code",
   "execution_count": 8,
   "metadata": {},
   "outputs": [
    {
     "data": {
      "text/html": [
       "<div>\n",
       "<style scoped>\n",
       "    .dataframe tbody tr th:only-of-type {\n",
       "        vertical-align: middle;\n",
       "    }\n",
       "\n",
       "    .dataframe tbody tr th {\n",
       "        vertical-align: top;\n",
       "    }\n",
       "\n",
       "    .dataframe thead th {\n",
       "        text-align: right;\n",
       "    }\n",
       "</style>\n",
       "<table border=\"1\" class=\"dataframe\">\n",
       "  <thead>\n",
       "    <tr style=\"text-align: right;\">\n",
       "      <th></th>\n",
       "      <th>Content Links</th>\n",
       "      <th>Publishing Info</th>\n",
       "      <th>Collected Links</th>\n",
       "      <th>Outside PDF Text</th>\n",
       "      <th>Full Collected Links</th>\n",
       "    </tr>\n",
       "  </thead>\n",
       "  <tbody>\n",
       "    <tr>\n",
       "      <th>0</th>\n",
       "      <td>https://www.regeringen.se/remisser/2023/11/inbjudan-till-larosaten-myndigheter-och-organisationer-att-inkomma-med-synpunkter-till-regeringens-forskningspolitik/</td>\n",
       "      <td>Publicerad02 november 2023· Uppdaterad10 november 2023·RemissfrånUtbildningsdepartementet</td>\n",
       "      <td>/contentassets/c9981cbd1c054e3fa1a2a917d3e22939/inbjudan-till-larosatena-att-inkomma-med-underlag-till-regeringens-forskningspolitik.pdf</td>\n",
       "      <td>NO CONTENT</td>\n",
       "      <td>https://www.regeringen.se/contentassets/c9981cbd1c054e3fa1a2a917d3e22939/inbjudan-till-larosatena-att-inkomma-med-underlag-till-regeringens-forskningspolitik.pdf</td>\n",
       "    </tr>\n",
       "  </tbody>\n",
       "</table>\n",
       "</div>"
      ],
      "text/plain": [
       "                                                                                                                                                      Content Links  \\\n",
       "0  https://www.regeringen.se/remisser/2023/11/inbjudan-till-larosaten-myndigheter-och-organisationer-att-inkomma-med-synpunkter-till-regeringens-forskningspolitik/   \n",
       "\n",
       "                                                                             Publishing Info  \\\n",
       "0  Publicerad02 november 2023· Uppdaterad10 november 2023·RemissfrånUtbildningsdepartementet   \n",
       "\n",
       "                                                                                                                            Collected Links  \\\n",
       "0  /contentassets/c9981cbd1c054e3fa1a2a917d3e22939/inbjudan-till-larosatena-att-inkomma-med-underlag-till-regeringens-forskningspolitik.pdf   \n",
       "\n",
       "  Outside PDF Text  \\\n",
       "0       NO CONTENT   \n",
       "\n",
       "                                                                                                                                                Full Collected Links  \n",
       "0  https://www.regeringen.se/contentassets/c9981cbd1c054e3fa1a2a917d3e22939/inbjudan-till-larosatena-att-inkomma-med-underlag-till-regeringens-forskningspolitik.pdf  "
      ]
     },
     "execution_count": 8,
     "metadata": {},
     "output_type": "execute_result"
    }
   ],
   "source": [
    "article_link_directory.head(1)"
   ]
  },
  {
   "cell_type": "code",
   "execution_count": 9,
   "metadata": {},
   "outputs": [
    {
     "data": {
      "text/html": [
       "<div>\n",
       "<style scoped>\n",
       "    .dataframe tbody tr th:only-of-type {\n",
       "        vertical-align: middle;\n",
       "    }\n",
       "\n",
       "    .dataframe tbody tr th {\n",
       "        vertical-align: top;\n",
       "    }\n",
       "\n",
       "    .dataframe thead th {\n",
       "        text-align: right;\n",
       "    }\n",
       "</style>\n",
       "<table border=\"1\" class=\"dataframe\">\n",
       "  <thead>\n",
       "    <tr style=\"text-align: right;\">\n",
       "      <th></th>\n",
       "      <th>Content Links</th>\n",
       "      <th>Publishing Info</th>\n",
       "      <th>Collected Links</th>\n",
       "      <th>Outside PDF Text</th>\n",
       "      <th>Full Collected Links</th>\n",
       "    </tr>\n",
       "  </thead>\n",
       "  <tbody>\n",
       "    <tr>\n",
       "      <th>27078</th>\n",
       "      <td>https://www.regeringen.se/internationella-mr-granskningar-av-sverige/2007/04/cat-kommittens-granskning-2007-04-30-i-malet-e.r.k.-och-y.k.-mot-sverige</td>\n",
       "      <td>Publicerad30 april 2007·Internationella MR-granskningar av SverigefrånJustitiedepartementet,Utrikesdepartementet</td>\n",
       "      <td>NO CONTENT</td>\n",
       "      <td>Publicerad30 april 2007\\nFN:s CAT-kommitté har i ett yttrande prövat Sveriges efterlevnad av FN:s konvention mot tortyr (CAT). Regeringen publicerar en länk till yttrandet i fulltext samt en sammanfattning av yttrandet.\\nMålet rörde ursprungligen avvisning av tre bröder till Azerbajdzjan. Sedan den ena brodern och hans familj beviljats permanent uppehållstillstånd i Sverige avskrev kommittén klagomålet avseende den brodern. De två kvarvarande klagandena gjorde inför kommittén gällande att de i hemlandet riskerade att utsättas för tortyr eller annan behandling i strid med artikel 3 i konventionen till följd av en av brödernas påstådda politiska aktiviteter och medlemskap i det politiska oppositionspartiet ADP. Till stöd för klagomålet ingavs ett stort antal handlingar, bl.a. kallelser till polisförhör. Enligt kommittén visade den ambassadutredning som gjorts i målet på ett övertygande sätt att handlingarna var falska. Kommittén konstaterade att klagandena inte hade kunnat lägga fram motbevis och ansåg att de inte heller i övrigt gjort sannolikt att de skulle utsättas för behandling i strid med konventionen vid ett återvändande till hemlandet. Kommittén fann därför att en avvisning av bröderna till Azerbajdzjan inte skulle strida mot konventionen.\\nKonventionen antogs år 1984. FN:s CAT-kommitté övervakar att konventionen respekteras. Kommittén består av oberoende experter. Granskningen sker genom prövning av enskilda klagomål och av återkommande rapportering från konventionsstaterna.\\nPublicerad17 november 2023·TalfrånUlf Kristersson,Statsrådsberedningen\\nPublicerad17 november 2023·UttalandefrånRomina Pourmokhtari,Klimat- och näringslivsdepartementet\\nPublicerad17 november 2023·PressmeddelandefrånNiklas Wykman,Finansdepartementet\\nPublicerad17 november 2023·RemissfrånFinansdepartementet\\nPublicerad17 november 2023·Departementsserien och promemorior,Rättsliga dokumentfrånFinansdepartementet\\nRegeringskansliet103 33 StockholmVäxel 08-405 10 00\\nDet här är regeringens och Regeringskansliets gemensamma webbplats.</td>\n",
       "      <td>NO CONTENT</td>\n",
       "    </tr>\n",
       "  </tbody>\n",
       "</table>\n",
       "</div>"
      ],
      "text/plain": [
       "                                                                                                                                               Content Links  \\\n",
       "27078  https://www.regeringen.se/internationella-mr-granskningar-av-sverige/2007/04/cat-kommittens-granskning-2007-04-30-i-malet-e.r.k.-och-y.k.-mot-sverige   \n",
       "\n",
       "                                                                                                        Publishing Info  \\\n",
       "27078  Publicerad30 april 2007·Internationella MR-granskningar av SverigefrånJustitiedepartementet,Utrikesdepartementet   \n",
       "\n",
       "      Collected Links  \\\n",
       "27078      NO CONTENT   \n",
       "\n",
       "                                                                                                                                                                                                                                                                                                                                                                                                                                                                                                                                                                                                                                                                                                                                                                                                                                                                                                                                                                                                                                                                                                                                                                                                                                                                                                                                                                                                                                                                                                                                                                                                                                                                                                                                                                                                                                                                                                                                                                                                                                                                                                                 Outside PDF Text  \\\n",
       "27078  Publicerad30 april 2007\\nFN:s CAT-kommitté har i ett yttrande prövat Sveriges efterlevnad av FN:s konvention mot tortyr (CAT). Regeringen publicerar en länk till yttrandet i fulltext samt en sammanfattning av yttrandet.\\nMålet rörde ursprungligen avvisning av tre bröder till Azerbajdzjan. Sedan den ena brodern och hans familj beviljats permanent uppehållstillstånd i Sverige avskrev kommittén klagomålet avseende den brodern. De två kvarvarande klagandena gjorde inför kommittén gällande att de i hemlandet riskerade att utsättas för tortyr eller annan behandling i strid med artikel 3 i konventionen till följd av en av brödernas påstådda politiska aktiviteter och medlemskap i det politiska oppositionspartiet ADP. Till stöd för klagomålet ingavs ett stort antal handlingar, bl.a. kallelser till polisförhör. Enligt kommittén visade den ambassadutredning som gjorts i målet på ett övertygande sätt att handlingarna var falska. Kommittén konstaterade att klagandena inte hade kunnat lägga fram motbevis och ansåg att de inte heller i övrigt gjort sannolikt att de skulle utsättas för behandling i strid med konventionen vid ett återvändande till hemlandet. Kommittén fann därför att en avvisning av bröderna till Azerbajdzjan inte skulle strida mot konventionen.\\nKonventionen antogs år 1984. FN:s CAT-kommitté övervakar att konventionen respekteras. Kommittén består av oberoende experter. Granskningen sker genom prövning av enskilda klagomål och av återkommande rapportering från konventionsstaterna.\\nPublicerad17 november 2023·TalfrånUlf Kristersson,Statsrådsberedningen\\nPublicerad17 november 2023·UttalandefrånRomina Pourmokhtari,Klimat- och näringslivsdepartementet\\nPublicerad17 november 2023·PressmeddelandefrånNiklas Wykman,Finansdepartementet\\nPublicerad17 november 2023·RemissfrånFinansdepartementet\\nPublicerad17 november 2023·Departementsserien och promemorior,Rättsliga dokumentfrånFinansdepartementet\\nRegeringskansliet103 33 StockholmVäxel 08-405 10 00\\nDet här är regeringens och Regeringskansliets gemensamma webbplats.   \n",
       "\n",
       "      Full Collected Links  \n",
       "27078           NO CONTENT  "
      ]
     },
     "execution_count": 9,
     "metadata": {},
     "output_type": "execute_result"
    }
   ],
   "source": [
    "article_link_directory.tail(1)"
   ]
  },
  {
   "cell_type": "markdown",
   "metadata": {},
   "source": [
    "# Combine data"
   ]
  },
  {
   "cell_type": "markdown",
   "metadata": {},
   "source": [
    "### Combine Data Frames"
   ]
  },
  {
   "cell_type": "code",
   "execution_count": 10,
   "metadata": {},
   "outputs": [],
   "source": [
    "# Add Inside PDF Text to article_link_directory\n",
    "article_link_directory['Inside PDF Text'] = pdf_content['Inside PDF Text']"
   ]
  },
  {
   "cell_type": "code",
   "execution_count": 11,
   "metadata": {},
   "outputs": [
    {
     "data": {
      "text/html": [
       "<div>\n",
       "<style scoped>\n",
       "    .dataframe tbody tr th:only-of-type {\n",
       "        vertical-align: middle;\n",
       "    }\n",
       "\n",
       "    .dataframe tbody tr th {\n",
       "        vertical-align: top;\n",
       "    }\n",
       "\n",
       "    .dataframe thead th {\n",
       "        text-align: right;\n",
       "    }\n",
       "</style>\n",
       "<table border=\"1\" class=\"dataframe\">\n",
       "  <thead>\n",
       "    <tr style=\"text-align: right;\">\n",
       "      <th></th>\n",
       "      <th>Content Links</th>\n",
       "      <th>Publishing Info</th>\n",
       "      <th>Collected Links</th>\n",
       "      <th>Outside PDF Text</th>\n",
       "      <th>Full Collected Links</th>\n",
       "      <th>Inside PDF Text</th>\n",
       "    </tr>\n",
       "  </thead>\n",
       "  <tbody>\n",
       "    <tr>\n",
       "      <th>0</th>\n",
       "      <td>https://www.regeringen.se/remisser/2023/11/inbjudan-till-larosaten-myndigheter-och-organisationer-att-inkomma-med-synpunkter-till-regeringens-forskningspolitik/</td>\n",
       "      <td>Publicerad02 november 2023· Uppdaterad10 november 2023·RemissfrånUtbildningsdepartementet</td>\n",
       "      <td>/contentassets/c9981cbd1c054e3fa1a2a917d3e22939/inbjudan-till-larosatena-att-inkomma-med-underlag-till-regeringens-forskningspolitik.pdf</td>\n",
       "      <td>NO CONTENT</td>\n",
       "      <td>https://www.regeringen.se/contentassets/c9981cbd1c054e3fa1a2a917d3e22939/inbjudan-till-larosatena-att-inkomma-med-underlag-till-regeringens-forskningspolitik.pdf</td>\n",
       "      <td>\\n  \\n \\n \\n2023 -04-26 \\nU2023/01467  \\n  \\n  \\n  \\nUtbildningsdepartementet  \\nUtbildningsministern  Rektorer enligt sändlista   \\n \\n \\nTelefonväxel: 08 -405 10 00  \\nFax: 08 -24 46 31  \\nWebb: www.regeringen.se  Postadress: 103 33 Stockholm  \\nBesöksadress: Drottninggatan 16  \\nE-post: u.registrator@regeringskansliet.se  \\n \\nInbjudan att inkomma med underlag till regeringens forsknings - \\noch innovationspolitik  \\nSom ett led i regeringens arbete med en kommande forsknings - och \\ninnovationspolitisk proposition, bjuder regeringen in universitet och \\nhögskolor att inkomma med underlag som kan bidra till regeringens \\nforsknings - och innovationspolitik, vars fokus är excellens, internationa -\\nlisering och innovation.  \\nI regeringsförklaringen 2022 har statsministern uttalat att utbildning och \\nforskning av hög kvalitet är h elt avgörande för Sveriges välstånd  och att det \\nsvenska näringslivet är ett drivhus för innovation och är världsledande inom \\nhållbarhet . Obunden forskning är en omistlig beståndsdel i det öppna sam -\\nhället.  Högre utbildning och forskning är avgörande för Sv eriges kompetens -\\nförsörjning och för att Sverige ska kunna möta olika samhällsutmaningar.  \\nRegeringen anser att en tydlig inriktning mot excellens krävs för att svensk \\nforskning ska vara konkurrenskraftig. Utbildning och forskning ska hålla en \\ninternationel lt sett hög kvalitet och bedrivas effektivt. Internationalisering, \\ninklusive student -, doktorand - och forskarmobilitet, är viktiga medel för att \\nsvensk forskning och innovation ska kunna nå högsta kvalitet. Det ska finnas \\nbra villkor för forskning och inno vation för det svenska näringslivet. Läro -\\nsätena ska ha goda förutsättningar att nyttiggöra forskningsresultat samt att \\nbidra till innovation och svensk konkurrenskraft . Den akademiska friheten \\nska främjas, värnas och bidra till ett öppet samhälle. Lärosät ena ska samverka \\nmed det omgivande samhället för ömsesidigt utbyte och verka för att utbild -\\nning och forskning kommer samhället till nytta. En fråga som vi  behöver ha \\nett förstärkt fokus på framöver är  samtidigt  de utmaningar och säkerhets -\\nrisker  som internationa lisering  kan innebära . 2 (4) \\n \\n Med detta brev vill jag inbjuda er att inkomma med underlag inför \\nkommande forsknings - och innovationspolitiska proposition. Delge gärna de \\nforsknings prioriteringar som har gjorts på ert lärosäte och hur den framtida \\ninriktningen ser ut. Kommentera i synnerhet hur lärosätets verksamhet \\nförhåller sig till de politiska prioriteringarna hög kvalitet i forskning och \\nutbildning, internationalisering  och innovation.  Kommentera även ert arbete \\nmed samverkan, med fokus på hur fors kningsresultat kan nyttiggöras.   \\nKommentera gärna i ert underlag hur ni arbetar med profilområden. Att \\nlärosätena arbetar strategiskt med att profilera sin forskning kan bidra till \\nexcellens och konkurrenskraft och regeringen kommer därför följa det \\narbete  som pågår och vilka överväganden som lärosätena hittills har gjort när \\ndet gäller profilområden. Regeringen avser att i den forsknings - och innova -\\ntions politiska propositionen återkomma i frågan om hur lärosätenas anslag \\ntill forskning och utbildning på forskarnivå ska fördelas. Något ansöknings -\\nförfarande rörande profilområden kommer inte att initieras innan dess.  \\nEventuella synpunkter avseende den statliga organisationen för extern \\nforsknings - och innovationsfinansiering  lämnas inte i det ta underlag. Det \\nkommer att finnas möjlighet att lämna sådana synpunkter efter att den \\npågående utredningen En effektiv organisation för statlig forsknings -\\nfinansiering (U2022:06) har lämnat sitt betänkande.  \\nRegeringen har även gett Forskningsrådet för hä lsa, arbetsliv och välfärd \\n(Forte), Forskningsrådet för miljö, areella näringar och samhällsbyggande \\n(Formas), Rymdstyrelsen, Statens energimyndighet , Verket för innovations -\\nsystem (Vinnova) och Vetenskapsrådet i uppdrag att utifrån sina respektive \\nansvars områden göra analyser och lämna rekommendationer som kan bidra \\ntill regeringens forsknings - och innovationspolitik (dnr. U2023/01317 ).  \\nSenas t den 31  oktober  2023 önskar Utbildningsdepartementet  ta emot \\nunderlaget till u.registrator@regeringskansliet.se . Ange dnr. U2023/01467.  \\nNär det gäller Sveriges Lantbruksuniversitet skickas underlag et till både \\nUtbildningsdepartementet och Landsbygds - och infrastruktur departementet. \\nSvaren kommer att läggas ut på regeringens hemsida.  \\nVänliga hälsningar,  \\n \\nMats Persson  3 (4) \\n \\n Sändlista  \\nUppsala universitet  \\nLunds universitet  \\nGöteborgs universitet  \\nStockholms universitet  \\nUmeå universitet  \\nLinköpings universitet  \\nKarolinska institutet  \\nKungl. Tekniska högskolan  \\nLuleå tekniska universitet  \\nKarlstads universitet  \\nLinnéuniversitetet  \\nÖrebro universitet  \\nMittuniversitetet  \\nMalmö universitet  \\nMälardal ens universitet  \\nSveriges lantbruksuniversitet  \\nBlekinge tekniska högskola  \\nFörsvarshögskolan  \\nGymnastik - och idrottshögskolan  \\nHögskolan i Borås  \\nHögskolan Dalarna  \\nHögskolan i Gävle  \\nHögskolan i Halmstad  \\nHögskolan Kristianstad  \\nHögskolan i Skövde  \\nHögskolan Väst  \\nKonstfack  \\nKungl. Konsthögskolan  \\nKungl. Musikhögskolan i Stockholm  \\nStockholms konstnärliga högskola  \\nSödertörns högskola  \\nAkademi för Ledarskap och Teologi  \\nBeckmans skola AB  \\nChalmers Tekniska Högskola AB  \\nEnskilda Högskolan Stockholm AB  \\nEricastiftelsen  \\nJohannelunds teologiska högskola  4 (4) \\n \\n Handelshögskolan i Stockholm  \\nMarie Cederschiöld högskola AB  \\nNewmaninstitutet AB  \\nSophiahemmet, Ideell förening  \\nStiftelsen Högskolan i Jönköping  \\nStiftelsen Rödakorshemmet  \\nStiftelsen Stockholms Musikpedagogiska  Institut  \\n \\n \\n</td>\n",
       "    </tr>\n",
       "  </tbody>\n",
       "</table>\n",
       "</div>"
      ],
      "text/plain": [
       "                                                                                                                                                      Content Links  \\\n",
       "0  https://www.regeringen.se/remisser/2023/11/inbjudan-till-larosaten-myndigheter-och-organisationer-att-inkomma-med-synpunkter-till-regeringens-forskningspolitik/   \n",
       "\n",
       "                                                                             Publishing Info  \\\n",
       "0  Publicerad02 november 2023· Uppdaterad10 november 2023·RemissfrånUtbildningsdepartementet   \n",
       "\n",
       "                                                                                                                            Collected Links  \\\n",
       "0  /contentassets/c9981cbd1c054e3fa1a2a917d3e22939/inbjudan-till-larosatena-att-inkomma-med-underlag-till-regeringens-forskningspolitik.pdf   \n",
       "\n",
       "  Outside PDF Text  \\\n",
       "0       NO CONTENT   \n",
       "\n",
       "                                                                                                                                                Full Collected Links  \\\n",
       "0  https://www.regeringen.se/contentassets/c9981cbd1c054e3fa1a2a917d3e22939/inbjudan-till-larosatena-att-inkomma-med-underlag-till-regeringens-forskningspolitik.pdf   \n",
       "\n",
       "                                                                                                                                                                                                                                                                                                                                                                                                                                                                                                                                                                                                                                                                                                                                                                                                                                                                                                                                                                                                                                                                                                                                                                                                                                                                                                                                                                                                                                                                                                                                                                                                                                                                                                                                                                                                                                                                                                                                                                                                                                                                                                                                                                                                                                                                                                                                                                                                                                                                                                                                                                                                                                                                                                                                                                                                                                                                                                                                                                                                                                                                                                                                                                                                                                                                                                                                                                                                                                                                                                                                                                                                                                                                                                                                                                                                                                                                                                                                                                                                                                                                                                                                                                                                                                                                                                                                                                                                                                                                                                                                                                                                                                                                                                                                                                                                                                                                                                                                                                                                                                                                                                                                                                                                                                                                                                                                                                                                                                                                                                                                                                                                                                                                                                                                                                                                                                                                                                                                                                                                                                          Inside PDF Text  \n",
       "0      \\n  \\n \\n \\n2023 -04-26 \\nU2023/01467  \\n  \\n  \\n  \\nUtbildningsdepartementet  \\nUtbildningsministern  Rektorer enligt sändlista   \\n \\n \\nTelefonväxel: 08 -405 10 00  \\nFax: 08 -24 46 31  \\nWebb: www.regeringen.se  Postadress: 103 33 Stockholm  \\nBesöksadress: Drottninggatan 16  \\nE-post: u.registrator@regeringskansliet.se  \\n \\nInbjudan att inkomma med underlag till regeringens forsknings - \\noch innovationspolitik  \\nSom ett led i regeringens arbete med en kommande forsknings - och \\ninnovationspolitisk proposition, bjuder regeringen in universitet och \\nhögskolor att inkomma med underlag som kan bidra till regeringens \\nforsknings - och innovationspolitik, vars fokus är excellens, internationa -\\nlisering och innovation.  \\nI regeringsförklaringen 2022 har statsministern uttalat att utbildning och \\nforskning av hög kvalitet är h elt avgörande för Sveriges välstånd  och att det \\nsvenska näringslivet är ett drivhus för innovation och är världsledande inom \\nhållbarhet . Obunden forskning är en omistlig beståndsdel i det öppna sam -\\nhället.  Högre utbildning och forskning är avgörande för Sv eriges kompetens -\\nförsörjning och för att Sverige ska kunna möta olika samhällsutmaningar.  \\nRegeringen anser att en tydlig inriktning mot excellens krävs för att svensk \\nforskning ska vara konkurrenskraftig. Utbildning och forskning ska hålla en \\ninternationel lt sett hög kvalitet och bedrivas effektivt. Internationalisering, \\ninklusive student -, doktorand - och forskarmobilitet, är viktiga medel för att \\nsvensk forskning och innovation ska kunna nå högsta kvalitet. Det ska finnas \\nbra villkor för forskning och inno vation för det svenska näringslivet. Läro -\\nsätena ska ha goda förutsättningar att nyttiggöra forskningsresultat samt att \\nbidra till innovation och svensk konkurrenskraft . Den akademiska friheten \\nska främjas, värnas och bidra till ett öppet samhälle. Lärosät ena ska samverka \\nmed det omgivande samhället för ömsesidigt utbyte och verka för att utbild -\\nning och forskning kommer samhället till nytta. En fråga som vi  behöver ha \\nett förstärkt fokus på framöver är  samtidigt  de utmaningar och säkerhets -\\nrisker  som internationa lisering  kan innebära . 2 (4) \\n \\n Med detta brev vill jag inbjuda er att inkomma med underlag inför \\nkommande forsknings - och innovationspolitiska proposition. Delge gärna de \\nforsknings prioriteringar som har gjorts på ert lärosäte och hur den framtida \\ninriktningen ser ut. Kommentera i synnerhet hur lärosätets verksamhet \\nförhåller sig till de politiska prioriteringarna hög kvalitet i forskning och \\nutbildning, internationalisering  och innovation.  Kommentera även ert arbete \\nmed samverkan, med fokus på hur fors kningsresultat kan nyttiggöras.   \\nKommentera gärna i ert underlag hur ni arbetar med profilområden. Att \\nlärosätena arbetar strategiskt med att profilera sin forskning kan bidra till \\nexcellens och konkurrenskraft och regeringen kommer därför följa det \\narbete  som pågår och vilka överväganden som lärosätena hittills har gjort när \\ndet gäller profilområden. Regeringen avser att i den forsknings - och innova -\\ntions politiska propositionen återkomma i frågan om hur lärosätenas anslag \\ntill forskning och utbildning på forskarnivå ska fördelas. Något ansöknings -\\nförfarande rörande profilområden kommer inte att initieras innan dess.  \\nEventuella synpunkter avseende den statliga organisationen för extern \\nforsknings - och innovationsfinansiering  lämnas inte i det ta underlag. Det \\nkommer att finnas möjlighet att lämna sådana synpunkter efter att den \\npågående utredningen En effektiv organisation för statlig forsknings -\\nfinansiering (U2022:06) har lämnat sitt betänkande.  \\nRegeringen har även gett Forskningsrådet för hä lsa, arbetsliv och välfärd \\n(Forte), Forskningsrådet för miljö, areella näringar och samhällsbyggande \\n(Formas), Rymdstyrelsen, Statens energimyndighet , Verket för innovations -\\nsystem (Vinnova) och Vetenskapsrådet i uppdrag att utifrån sina respektive \\nansvars områden göra analyser och lämna rekommendationer som kan bidra \\ntill regeringens forsknings - och innovationspolitik (dnr. U2023/01317 ).  \\nSenas t den 31  oktober  2023 önskar Utbildningsdepartementet  ta emot \\nunderlaget till u.registrator@regeringskansliet.se . Ange dnr. U2023/01467.  \\nNär det gäller Sveriges Lantbruksuniversitet skickas underlag et till både \\nUtbildningsdepartementet och Landsbygds - och infrastruktur departementet. \\nSvaren kommer att läggas ut på regeringens hemsida.  \\nVänliga hälsningar,  \\n \\nMats Persson  3 (4) \\n \\n Sändlista  \\nUppsala universitet  \\nLunds universitet  \\nGöteborgs universitet  \\nStockholms universitet  \\nUmeå universitet  \\nLinköpings universitet  \\nKarolinska institutet  \\nKungl. Tekniska högskolan  \\nLuleå tekniska universitet  \\nKarlstads universitet  \\nLinnéuniversitetet  \\nÖrebro universitet  \\nMittuniversitetet  \\nMalmö universitet  \\nMälardal ens universitet  \\nSveriges lantbruksuniversitet  \\nBlekinge tekniska högskola  \\nFörsvarshögskolan  \\nGymnastik - och idrottshögskolan  \\nHögskolan i Borås  \\nHögskolan Dalarna  \\nHögskolan i Gävle  \\nHögskolan i Halmstad  \\nHögskolan Kristianstad  \\nHögskolan i Skövde  \\nHögskolan Väst  \\nKonstfack  \\nKungl. Konsthögskolan  \\nKungl. Musikhögskolan i Stockholm  \\nStockholms konstnärliga högskola  \\nSödertörns högskola  \\nAkademi för Ledarskap och Teologi  \\nBeckmans skola AB  \\nChalmers Tekniska Högskola AB  \\nEnskilda Högskolan Stockholm AB  \\nEricastiftelsen  \\nJohannelunds teologiska högskola  4 (4) \\n \\n Handelshögskolan i Stockholm  \\nMarie Cederschiöld högskola AB  \\nNewmaninstitutet AB  \\nSophiahemmet, Ideell förening  \\nStiftelsen Högskolan i Jönköping  \\nStiftelsen Rödakorshemmet  \\nStiftelsen Stockholms Musikpedagogiska  Institut  \\n \\n \\n   "
      ]
     },
     "execution_count": 11,
     "metadata": {},
     "output_type": "execute_result"
    }
   ],
   "source": [
    "article_link_directory.head(1)"
   ]
  },
  {
   "cell_type": "code",
   "execution_count": 12,
   "metadata": {},
   "outputs": [
    {
     "data": {
      "text/html": [
       "<div>\n",
       "<style scoped>\n",
       "    .dataframe tbody tr th:only-of-type {\n",
       "        vertical-align: middle;\n",
       "    }\n",
       "\n",
       "    .dataframe tbody tr th {\n",
       "        vertical-align: top;\n",
       "    }\n",
       "\n",
       "    .dataframe thead th {\n",
       "        text-align: right;\n",
       "    }\n",
       "</style>\n",
       "<table border=\"1\" class=\"dataframe\">\n",
       "  <thead>\n",
       "    <tr style=\"text-align: right;\">\n",
       "      <th></th>\n",
       "      <th>Content Links</th>\n",
       "      <th>Publishing Info</th>\n",
       "      <th>Collected Links</th>\n",
       "      <th>Outside PDF Text</th>\n",
       "      <th>Full Collected Links</th>\n",
       "      <th>Inside PDF Text</th>\n",
       "    </tr>\n",
       "  </thead>\n",
       "  <tbody>\n",
       "    <tr>\n",
       "      <th>27078</th>\n",
       "      <td>https://www.regeringen.se/internationella-mr-granskningar-av-sverige/2007/04/cat-kommittens-granskning-2007-04-30-i-malet-e.r.k.-och-y.k.-mot-sverige</td>\n",
       "      <td>Publicerad30 april 2007·Internationella MR-granskningar av SverigefrånJustitiedepartementet,Utrikesdepartementet</td>\n",
       "      <td>NO CONTENT</td>\n",
       "      <td>Publicerad30 april 2007\\nFN:s CAT-kommitté har i ett yttrande prövat Sveriges efterlevnad av FN:s konvention mot tortyr (CAT). Regeringen publicerar en länk till yttrandet i fulltext samt en sammanfattning av yttrandet.\\nMålet rörde ursprungligen avvisning av tre bröder till Azerbajdzjan. Sedan den ena brodern och hans familj beviljats permanent uppehållstillstånd i Sverige avskrev kommittén klagomålet avseende den brodern. De två kvarvarande klagandena gjorde inför kommittén gällande att de i hemlandet riskerade att utsättas för tortyr eller annan behandling i strid med artikel 3 i konventionen till följd av en av brödernas påstådda politiska aktiviteter och medlemskap i det politiska oppositionspartiet ADP. Till stöd för klagomålet ingavs ett stort antal handlingar, bl.a. kallelser till polisförhör. Enligt kommittén visade den ambassadutredning som gjorts i målet på ett övertygande sätt att handlingarna var falska. Kommittén konstaterade att klagandena inte hade kunnat lägga fram motbevis och ansåg att de inte heller i övrigt gjort sannolikt att de skulle utsättas för behandling i strid med konventionen vid ett återvändande till hemlandet. Kommittén fann därför att en avvisning av bröderna till Azerbajdzjan inte skulle strida mot konventionen.\\nKonventionen antogs år 1984. FN:s CAT-kommitté övervakar att konventionen respekteras. Kommittén består av oberoende experter. Granskningen sker genom prövning av enskilda klagomål och av återkommande rapportering från konventionsstaterna.\\nPublicerad17 november 2023·TalfrånUlf Kristersson,Statsrådsberedningen\\nPublicerad17 november 2023·UttalandefrånRomina Pourmokhtari,Klimat- och näringslivsdepartementet\\nPublicerad17 november 2023·PressmeddelandefrånNiklas Wykman,Finansdepartementet\\nPublicerad17 november 2023·RemissfrånFinansdepartementet\\nPublicerad17 november 2023·Departementsserien och promemorior,Rättsliga dokumentfrånFinansdepartementet\\nRegeringskansliet103 33 StockholmVäxel 08-405 10 00\\nDet här är regeringens och Regeringskansliets gemensamma webbplats.</td>\n",
       "      <td>NO CONTENT</td>\n",
       "      <td>NO CONTENT</td>\n",
       "    </tr>\n",
       "  </tbody>\n",
       "</table>\n",
       "</div>"
      ],
      "text/plain": [
       "                                                                                                                                               Content Links  \\\n",
       "27078  https://www.regeringen.se/internationella-mr-granskningar-av-sverige/2007/04/cat-kommittens-granskning-2007-04-30-i-malet-e.r.k.-och-y.k.-mot-sverige   \n",
       "\n",
       "                                                                                                        Publishing Info  \\\n",
       "27078  Publicerad30 april 2007·Internationella MR-granskningar av SverigefrånJustitiedepartementet,Utrikesdepartementet   \n",
       "\n",
       "      Collected Links  \\\n",
       "27078      NO CONTENT   \n",
       "\n",
       "                                                                                                                                                                                                                                                                                                                                                                                                                                                                                                                                                                                                                                                                                                                                                                                                                                                                                                                                                                                                                                                                                                                                                                                                                                                                                                                                                                                                                                                                                                                                                                                                                                                                                                                                                                                                                                                                                                                                                                                                                                                                                                                 Outside PDF Text  \\\n",
       "27078  Publicerad30 april 2007\\nFN:s CAT-kommitté har i ett yttrande prövat Sveriges efterlevnad av FN:s konvention mot tortyr (CAT). Regeringen publicerar en länk till yttrandet i fulltext samt en sammanfattning av yttrandet.\\nMålet rörde ursprungligen avvisning av tre bröder till Azerbajdzjan. Sedan den ena brodern och hans familj beviljats permanent uppehållstillstånd i Sverige avskrev kommittén klagomålet avseende den brodern. De två kvarvarande klagandena gjorde inför kommittén gällande att de i hemlandet riskerade att utsättas för tortyr eller annan behandling i strid med artikel 3 i konventionen till följd av en av brödernas påstådda politiska aktiviteter och medlemskap i det politiska oppositionspartiet ADP. Till stöd för klagomålet ingavs ett stort antal handlingar, bl.a. kallelser till polisförhör. Enligt kommittén visade den ambassadutredning som gjorts i målet på ett övertygande sätt att handlingarna var falska. Kommittén konstaterade att klagandena inte hade kunnat lägga fram motbevis och ansåg att de inte heller i övrigt gjort sannolikt att de skulle utsättas för behandling i strid med konventionen vid ett återvändande till hemlandet. Kommittén fann därför att en avvisning av bröderna till Azerbajdzjan inte skulle strida mot konventionen.\\nKonventionen antogs år 1984. FN:s CAT-kommitté övervakar att konventionen respekteras. Kommittén består av oberoende experter. Granskningen sker genom prövning av enskilda klagomål och av återkommande rapportering från konventionsstaterna.\\nPublicerad17 november 2023·TalfrånUlf Kristersson,Statsrådsberedningen\\nPublicerad17 november 2023·UttalandefrånRomina Pourmokhtari,Klimat- och näringslivsdepartementet\\nPublicerad17 november 2023·PressmeddelandefrånNiklas Wykman,Finansdepartementet\\nPublicerad17 november 2023·RemissfrånFinansdepartementet\\nPublicerad17 november 2023·Departementsserien och promemorior,Rättsliga dokumentfrånFinansdepartementet\\nRegeringskansliet103 33 StockholmVäxel 08-405 10 00\\nDet här är regeringens och Regeringskansliets gemensamma webbplats.   \n",
       "\n",
       "      Full Collected Links Inside PDF Text  \n",
       "27078           NO CONTENT      NO CONTENT  "
      ]
     },
     "execution_count": 12,
     "metadata": {},
     "output_type": "execute_result"
    }
   ],
   "source": [
    "article_link_directory.tail(1)"
   ]
  },
  {
   "cell_type": "markdown",
   "metadata": {},
   "source": [
    "### Create a new column \"Text\" holding either inside or outside pdf text for each document"
   ]
  },
  {
   "cell_type": "code",
   "execution_count": 13,
   "metadata": {},
   "outputs": [],
   "source": [
    "# Create a new column \"Text\" in article_link_directory based on conditions\n",
    "article_link_directory['Text'] = article_link_directory.apply(lambda row: row['Inside PDF Text'] if row['Outside PDF Text'] == 'NO CONTENT' else row['Outside PDF Text'], axis=1)"
   ]
  },
  {
   "cell_type": "code",
   "execution_count": 14,
   "metadata": {},
   "outputs": [
    {
     "data": {
      "text/html": [
       "<div>\n",
       "<style scoped>\n",
       "    .dataframe tbody tr th:only-of-type {\n",
       "        vertical-align: middle;\n",
       "    }\n",
       "\n",
       "    .dataframe tbody tr th {\n",
       "        vertical-align: top;\n",
       "    }\n",
       "\n",
       "    .dataframe thead th {\n",
       "        text-align: right;\n",
       "    }\n",
       "</style>\n",
       "<table border=\"1\" class=\"dataframe\">\n",
       "  <thead>\n",
       "    <tr style=\"text-align: right;\">\n",
       "      <th></th>\n",
       "      <th>Content Links</th>\n",
       "      <th>Publishing Info</th>\n",
       "      <th>Collected Links</th>\n",
       "      <th>Outside PDF Text</th>\n",
       "      <th>Full Collected Links</th>\n",
       "      <th>Inside PDF Text</th>\n",
       "      <th>Text</th>\n",
       "    </tr>\n",
       "  </thead>\n",
       "  <tbody>\n",
       "    <tr>\n",
       "      <th>0</th>\n",
       "      <td>https://www.regeringen.se/remisser/2023/11/inbjudan-till-larosaten-myndigheter-och-organisationer-att-inkomma-med-synpunkter-till-regeringens-forskningspolitik/</td>\n",
       "      <td>Publicerad02 november 2023· Uppdaterad10 november 2023·RemissfrånUtbildningsdepartementet</td>\n",
       "      <td>/contentassets/c9981cbd1c054e3fa1a2a917d3e22939/inbjudan-till-larosatena-att-inkomma-med-underlag-till-regeringens-forskningspolitik.pdf</td>\n",
       "      <td>NO CONTENT</td>\n",
       "      <td>https://www.regeringen.se/contentassets/c9981cbd1c054e3fa1a2a917d3e22939/inbjudan-till-larosatena-att-inkomma-med-underlag-till-regeringens-forskningspolitik.pdf</td>\n",
       "      <td>\\n  \\n \\n \\n2023 -04-26 \\nU2023/01467  \\n  \\n  \\n  \\nUtbildningsdepartementet  \\nUtbildningsministern  Rektorer enligt sändlista   \\n \\n \\nTelefonväxel: 08 -405 10 00  \\nFax: 08 -24 46 31  \\nWebb: www.regeringen.se  Postadress: 103 33 Stockholm  \\nBesöksadress: Drottninggatan 16  \\nE-post: u.registrator@regeringskansliet.se  \\n \\nInbjudan att inkomma med underlag till regeringens forsknings - \\noch innovationspolitik  \\nSom ett led i regeringens arbete med en kommande forsknings - och \\ninnovationspolitisk proposition, bjuder regeringen in universitet och \\nhögskolor att inkomma med underlag som kan bidra till regeringens \\nforsknings - och innovationspolitik, vars fokus är excellens, internationa -\\nlisering och innovation.  \\nI regeringsförklaringen 2022 har statsministern uttalat att utbildning och \\nforskning av hög kvalitet är h elt avgörande för Sveriges välstånd  och att det \\nsvenska näringslivet är ett drivhus för innovation och är världsledande inom \\nhållbarhet . Obunden forskning är en omistlig beståndsdel i det öppna sam -\\nhället.  Högre utbildning och forskning är avgörande för Sv eriges kompetens -\\nförsörjning och för att Sverige ska kunna möta olika samhällsutmaningar.  \\nRegeringen anser att en tydlig inriktning mot excellens krävs för att svensk \\nforskning ska vara konkurrenskraftig. Utbildning och forskning ska hålla en \\ninternationel lt sett hög kvalitet och bedrivas effektivt. Internationalisering, \\ninklusive student -, doktorand - och forskarmobilitet, är viktiga medel för att \\nsvensk forskning och innovation ska kunna nå högsta kvalitet. Det ska finnas \\nbra villkor för forskning och inno vation för det svenska näringslivet. Läro -\\nsätena ska ha goda förutsättningar att nyttiggöra forskningsresultat samt att \\nbidra till innovation och svensk konkurrenskraft . Den akademiska friheten \\nska främjas, värnas och bidra till ett öppet samhälle. Lärosät ena ska samverka \\nmed det omgivande samhället för ömsesidigt utbyte och verka för att utbild -\\nning och forskning kommer samhället till nytta. En fråga som vi  behöver ha \\nett förstärkt fokus på framöver är  samtidigt  de utmaningar och säkerhets -\\nrisker  som internationa lisering  kan innebära . 2 (4) \\n \\n Med detta brev vill jag inbjuda er att inkomma med underlag inför \\nkommande forsknings - och innovationspolitiska proposition. Delge gärna de \\nforsknings prioriteringar som har gjorts på ert lärosäte och hur den framtida \\ninriktningen ser ut. Kommentera i synnerhet hur lärosätets verksamhet \\nförhåller sig till de politiska prioriteringarna hög kvalitet i forskning och \\nutbildning, internationalisering  och innovation.  Kommentera även ert arbete \\nmed samverkan, med fokus på hur fors kningsresultat kan nyttiggöras.   \\nKommentera gärna i ert underlag hur ni arbetar med profilområden. Att \\nlärosätena arbetar strategiskt med att profilera sin forskning kan bidra till \\nexcellens och konkurrenskraft och regeringen kommer därför följa det \\narbete  som pågår och vilka överväganden som lärosätena hittills har gjort när \\ndet gäller profilområden. Regeringen avser att i den forsknings - och innova -\\ntions politiska propositionen återkomma i frågan om hur lärosätenas anslag \\ntill forskning och utbildning på forskarnivå ska fördelas. Något ansöknings -\\nförfarande rörande profilområden kommer inte att initieras innan dess.  \\nEventuella synpunkter avseende den statliga organisationen för extern \\nforsknings - och innovationsfinansiering  lämnas inte i det ta underlag. Det \\nkommer att finnas möjlighet att lämna sådana synpunkter efter att den \\npågående utredningen En effektiv organisation för statlig forsknings -\\nfinansiering (U2022:06) har lämnat sitt betänkande.  \\nRegeringen har även gett Forskningsrådet för hä lsa, arbetsliv och välfärd \\n(Forte), Forskningsrådet för miljö, areella näringar och samhällsbyggande \\n(Formas), Rymdstyrelsen, Statens energimyndighet , Verket för innovations -\\nsystem (Vinnova) och Vetenskapsrådet i uppdrag att utifrån sina respektive \\nansvars områden göra analyser och lämna rekommendationer som kan bidra \\ntill regeringens forsknings - och innovationspolitik (dnr. U2023/01317 ).  \\nSenas t den 31  oktober  2023 önskar Utbildningsdepartementet  ta emot \\nunderlaget till u.registrator@regeringskansliet.se . Ange dnr. U2023/01467.  \\nNär det gäller Sveriges Lantbruksuniversitet skickas underlag et till både \\nUtbildningsdepartementet och Landsbygds - och infrastruktur departementet. \\nSvaren kommer att läggas ut på regeringens hemsida.  \\nVänliga hälsningar,  \\n \\nMats Persson  3 (4) \\n \\n Sändlista  \\nUppsala universitet  \\nLunds universitet  \\nGöteborgs universitet  \\nStockholms universitet  \\nUmeå universitet  \\nLinköpings universitet  \\nKarolinska institutet  \\nKungl. Tekniska högskolan  \\nLuleå tekniska universitet  \\nKarlstads universitet  \\nLinnéuniversitetet  \\nÖrebro universitet  \\nMittuniversitetet  \\nMalmö universitet  \\nMälardal ens universitet  \\nSveriges lantbruksuniversitet  \\nBlekinge tekniska högskola  \\nFörsvarshögskolan  \\nGymnastik - och idrottshögskolan  \\nHögskolan i Borås  \\nHögskolan Dalarna  \\nHögskolan i Gävle  \\nHögskolan i Halmstad  \\nHögskolan Kristianstad  \\nHögskolan i Skövde  \\nHögskolan Väst  \\nKonstfack  \\nKungl. Konsthögskolan  \\nKungl. Musikhögskolan i Stockholm  \\nStockholms konstnärliga högskola  \\nSödertörns högskola  \\nAkademi för Ledarskap och Teologi  \\nBeckmans skola AB  \\nChalmers Tekniska Högskola AB  \\nEnskilda Högskolan Stockholm AB  \\nEricastiftelsen  \\nJohannelunds teologiska högskola  4 (4) \\n \\n Handelshögskolan i Stockholm  \\nMarie Cederschiöld högskola AB  \\nNewmaninstitutet AB  \\nSophiahemmet, Ideell förening  \\nStiftelsen Högskolan i Jönköping  \\nStiftelsen Rödakorshemmet  \\nStiftelsen Stockholms Musikpedagogiska  Institut  \\n \\n \\n</td>\n",
       "      <td>\\n  \\n \\n \\n2023 -04-26 \\nU2023/01467  \\n  \\n  \\n  \\nUtbildningsdepartementet  \\nUtbildningsministern  Rektorer enligt sändlista   \\n \\n \\nTelefonväxel: 08 -405 10 00  \\nFax: 08 -24 46 31  \\nWebb: www.regeringen.se  Postadress: 103 33 Stockholm  \\nBesöksadress: Drottninggatan 16  \\nE-post: u.registrator@regeringskansliet.se  \\n \\nInbjudan att inkomma med underlag till regeringens forsknings - \\noch innovationspolitik  \\nSom ett led i regeringens arbete med en kommande forsknings - och \\ninnovationspolitisk proposition, bjuder regeringen in universitet och \\nhögskolor att inkomma med underlag som kan bidra till regeringens \\nforsknings - och innovationspolitik, vars fokus är excellens, internationa -\\nlisering och innovation.  \\nI regeringsförklaringen 2022 har statsministern uttalat att utbildning och \\nforskning av hög kvalitet är h elt avgörande för Sveriges välstånd  och att det \\nsvenska näringslivet är ett drivhus för innovation och är världsledande inom \\nhållbarhet . Obunden forskning är en omistlig beståndsdel i det öppna sam -\\nhället.  Högre utbildning och forskning är avgörande för Sv eriges kompetens -\\nförsörjning och för att Sverige ska kunna möta olika samhällsutmaningar.  \\nRegeringen anser att en tydlig inriktning mot excellens krävs för att svensk \\nforskning ska vara konkurrenskraftig. Utbildning och forskning ska hålla en \\ninternationel lt sett hög kvalitet och bedrivas effektivt. Internationalisering, \\ninklusive student -, doktorand - och forskarmobilitet, är viktiga medel för att \\nsvensk forskning och innovation ska kunna nå högsta kvalitet. Det ska finnas \\nbra villkor för forskning och inno vation för det svenska näringslivet. Läro -\\nsätena ska ha goda förutsättningar att nyttiggöra forskningsresultat samt att \\nbidra till innovation och svensk konkurrenskraft . Den akademiska friheten \\nska främjas, värnas och bidra till ett öppet samhälle. Lärosät ena ska samverka \\nmed det omgivande samhället för ömsesidigt utbyte och verka för att utbild -\\nning och forskning kommer samhället till nytta. En fråga som vi  behöver ha \\nett förstärkt fokus på framöver är  samtidigt  de utmaningar och säkerhets -\\nrisker  som internationa lisering  kan innebära . 2 (4) \\n \\n Med detta brev vill jag inbjuda er att inkomma med underlag inför \\nkommande forsknings - och innovationspolitiska proposition. Delge gärna de \\nforsknings prioriteringar som har gjorts på ert lärosäte och hur den framtida \\ninriktningen ser ut. Kommentera i synnerhet hur lärosätets verksamhet \\nförhåller sig till de politiska prioriteringarna hög kvalitet i forskning och \\nutbildning, internationalisering  och innovation.  Kommentera även ert arbete \\nmed samverkan, med fokus på hur fors kningsresultat kan nyttiggöras.   \\nKommentera gärna i ert underlag hur ni arbetar med profilområden. Att \\nlärosätena arbetar strategiskt med att profilera sin forskning kan bidra till \\nexcellens och konkurrenskraft och regeringen kommer därför följa det \\narbete  som pågår och vilka överväganden som lärosätena hittills har gjort när \\ndet gäller profilområden. Regeringen avser att i den forsknings - och innova -\\ntions politiska propositionen återkomma i frågan om hur lärosätenas anslag \\ntill forskning och utbildning på forskarnivå ska fördelas. Något ansöknings -\\nförfarande rörande profilområden kommer inte att initieras innan dess.  \\nEventuella synpunkter avseende den statliga organisationen för extern \\nforsknings - och innovationsfinansiering  lämnas inte i det ta underlag. Det \\nkommer att finnas möjlighet att lämna sådana synpunkter efter att den \\npågående utredningen En effektiv organisation för statlig forsknings -\\nfinansiering (U2022:06) har lämnat sitt betänkande.  \\nRegeringen har även gett Forskningsrådet för hä lsa, arbetsliv och välfärd \\n(Forte), Forskningsrådet för miljö, areella näringar och samhällsbyggande \\n(Formas), Rymdstyrelsen, Statens energimyndighet , Verket för innovations -\\nsystem (Vinnova) och Vetenskapsrådet i uppdrag att utifrån sina respektive \\nansvars områden göra analyser och lämna rekommendationer som kan bidra \\ntill regeringens forsknings - och innovationspolitik (dnr. U2023/01317 ).  \\nSenas t den 31  oktober  2023 önskar Utbildningsdepartementet  ta emot \\nunderlaget till u.registrator@regeringskansliet.se . Ange dnr. U2023/01467.  \\nNär det gäller Sveriges Lantbruksuniversitet skickas underlag et till både \\nUtbildningsdepartementet och Landsbygds - och infrastruktur departementet. \\nSvaren kommer att läggas ut på regeringens hemsida.  \\nVänliga hälsningar,  \\n \\nMats Persson  3 (4) \\n \\n Sändlista  \\nUppsala universitet  \\nLunds universitet  \\nGöteborgs universitet  \\nStockholms universitet  \\nUmeå universitet  \\nLinköpings universitet  \\nKarolinska institutet  \\nKungl. Tekniska högskolan  \\nLuleå tekniska universitet  \\nKarlstads universitet  \\nLinnéuniversitetet  \\nÖrebro universitet  \\nMittuniversitetet  \\nMalmö universitet  \\nMälardal ens universitet  \\nSveriges lantbruksuniversitet  \\nBlekinge tekniska högskola  \\nFörsvarshögskolan  \\nGymnastik - och idrottshögskolan  \\nHögskolan i Borås  \\nHögskolan Dalarna  \\nHögskolan i Gävle  \\nHögskolan i Halmstad  \\nHögskolan Kristianstad  \\nHögskolan i Skövde  \\nHögskolan Väst  \\nKonstfack  \\nKungl. Konsthögskolan  \\nKungl. Musikhögskolan i Stockholm  \\nStockholms konstnärliga högskola  \\nSödertörns högskola  \\nAkademi för Ledarskap och Teologi  \\nBeckmans skola AB  \\nChalmers Tekniska Högskola AB  \\nEnskilda Högskolan Stockholm AB  \\nEricastiftelsen  \\nJohannelunds teologiska högskola  4 (4) \\n \\n Handelshögskolan i Stockholm  \\nMarie Cederschiöld högskola AB  \\nNewmaninstitutet AB  \\nSophiahemmet, Ideell förening  \\nStiftelsen Högskolan i Jönköping  \\nStiftelsen Rödakorshemmet  \\nStiftelsen Stockholms Musikpedagogiska  Institut  \\n \\n \\n</td>\n",
       "    </tr>\n",
       "  </tbody>\n",
       "</table>\n",
       "</div>"
      ],
      "text/plain": [
       "                                                                                                                                                      Content Links  \\\n",
       "0  https://www.regeringen.se/remisser/2023/11/inbjudan-till-larosaten-myndigheter-och-organisationer-att-inkomma-med-synpunkter-till-regeringens-forskningspolitik/   \n",
       "\n",
       "                                                                             Publishing Info  \\\n",
       "0  Publicerad02 november 2023· Uppdaterad10 november 2023·RemissfrånUtbildningsdepartementet   \n",
       "\n",
       "                                                                                                                            Collected Links  \\\n",
       "0  /contentassets/c9981cbd1c054e3fa1a2a917d3e22939/inbjudan-till-larosatena-att-inkomma-med-underlag-till-regeringens-forskningspolitik.pdf   \n",
       "\n",
       "  Outside PDF Text  \\\n",
       "0       NO CONTENT   \n",
       "\n",
       "                                                                                                                                                Full Collected Links  \\\n",
       "0  https://www.regeringen.se/contentassets/c9981cbd1c054e3fa1a2a917d3e22939/inbjudan-till-larosatena-att-inkomma-med-underlag-till-regeringens-forskningspolitik.pdf   \n",
       "\n",
       "                                                                                                                                                                                                                                                                                                                                                                                                                                                                                                                                                                                                                                                                                                                                                                                                                                                                                                                                                                                                                                                                                                                                                                                                                                                                                                                                                                                                                                                                                                                                                                                                                                                                                                                                                                                                                                                                                                                                                                                                                                                                                                                                                                                                                                                                                                                                                                                                                                                                                                                                                                                                                                                                                                                                                                                                                                                                                                                                                                                                                                                                                                                                                                                                                                                                                                                                                                                                                                                                                                                                                                                                                                                                                                                                                                                                                                                                                                                                                                                                                                                                                                                                                                                                                                                                                                                                                                                                                                                                                                                                                                                                                                                                                                                                                                                                                                                                                                                                                                                                                                                                                                                                                                                                                                                                                                                                                                                                                                                                                                                                                                                                                                                                                                                                                                                                                                                                                                                                                                                                                                          Inside PDF Text  \\\n",
       "0      \\n  \\n \\n \\n2023 -04-26 \\nU2023/01467  \\n  \\n  \\n  \\nUtbildningsdepartementet  \\nUtbildningsministern  Rektorer enligt sändlista   \\n \\n \\nTelefonväxel: 08 -405 10 00  \\nFax: 08 -24 46 31  \\nWebb: www.regeringen.se  Postadress: 103 33 Stockholm  \\nBesöksadress: Drottninggatan 16  \\nE-post: u.registrator@regeringskansliet.se  \\n \\nInbjudan att inkomma med underlag till regeringens forsknings - \\noch innovationspolitik  \\nSom ett led i regeringens arbete med en kommande forsknings - och \\ninnovationspolitisk proposition, bjuder regeringen in universitet och \\nhögskolor att inkomma med underlag som kan bidra till regeringens \\nforsknings - och innovationspolitik, vars fokus är excellens, internationa -\\nlisering och innovation.  \\nI regeringsförklaringen 2022 har statsministern uttalat att utbildning och \\nforskning av hög kvalitet är h elt avgörande för Sveriges välstånd  och att det \\nsvenska näringslivet är ett drivhus för innovation och är världsledande inom \\nhållbarhet . Obunden forskning är en omistlig beståndsdel i det öppna sam -\\nhället.  Högre utbildning och forskning är avgörande för Sv eriges kompetens -\\nförsörjning och för att Sverige ska kunna möta olika samhällsutmaningar.  \\nRegeringen anser att en tydlig inriktning mot excellens krävs för att svensk \\nforskning ska vara konkurrenskraftig. Utbildning och forskning ska hålla en \\ninternationel lt sett hög kvalitet och bedrivas effektivt. Internationalisering, \\ninklusive student -, doktorand - och forskarmobilitet, är viktiga medel för att \\nsvensk forskning och innovation ska kunna nå högsta kvalitet. Det ska finnas \\nbra villkor för forskning och inno vation för det svenska näringslivet. Läro -\\nsätena ska ha goda förutsättningar att nyttiggöra forskningsresultat samt att \\nbidra till innovation och svensk konkurrenskraft . Den akademiska friheten \\nska främjas, värnas och bidra till ett öppet samhälle. Lärosät ena ska samverka \\nmed det omgivande samhället för ömsesidigt utbyte och verka för att utbild -\\nning och forskning kommer samhället till nytta. En fråga som vi  behöver ha \\nett förstärkt fokus på framöver är  samtidigt  de utmaningar och säkerhets -\\nrisker  som internationa lisering  kan innebära . 2 (4) \\n \\n Med detta brev vill jag inbjuda er att inkomma med underlag inför \\nkommande forsknings - och innovationspolitiska proposition. Delge gärna de \\nforsknings prioriteringar som har gjorts på ert lärosäte och hur den framtida \\ninriktningen ser ut. Kommentera i synnerhet hur lärosätets verksamhet \\nförhåller sig till de politiska prioriteringarna hög kvalitet i forskning och \\nutbildning, internationalisering  och innovation.  Kommentera även ert arbete \\nmed samverkan, med fokus på hur fors kningsresultat kan nyttiggöras.   \\nKommentera gärna i ert underlag hur ni arbetar med profilområden. Att \\nlärosätena arbetar strategiskt med att profilera sin forskning kan bidra till \\nexcellens och konkurrenskraft och regeringen kommer därför följa det \\narbete  som pågår och vilka överväganden som lärosätena hittills har gjort när \\ndet gäller profilområden. Regeringen avser att i den forsknings - och innova -\\ntions politiska propositionen återkomma i frågan om hur lärosätenas anslag \\ntill forskning och utbildning på forskarnivå ska fördelas. Något ansöknings -\\nförfarande rörande profilområden kommer inte att initieras innan dess.  \\nEventuella synpunkter avseende den statliga organisationen för extern \\nforsknings - och innovationsfinansiering  lämnas inte i det ta underlag. Det \\nkommer att finnas möjlighet att lämna sådana synpunkter efter att den \\npågående utredningen En effektiv organisation för statlig forsknings -\\nfinansiering (U2022:06) har lämnat sitt betänkande.  \\nRegeringen har även gett Forskningsrådet för hä lsa, arbetsliv och välfärd \\n(Forte), Forskningsrådet för miljö, areella näringar och samhällsbyggande \\n(Formas), Rymdstyrelsen, Statens energimyndighet , Verket för innovations -\\nsystem (Vinnova) och Vetenskapsrådet i uppdrag att utifrån sina respektive \\nansvars områden göra analyser och lämna rekommendationer som kan bidra \\ntill regeringens forsknings - och innovationspolitik (dnr. U2023/01317 ).  \\nSenas t den 31  oktober  2023 önskar Utbildningsdepartementet  ta emot \\nunderlaget till u.registrator@regeringskansliet.se . Ange dnr. U2023/01467.  \\nNär det gäller Sveriges Lantbruksuniversitet skickas underlag et till både \\nUtbildningsdepartementet och Landsbygds - och infrastruktur departementet. \\nSvaren kommer att läggas ut på regeringens hemsida.  \\nVänliga hälsningar,  \\n \\nMats Persson  3 (4) \\n \\n Sändlista  \\nUppsala universitet  \\nLunds universitet  \\nGöteborgs universitet  \\nStockholms universitet  \\nUmeå universitet  \\nLinköpings universitet  \\nKarolinska institutet  \\nKungl. Tekniska högskolan  \\nLuleå tekniska universitet  \\nKarlstads universitet  \\nLinnéuniversitetet  \\nÖrebro universitet  \\nMittuniversitetet  \\nMalmö universitet  \\nMälardal ens universitet  \\nSveriges lantbruksuniversitet  \\nBlekinge tekniska högskola  \\nFörsvarshögskolan  \\nGymnastik - och idrottshögskolan  \\nHögskolan i Borås  \\nHögskolan Dalarna  \\nHögskolan i Gävle  \\nHögskolan i Halmstad  \\nHögskolan Kristianstad  \\nHögskolan i Skövde  \\nHögskolan Väst  \\nKonstfack  \\nKungl. Konsthögskolan  \\nKungl. Musikhögskolan i Stockholm  \\nStockholms konstnärliga högskola  \\nSödertörns högskola  \\nAkademi för Ledarskap och Teologi  \\nBeckmans skola AB  \\nChalmers Tekniska Högskola AB  \\nEnskilda Högskolan Stockholm AB  \\nEricastiftelsen  \\nJohannelunds teologiska högskola  4 (4) \\n \\n Handelshögskolan i Stockholm  \\nMarie Cederschiöld högskola AB  \\nNewmaninstitutet AB  \\nSophiahemmet, Ideell förening  \\nStiftelsen Högskolan i Jönköping  \\nStiftelsen Rödakorshemmet  \\nStiftelsen Stockholms Musikpedagogiska  Institut  \\n \\n \\n    \n",
       "\n",
       "                                                                                                                                                                                                                                                                                                                                                                                                                                                                                                                                                                                                                                                                                                                                                                                                                                                                                                                                                                                                                                                                                                                                                                                                                                                                                                                                                                                                                                                                                                                                                                                                                                                                                                                                                                                                                                                                                                                                                                                                                                                                                                                                                                                                                                                                                                                                                                                                                                                                                                                                                                                                                                                                                                                                                                                                                                                                                                                                                                                                                                                                                                                                                                                                                                                                                                                                                                                                                                                                                                                                                                                                                                                                                                                                                                                                                                                                                                                                                                                                                                                                                                                                                                                                                                                                                                                                                                                                                                                                                                                                                                                                                                                                                                                                                                                                                                                                                                                                                                                                                                                                                                                                                                                                                                                                                                                                                                                                                                                                                                                                                                                                                                                                                                                                                                                                                                                                                                                                                                                                                                                     Text  \n",
       "0      \\n  \\n \\n \\n2023 -04-26 \\nU2023/01467  \\n  \\n  \\n  \\nUtbildningsdepartementet  \\nUtbildningsministern  Rektorer enligt sändlista   \\n \\n \\nTelefonväxel: 08 -405 10 00  \\nFax: 08 -24 46 31  \\nWebb: www.regeringen.se  Postadress: 103 33 Stockholm  \\nBesöksadress: Drottninggatan 16  \\nE-post: u.registrator@regeringskansliet.se  \\n \\nInbjudan att inkomma med underlag till regeringens forsknings - \\noch innovationspolitik  \\nSom ett led i regeringens arbete med en kommande forsknings - och \\ninnovationspolitisk proposition, bjuder regeringen in universitet och \\nhögskolor att inkomma med underlag som kan bidra till regeringens \\nforsknings - och innovationspolitik, vars fokus är excellens, internationa -\\nlisering och innovation.  \\nI regeringsförklaringen 2022 har statsministern uttalat att utbildning och \\nforskning av hög kvalitet är h elt avgörande för Sveriges välstånd  och att det \\nsvenska näringslivet är ett drivhus för innovation och är världsledande inom \\nhållbarhet . Obunden forskning är en omistlig beståndsdel i det öppna sam -\\nhället.  Högre utbildning och forskning är avgörande för Sv eriges kompetens -\\nförsörjning och för att Sverige ska kunna möta olika samhällsutmaningar.  \\nRegeringen anser att en tydlig inriktning mot excellens krävs för att svensk \\nforskning ska vara konkurrenskraftig. Utbildning och forskning ska hålla en \\ninternationel lt sett hög kvalitet och bedrivas effektivt. Internationalisering, \\ninklusive student -, doktorand - och forskarmobilitet, är viktiga medel för att \\nsvensk forskning och innovation ska kunna nå högsta kvalitet. Det ska finnas \\nbra villkor för forskning och inno vation för det svenska näringslivet. Läro -\\nsätena ska ha goda förutsättningar att nyttiggöra forskningsresultat samt att \\nbidra till innovation och svensk konkurrenskraft . Den akademiska friheten \\nska främjas, värnas och bidra till ett öppet samhälle. Lärosät ena ska samverka \\nmed det omgivande samhället för ömsesidigt utbyte och verka för att utbild -\\nning och forskning kommer samhället till nytta. En fråga som vi  behöver ha \\nett förstärkt fokus på framöver är  samtidigt  de utmaningar och säkerhets -\\nrisker  som internationa lisering  kan innebära . 2 (4) \\n \\n Med detta brev vill jag inbjuda er att inkomma med underlag inför \\nkommande forsknings - och innovationspolitiska proposition. Delge gärna de \\nforsknings prioriteringar som har gjorts på ert lärosäte och hur den framtida \\ninriktningen ser ut. Kommentera i synnerhet hur lärosätets verksamhet \\nförhåller sig till de politiska prioriteringarna hög kvalitet i forskning och \\nutbildning, internationalisering  och innovation.  Kommentera även ert arbete \\nmed samverkan, med fokus på hur fors kningsresultat kan nyttiggöras.   \\nKommentera gärna i ert underlag hur ni arbetar med profilområden. Att \\nlärosätena arbetar strategiskt med att profilera sin forskning kan bidra till \\nexcellens och konkurrenskraft och regeringen kommer därför följa det \\narbete  som pågår och vilka överväganden som lärosätena hittills har gjort när \\ndet gäller profilområden. Regeringen avser att i den forsknings - och innova -\\ntions politiska propositionen återkomma i frågan om hur lärosätenas anslag \\ntill forskning och utbildning på forskarnivå ska fördelas. Något ansöknings -\\nförfarande rörande profilområden kommer inte att initieras innan dess.  \\nEventuella synpunkter avseende den statliga organisationen för extern \\nforsknings - och innovationsfinansiering  lämnas inte i det ta underlag. Det \\nkommer att finnas möjlighet att lämna sådana synpunkter efter att den \\npågående utredningen En effektiv organisation för statlig forsknings -\\nfinansiering (U2022:06) har lämnat sitt betänkande.  \\nRegeringen har även gett Forskningsrådet för hä lsa, arbetsliv och välfärd \\n(Forte), Forskningsrådet för miljö, areella näringar och samhällsbyggande \\n(Formas), Rymdstyrelsen, Statens energimyndighet , Verket för innovations -\\nsystem (Vinnova) och Vetenskapsrådet i uppdrag att utifrån sina respektive \\nansvars områden göra analyser och lämna rekommendationer som kan bidra \\ntill regeringens forsknings - och innovationspolitik (dnr. U2023/01317 ).  \\nSenas t den 31  oktober  2023 önskar Utbildningsdepartementet  ta emot \\nunderlaget till u.registrator@regeringskansliet.se . Ange dnr. U2023/01467.  \\nNär det gäller Sveriges Lantbruksuniversitet skickas underlag et till både \\nUtbildningsdepartementet och Landsbygds - och infrastruktur departementet. \\nSvaren kommer att läggas ut på regeringens hemsida.  \\nVänliga hälsningar,  \\n \\nMats Persson  3 (4) \\n \\n Sändlista  \\nUppsala universitet  \\nLunds universitet  \\nGöteborgs universitet  \\nStockholms universitet  \\nUmeå universitet  \\nLinköpings universitet  \\nKarolinska institutet  \\nKungl. Tekniska högskolan  \\nLuleå tekniska universitet  \\nKarlstads universitet  \\nLinnéuniversitetet  \\nÖrebro universitet  \\nMittuniversitetet  \\nMalmö universitet  \\nMälardal ens universitet  \\nSveriges lantbruksuniversitet  \\nBlekinge tekniska högskola  \\nFörsvarshögskolan  \\nGymnastik - och idrottshögskolan  \\nHögskolan i Borås  \\nHögskolan Dalarna  \\nHögskolan i Gävle  \\nHögskolan i Halmstad  \\nHögskolan Kristianstad  \\nHögskolan i Skövde  \\nHögskolan Väst  \\nKonstfack  \\nKungl. Konsthögskolan  \\nKungl. Musikhögskolan i Stockholm  \\nStockholms konstnärliga högskola  \\nSödertörns högskola  \\nAkademi för Ledarskap och Teologi  \\nBeckmans skola AB  \\nChalmers Tekniska Högskola AB  \\nEnskilda Högskolan Stockholm AB  \\nEricastiftelsen  \\nJohannelunds teologiska högskola  4 (4) \\n \\n Handelshögskolan i Stockholm  \\nMarie Cederschiöld högskola AB  \\nNewmaninstitutet AB  \\nSophiahemmet, Ideell förening  \\nStiftelsen Högskolan i Jönköping  \\nStiftelsen Rödakorshemmet  \\nStiftelsen Stockholms Musikpedagogiska  Institut  \\n \\n \\n   "
      ]
     },
     "execution_count": 14,
     "metadata": {},
     "output_type": "execute_result"
    }
   ],
   "source": [
    "article_link_directory.head(1)"
   ]
  },
  {
   "cell_type": "code",
   "execution_count": 15,
   "metadata": {},
   "outputs": [
    {
     "data": {
      "text/html": [
       "<div>\n",
       "<style scoped>\n",
       "    .dataframe tbody tr th:only-of-type {\n",
       "        vertical-align: middle;\n",
       "    }\n",
       "\n",
       "    .dataframe tbody tr th {\n",
       "        vertical-align: top;\n",
       "    }\n",
       "\n",
       "    .dataframe thead th {\n",
       "        text-align: right;\n",
       "    }\n",
       "</style>\n",
       "<table border=\"1\" class=\"dataframe\">\n",
       "  <thead>\n",
       "    <tr style=\"text-align: right;\">\n",
       "      <th></th>\n",
       "      <th>Content Links</th>\n",
       "      <th>Publishing Info</th>\n",
       "      <th>Collected Links</th>\n",
       "      <th>Outside PDF Text</th>\n",
       "      <th>Full Collected Links</th>\n",
       "      <th>Inside PDF Text</th>\n",
       "      <th>Text</th>\n",
       "    </tr>\n",
       "  </thead>\n",
       "  <tbody>\n",
       "    <tr>\n",
       "      <th>27078</th>\n",
       "      <td>https://www.regeringen.se/internationella-mr-granskningar-av-sverige/2007/04/cat-kommittens-granskning-2007-04-30-i-malet-e.r.k.-och-y.k.-mot-sverige</td>\n",
       "      <td>Publicerad30 april 2007·Internationella MR-granskningar av SverigefrånJustitiedepartementet,Utrikesdepartementet</td>\n",
       "      <td>NO CONTENT</td>\n",
       "      <td>Publicerad30 april 2007\\nFN:s CAT-kommitté har i ett yttrande prövat Sveriges efterlevnad av FN:s konvention mot tortyr (CAT). Regeringen publicerar en länk till yttrandet i fulltext samt en sammanfattning av yttrandet.\\nMålet rörde ursprungligen avvisning av tre bröder till Azerbajdzjan. Sedan den ena brodern och hans familj beviljats permanent uppehållstillstånd i Sverige avskrev kommittén klagomålet avseende den brodern. De två kvarvarande klagandena gjorde inför kommittén gällande att de i hemlandet riskerade att utsättas för tortyr eller annan behandling i strid med artikel 3 i konventionen till följd av en av brödernas påstådda politiska aktiviteter och medlemskap i det politiska oppositionspartiet ADP. Till stöd för klagomålet ingavs ett stort antal handlingar, bl.a. kallelser till polisförhör. Enligt kommittén visade den ambassadutredning som gjorts i målet på ett övertygande sätt att handlingarna var falska. Kommittén konstaterade att klagandena inte hade kunnat lägga fram motbevis och ansåg att de inte heller i övrigt gjort sannolikt att de skulle utsättas för behandling i strid med konventionen vid ett återvändande till hemlandet. Kommittén fann därför att en avvisning av bröderna till Azerbajdzjan inte skulle strida mot konventionen.\\nKonventionen antogs år 1984. FN:s CAT-kommitté övervakar att konventionen respekteras. Kommittén består av oberoende experter. Granskningen sker genom prövning av enskilda klagomål och av återkommande rapportering från konventionsstaterna.\\nPublicerad17 november 2023·TalfrånUlf Kristersson,Statsrådsberedningen\\nPublicerad17 november 2023·UttalandefrånRomina Pourmokhtari,Klimat- och näringslivsdepartementet\\nPublicerad17 november 2023·PressmeddelandefrånNiklas Wykman,Finansdepartementet\\nPublicerad17 november 2023·RemissfrånFinansdepartementet\\nPublicerad17 november 2023·Departementsserien och promemorior,Rättsliga dokumentfrånFinansdepartementet\\nRegeringskansliet103 33 StockholmVäxel 08-405 10 00\\nDet här är regeringens och Regeringskansliets gemensamma webbplats.</td>\n",
       "      <td>NO CONTENT</td>\n",
       "      <td>NO CONTENT</td>\n",
       "      <td>Publicerad30 april 2007\\nFN:s CAT-kommitté har i ett yttrande prövat Sveriges efterlevnad av FN:s konvention mot tortyr (CAT). Regeringen publicerar en länk till yttrandet i fulltext samt en sammanfattning av yttrandet.\\nMålet rörde ursprungligen avvisning av tre bröder till Azerbajdzjan. Sedan den ena brodern och hans familj beviljats permanent uppehållstillstånd i Sverige avskrev kommittén klagomålet avseende den brodern. De två kvarvarande klagandena gjorde inför kommittén gällande att de i hemlandet riskerade att utsättas för tortyr eller annan behandling i strid med artikel 3 i konventionen till följd av en av brödernas påstådda politiska aktiviteter och medlemskap i det politiska oppositionspartiet ADP. Till stöd för klagomålet ingavs ett stort antal handlingar, bl.a. kallelser till polisförhör. Enligt kommittén visade den ambassadutredning som gjorts i målet på ett övertygande sätt att handlingarna var falska. Kommittén konstaterade att klagandena inte hade kunnat lägga fram motbevis och ansåg att de inte heller i övrigt gjort sannolikt att de skulle utsättas för behandling i strid med konventionen vid ett återvändande till hemlandet. Kommittén fann därför att en avvisning av bröderna till Azerbajdzjan inte skulle strida mot konventionen.\\nKonventionen antogs år 1984. FN:s CAT-kommitté övervakar att konventionen respekteras. Kommittén består av oberoende experter. Granskningen sker genom prövning av enskilda klagomål och av återkommande rapportering från konventionsstaterna.\\nPublicerad17 november 2023·TalfrånUlf Kristersson,Statsrådsberedningen\\nPublicerad17 november 2023·UttalandefrånRomina Pourmokhtari,Klimat- och näringslivsdepartementet\\nPublicerad17 november 2023·PressmeddelandefrånNiklas Wykman,Finansdepartementet\\nPublicerad17 november 2023·RemissfrånFinansdepartementet\\nPublicerad17 november 2023·Departementsserien och promemorior,Rättsliga dokumentfrånFinansdepartementet\\nRegeringskansliet103 33 StockholmVäxel 08-405 10 00\\nDet här är regeringens och Regeringskansliets gemensamma webbplats.</td>\n",
       "    </tr>\n",
       "  </tbody>\n",
       "</table>\n",
       "</div>"
      ],
      "text/plain": [
       "                                                                                                                                               Content Links  \\\n",
       "27078  https://www.regeringen.se/internationella-mr-granskningar-av-sverige/2007/04/cat-kommittens-granskning-2007-04-30-i-malet-e.r.k.-och-y.k.-mot-sverige   \n",
       "\n",
       "                                                                                                        Publishing Info  \\\n",
       "27078  Publicerad30 april 2007·Internationella MR-granskningar av SverigefrånJustitiedepartementet,Utrikesdepartementet   \n",
       "\n",
       "      Collected Links  \\\n",
       "27078      NO CONTENT   \n",
       "\n",
       "                                                                                                                                                                                                                                                                                                                                                                                                                                                                                                                                                                                                                                                                                                                                                                                                                                                                                                                                                                                                                                                                                                                                                                                                                                                                                                                                                                                                                                                                                                                                                                                                                                                                                                                                                                                                                                                                                                                                                                                                                                                                                                                 Outside PDF Text  \\\n",
       "27078  Publicerad30 april 2007\\nFN:s CAT-kommitté har i ett yttrande prövat Sveriges efterlevnad av FN:s konvention mot tortyr (CAT). Regeringen publicerar en länk till yttrandet i fulltext samt en sammanfattning av yttrandet.\\nMålet rörde ursprungligen avvisning av tre bröder till Azerbajdzjan. Sedan den ena brodern och hans familj beviljats permanent uppehållstillstånd i Sverige avskrev kommittén klagomålet avseende den brodern. De två kvarvarande klagandena gjorde inför kommittén gällande att de i hemlandet riskerade att utsättas för tortyr eller annan behandling i strid med artikel 3 i konventionen till följd av en av brödernas påstådda politiska aktiviteter och medlemskap i det politiska oppositionspartiet ADP. Till stöd för klagomålet ingavs ett stort antal handlingar, bl.a. kallelser till polisförhör. Enligt kommittén visade den ambassadutredning som gjorts i målet på ett övertygande sätt att handlingarna var falska. Kommittén konstaterade att klagandena inte hade kunnat lägga fram motbevis och ansåg att de inte heller i övrigt gjort sannolikt att de skulle utsättas för behandling i strid med konventionen vid ett återvändande till hemlandet. Kommittén fann därför att en avvisning av bröderna till Azerbajdzjan inte skulle strida mot konventionen.\\nKonventionen antogs år 1984. FN:s CAT-kommitté övervakar att konventionen respekteras. Kommittén består av oberoende experter. Granskningen sker genom prövning av enskilda klagomål och av återkommande rapportering från konventionsstaterna.\\nPublicerad17 november 2023·TalfrånUlf Kristersson,Statsrådsberedningen\\nPublicerad17 november 2023·UttalandefrånRomina Pourmokhtari,Klimat- och näringslivsdepartementet\\nPublicerad17 november 2023·PressmeddelandefrånNiklas Wykman,Finansdepartementet\\nPublicerad17 november 2023·RemissfrånFinansdepartementet\\nPublicerad17 november 2023·Departementsserien och promemorior,Rättsliga dokumentfrånFinansdepartementet\\nRegeringskansliet103 33 StockholmVäxel 08-405 10 00\\nDet här är regeringens och Regeringskansliets gemensamma webbplats.   \n",
       "\n",
       "      Full Collected Links Inside PDF Text  \\\n",
       "27078           NO CONTENT      NO CONTENT   \n",
       "\n",
       "                                                                                                                                                                                                                                                                                                                                                                                                                                                                                                                                                                                                                                                                                                                                                                                                                                                                                                                                                                                                                                                                                                                                                                                                                                                                                                                                                                                                                                                                                                                                                                                                                                                                                                                                                                                                                                                                                                                                                                                                                                                                                                                             Text  \n",
       "27078  Publicerad30 april 2007\\nFN:s CAT-kommitté har i ett yttrande prövat Sveriges efterlevnad av FN:s konvention mot tortyr (CAT). Regeringen publicerar en länk till yttrandet i fulltext samt en sammanfattning av yttrandet.\\nMålet rörde ursprungligen avvisning av tre bröder till Azerbajdzjan. Sedan den ena brodern och hans familj beviljats permanent uppehållstillstånd i Sverige avskrev kommittén klagomålet avseende den brodern. De två kvarvarande klagandena gjorde inför kommittén gällande att de i hemlandet riskerade att utsättas för tortyr eller annan behandling i strid med artikel 3 i konventionen till följd av en av brödernas påstådda politiska aktiviteter och medlemskap i det politiska oppositionspartiet ADP. Till stöd för klagomålet ingavs ett stort antal handlingar, bl.a. kallelser till polisförhör. Enligt kommittén visade den ambassadutredning som gjorts i målet på ett övertygande sätt att handlingarna var falska. Kommittén konstaterade att klagandena inte hade kunnat lägga fram motbevis och ansåg att de inte heller i övrigt gjort sannolikt att de skulle utsättas för behandling i strid med konventionen vid ett återvändande till hemlandet. Kommittén fann därför att en avvisning av bröderna till Azerbajdzjan inte skulle strida mot konventionen.\\nKonventionen antogs år 1984. FN:s CAT-kommitté övervakar att konventionen respekteras. Kommittén består av oberoende experter. Granskningen sker genom prövning av enskilda klagomål och av återkommande rapportering från konventionsstaterna.\\nPublicerad17 november 2023·TalfrånUlf Kristersson,Statsrådsberedningen\\nPublicerad17 november 2023·UttalandefrånRomina Pourmokhtari,Klimat- och näringslivsdepartementet\\nPublicerad17 november 2023·PressmeddelandefrånNiklas Wykman,Finansdepartementet\\nPublicerad17 november 2023·RemissfrånFinansdepartementet\\nPublicerad17 november 2023·Departementsserien och promemorior,Rättsliga dokumentfrånFinansdepartementet\\nRegeringskansliet103 33 StockholmVäxel 08-405 10 00\\nDet här är regeringens och Regeringskansliets gemensamma webbplats.  "
      ]
     },
     "execution_count": 15,
     "metadata": {},
     "output_type": "execute_result"
    }
   ],
   "source": [
    "article_link_directory.tail(1)"
   ]
  },
  {
   "cell_type": "markdown",
   "metadata": {},
   "source": [
    "# Clean up the data to prepare for text analysis"
   ]
  },
  {
   "cell_type": "markdown",
   "metadata": {},
   "source": [
    "### Replace newline characters in text columns"
   ]
  },
  {
   "cell_type": "code",
   "execution_count": 16,
   "metadata": {},
   "outputs": [],
   "source": [
    "# Clean the text data in 'Inside PDF Text' and 'Text' and 'Outside PDF Text' columns by replacing newline characters\n",
    "article_link_directory['Inside PDF Text'] = article_link_directory['Inside PDF Text'].str.replace('\\n', ' ')\n",
    "article_link_directory['Text'] = article_link_directory['Text'].str.replace('\\n', ' ')\n",
    "article_link_directory['Outside PDF Text'] = article_link_directory['Outside PDF Text'].str.replace('\\n', ' ')"
   ]
  },
  {
   "cell_type": "markdown",
   "metadata": {},
   "source": [
    "### Extract date text"
   ]
  },
  {
   "cell_type": "code",
   "execution_count": 17,
   "metadata": {},
   "outputs": [],
   "source": [
    "# Extract document date from article_link_directory['Publishing Info']\n",
    "# List to store extracted dates\n",
    "Date = []\n",
    "\n",
    "# Iterate through the 'Publishing Dates' column and extract dates based on the condition\n",
    "# \"Updated\" dates are disregarded because they only seem to occur with certain documents of lesser importance and don't override the pdf included in content...so the pdf data reflects the original date\n",
    "\n",
    "for date_string in article_link_directory['Publishing Info']:\n",
    "    if 'Publicerad' in date_string:\n",
    "        start_index = date_string.find('Publicerad') + len('Publicerad')\n",
    "        end_index = date_string.find('·', start_index)\n",
    "        if end_index != -1:\n",
    "            extracted_date = date_string[start_index:end_index].strip()\n",
    "            Date.append(extracted_date)\n",
    "        else:\n",
    "            # Handle the case when there's no '·' after 'Publicerad'\n",
    "            Date.append(None)\n",
    "    else:\n",
    "        # Handle the case when 'Publicerad' is not mentioned in the string\n",
    "        Date.append(None)"
   ]
  },
  {
   "cell_type": "code",
   "execution_count": 18,
   "metadata": {},
   "outputs": [],
   "source": [
    "# Add the 'Date' list as a new column in the DataFrame\n",
    "article_link_directory['Date'] = Date"
   ]
  },
  {
   "cell_type": "markdown",
   "metadata": {},
   "source": [
    "### Extract document type text"
   ]
  },
  {
   "cell_type": "code",
   "execution_count": 19,
   "metadata": {},
   "outputs": [],
   "source": [
    "# Extract document types from article_link_directory['Publishing Info']\n",
    "# List to store extracted document types\n",
    "Document_Type = []\n",
    "\n",
    "# Iterate through the 'Publishing Info' column and extract document types based on the condition\n",
    "for date_string in article_link_directory['Publishing Info']:\n",
    "    last_dot_index = date_string.rfind('·')  # Find the last instance of \"·\"\n",
    "    if last_dot_index != -1:\n",
    "        # Extract string after the last \"·\"\n",
    "        extracted_text = date_string[last_dot_index + 1:].strip()\n",
    "        if 'från' in extracted_text:\n",
    "            # Extract string before \"från\"\n",
    "            extracted_text = extracted_text[:extracted_text.find('från')].strip()\n",
    "            Document_Type.append(extracted_text)\n",
    "        else:\n",
    "            Document_Type.append(None)  # If \"från\" is not found, append None\n",
    "    else:\n",
    "        # Handle the case when there's no \"·\" in the string\n",
    "        Document_Type.append(None)"
   ]
  },
  {
   "cell_type": "code",
   "execution_count": 20,
   "metadata": {},
   "outputs": [],
   "source": [
    "# Add the 'Document_Type' list as a new column in the DataFrame\n",
    "article_link_directory['Document Type'] = Document_Type"
   ]
  },
  {
   "cell_type": "markdown",
   "metadata": {},
   "source": [
    "### Extract document source text"
   ]
  },
  {
   "cell_type": "code",
   "execution_count": 21,
   "metadata": {},
   "outputs": [],
   "source": [
    "# Extract document source from article_link_directory['Publishing Info']\n",
    "# List to store extracted sources\n",
    "Source = []\n",
    "\n",
    "# Iterate through the 'Publishing Info' column and extract sources based on the condition\n",
    "for date_string in article_link_directory['Publishing Info']:\n",
    "    # Find the index of \"från\"\n",
    "    from_index = date_string.find('från')\n",
    "    if from_index != -1:\n",
    "        # Extract string after \"från\" and add it to the Source list\n",
    "        extracted_source = date_string[from_index + len('från'):].strip()\n",
    "        Source.append(extracted_source)\n",
    "    else:\n",
    "        # If \"från\" is not found, append None to indicate no source\n",
    "        Source.append(None)"
   ]
  },
  {
   "cell_type": "code",
   "execution_count": 22,
   "metadata": {},
   "outputs": [],
   "source": [
    "# Add the 'Source' list as a new row in the DataFrame\n",
    "article_link_directory['Source'] = Source"
   ]
  },
  {
   "cell_type": "markdown",
   "metadata": {},
   "source": [
    "### Remove unnecessary columns"
   ]
  },
  {
   "cell_type": "code",
   "execution_count": 23,
   "metadata": {},
   "outputs": [],
   "source": [
    "# Identify columns to drop\n",
    "columns_to_drop = ['Publishing Info', 'Collected Links', 'Outside PDF Text', 'Inside PDF Text']\n",
    "\n",
    "# Drop the columns\n",
    "article_link_directory = article_link_directory.drop(columns=columns_to_drop)"
   ]
  },
  {
   "cell_type": "markdown",
   "metadata": {},
   "source": [
    "### Create a PDF Indicator variable"
   ]
  },
  {
   "cell_type": "code",
   "execution_count": 24,
   "metadata": {},
   "outputs": [],
   "source": [
    "# Replace 'Full Collected Links' with the actual column name in your DataFrame\n",
    "article_link_directory['PDF Indicator'] = (article_link_directory['Full Collected Links'] != 'NO CONTENT').astype(int)"
   ]
  },
  {
   "cell_type": "markdown",
   "metadata": {},
   "source": [
    "### Rename link-containing variables so that they're more descriptive and precise"
   ]
  },
  {
   "cell_type": "code",
   "execution_count": 25,
   "metadata": {},
   "outputs": [],
   "source": [
    "# Replace the column names with the actual names in your DataFrame\n",
    "article_link_directory.rename(columns={'Full Collected Links': 'PDF Link', 'Content Links': 'Content Page'}, inplace=True)"
   ]
  },
  {
   "cell_type": "markdown",
   "metadata": {},
   "source": [
    "### Re-order columns"
   ]
  },
  {
   "cell_type": "code",
   "execution_count": 26,
   "metadata": {},
   "outputs": [],
   "source": [
    "# Specify new column order\n",
    "column_order = ['Date', 'Document Type', 'Source', 'PDF Indicator', 'Text', 'Content Page', 'PDF Link']\n",
    "\n",
    "# Set new column order\n",
    "article_link_directory = article_link_directory[column_order]"
   ]
  },
  {
   "cell_type": "code",
   "execution_count": 27,
   "metadata": {},
   "outputs": [
    {
     "data": {
      "text/html": [
       "<div>\n",
       "<style scoped>\n",
       "    .dataframe tbody tr th:only-of-type {\n",
       "        vertical-align: middle;\n",
       "    }\n",
       "\n",
       "    .dataframe tbody tr th {\n",
       "        vertical-align: top;\n",
       "    }\n",
       "\n",
       "    .dataframe thead th {\n",
       "        text-align: right;\n",
       "    }\n",
       "</style>\n",
       "<table border=\"1\" class=\"dataframe\">\n",
       "  <thead>\n",
       "    <tr style=\"text-align: right;\">\n",
       "      <th></th>\n",
       "      <th>Date</th>\n",
       "      <th>Document Type</th>\n",
       "      <th>Source</th>\n",
       "      <th>PDF Indicator</th>\n",
       "      <th>Text</th>\n",
       "      <th>Content Page</th>\n",
       "      <th>PDF Link</th>\n",
       "    </tr>\n",
       "  </thead>\n",
       "  <tbody>\n",
       "    <tr>\n",
       "      <th>27078</th>\n",
       "      <td>30 april 2007</td>\n",
       "      <td>Internationella MR-granskningar av Sverige</td>\n",
       "      <td>Justitiedepartementet,Utrikesdepartementet</td>\n",
       "      <td>0</td>\n",
       "      <td>Publicerad30 april 2007 FN:s CAT-kommitté har i ett yttrande prövat Sveriges efterlevnad av FN:s konvention mot tortyr (CAT). Regeringen publicerar en länk till yttrandet i fulltext samt en sammanfattning av yttrandet. Målet rörde ursprungligen avvisning av tre bröder till Azerbajdzjan. Sedan den ena brodern och hans familj beviljats permanent uppehållstillstånd i Sverige avskrev kommittén klagomålet avseende den brodern. De två kvarvarande klagandena gjorde inför kommittén gällande att de i hemlandet riskerade att utsättas för tortyr eller annan behandling i strid med artikel 3 i konventionen till följd av en av brödernas påstådda politiska aktiviteter och medlemskap i det politiska oppositionspartiet ADP. Till stöd för klagomålet ingavs ett stort antal handlingar, bl.a. kallelser till polisförhör. Enligt kommittén visade den ambassadutredning som gjorts i målet på ett övertygande sätt att handlingarna var falska. Kommittén konstaterade att klagandena inte hade kunnat lägga fram motbevis och ansåg att de inte heller i övrigt gjort sannolikt att de skulle utsättas för behandling i strid med konventionen vid ett återvändande till hemlandet. Kommittén fann därför att en avvisning av bröderna till Azerbajdzjan inte skulle strida mot konventionen. Konventionen antogs år 1984. FN:s CAT-kommitté övervakar att konventionen respekteras. Kommittén består av oberoende experter. Granskningen sker genom prövning av enskilda klagomål och av återkommande rapportering från konventionsstaterna. Publicerad17 november 2023·TalfrånUlf Kristersson,Statsrådsberedningen Publicerad17 november 2023·UttalandefrånRomina Pourmokhtari,Klimat- och näringslivsdepartementet Publicerad17 november 2023·PressmeddelandefrånNiklas Wykman,Finansdepartementet Publicerad17 november 2023·RemissfrånFinansdepartementet Publicerad17 november 2023·Departementsserien och promemorior,Rättsliga dokumentfrånFinansdepartementet Regeringskansliet103 33 StockholmVäxel 08-405 10 00 Det här är regeringens och Regeringskansliets gemensamma webbplats.</td>\n",
       "      <td>https://www.regeringen.se/internationella-mr-granskningar-av-sverige/2007/04/cat-kommittens-granskning-2007-04-30-i-malet-e.r.k.-och-y.k.-mot-sverige</td>\n",
       "      <td>NO CONTENT</td>\n",
       "    </tr>\n",
       "  </tbody>\n",
       "</table>\n",
       "</div>"
      ],
      "text/plain": [
       "                Date                               Document Type  \\\n",
       "27078  30 april 2007  Internationella MR-granskningar av Sverige   \n",
       "\n",
       "                                           Source  PDF Indicator  \\\n",
       "27078  Justitiedepartementet,Utrikesdepartementet              0   \n",
       "\n",
       "                                                                                                                                                                                                                                                                                                                                                                                                                                                                                                                                                                                                                                                                                                                                                                                                                                                                                                                                                                                                                                                                                                                                                                                                                                                                                                                                                                                                                                                                                                                                                                                                                                                                                                                                                                                                                                                                                                                                                                                                                                                                                                                   Text  \\\n",
       "27078  Publicerad30 april 2007 FN:s CAT-kommitté har i ett yttrande prövat Sveriges efterlevnad av FN:s konvention mot tortyr (CAT). Regeringen publicerar en länk till yttrandet i fulltext samt en sammanfattning av yttrandet. Målet rörde ursprungligen avvisning av tre bröder till Azerbajdzjan. Sedan den ena brodern och hans familj beviljats permanent uppehållstillstånd i Sverige avskrev kommittén klagomålet avseende den brodern. De två kvarvarande klagandena gjorde inför kommittén gällande att de i hemlandet riskerade att utsättas för tortyr eller annan behandling i strid med artikel 3 i konventionen till följd av en av brödernas påstådda politiska aktiviteter och medlemskap i det politiska oppositionspartiet ADP. Till stöd för klagomålet ingavs ett stort antal handlingar, bl.a. kallelser till polisförhör. Enligt kommittén visade den ambassadutredning som gjorts i målet på ett övertygande sätt att handlingarna var falska. Kommittén konstaterade att klagandena inte hade kunnat lägga fram motbevis och ansåg att de inte heller i övrigt gjort sannolikt att de skulle utsättas för behandling i strid med konventionen vid ett återvändande till hemlandet. Kommittén fann därför att en avvisning av bröderna till Azerbajdzjan inte skulle strida mot konventionen. Konventionen antogs år 1984. FN:s CAT-kommitté övervakar att konventionen respekteras. Kommittén består av oberoende experter. Granskningen sker genom prövning av enskilda klagomål och av återkommande rapportering från konventionsstaterna. Publicerad17 november 2023·TalfrånUlf Kristersson,Statsrådsberedningen Publicerad17 november 2023·UttalandefrånRomina Pourmokhtari,Klimat- och näringslivsdepartementet Publicerad17 november 2023·PressmeddelandefrånNiklas Wykman,Finansdepartementet Publicerad17 november 2023·RemissfrånFinansdepartementet Publicerad17 november 2023·Departementsserien och promemorior,Rättsliga dokumentfrånFinansdepartementet Regeringskansliet103 33 StockholmVäxel 08-405 10 00 Det här är regeringens och Regeringskansliets gemensamma webbplats.   \n",
       "\n",
       "                                                                                                                                                Content Page  \\\n",
       "27078  https://www.regeringen.se/internationella-mr-granskningar-av-sverige/2007/04/cat-kommittens-granskning-2007-04-30-i-malet-e.r.k.-och-y.k.-mot-sverige   \n",
       "\n",
       "         PDF Link  \n",
       "27078  NO CONTENT  "
      ]
     },
     "execution_count": 27,
     "metadata": {},
     "output_type": "execute_result"
    }
   ],
   "source": [
    "article_link_directory.tail(1)"
   ]
  },
  {
   "cell_type": "markdown",
   "metadata": {},
   "source": [
    "# Export cleaned and organized data"
   ]
  },
  {
   "cell_type": "code",
   "execution_count": 28,
   "metadata": {},
   "outputs": [],
   "source": [
    "# Download .csv of the data\n",
    "article_link_directory.to_csv('unclassified_data.csv', index=True)"
   ]
  }
 ],
 "metadata": {
  "kernelspec": {
   "display_name": "capstone",
   "language": "python",
   "name": "python3"
  },
  "language_info": {
   "codemirror_mode": {
    "name": "ipython",
    "version": 3
   },
   "file_extension": ".py",
   "mimetype": "text/x-python",
   "name": "python",
   "nbconvert_exporter": "python",
   "pygments_lexer": "ipython3",
   "version": "3.10.12"
  },
  "orig_nbformat": 4
 },
 "nbformat": 4,
 "nbformat_minor": 2
}
