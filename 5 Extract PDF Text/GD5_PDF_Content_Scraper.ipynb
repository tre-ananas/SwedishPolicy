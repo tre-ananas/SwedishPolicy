{
 "cells": [
  {
   "cell_type": "markdown",
   "metadata": {},
   "source": [
    "# Load Libraries and Set Settings"
   ]
  },
  {
   "cell_type": "code",
   "execution_count": 1,
   "metadata": {},
   "outputs": [],
   "source": [
    "# Libraries\n",
    "import requests\n",
    "from bs4 import BeautifulSoup\n",
    "import pandas as pd\n",
    "import PyPDF2\n",
    "from io import BytesIO\n",
    "from tqdm import tqdm\n",
    "import time\n",
    "import csv\n",
    "import sys\n",
    "from random import randint\n",
    "\n",
    "# Other Settings\n",
    "pd.set_option('display.max.colwidth', None) # max display width"
   ]
  },
  {
   "cell_type": "markdown",
   "metadata": {},
   "source": [
    "# Load Data"
   ]
  },
  {
   "cell_type": "code",
   "execution_count": 18,
   "metadata": {},
   "outputs": [],
   "source": [
    "# Load data from CSV file into a DataFrame\n",
    "article_link_directory = pd.read_csv('article_link_directory.csv')"
   ]
  },
  {
   "cell_type": "markdown",
   "metadata": {},
   "source": [
    "### Subset the data for quick-time tests"
   ]
  },
  {
   "cell_type": "code",
   "execution_count": 19,
   "metadata": {},
   "outputs": [],
   "source": [
    "practice_article_link_directory = article_link_directory.head(50)"
   ]
  },
  {
   "cell_type": "code",
   "execution_count": 20,
   "metadata": {},
   "outputs": [
    {
     "data": {
      "text/html": [
       "<div>\n",
       "<style scoped>\n",
       "    .dataframe tbody tr th:only-of-type {\n",
       "        vertical-align: middle;\n",
       "    }\n",
       "\n",
       "    .dataframe tbody tr th {\n",
       "        vertical-align: top;\n",
       "    }\n",
       "\n",
       "    .dataframe thead th {\n",
       "        text-align: right;\n",
       "    }\n",
       "</style>\n",
       "<table border=\"1\" class=\"dataframe\">\n",
       "  <thead>\n",
       "    <tr style=\"text-align: right;\">\n",
       "      <th></th>\n",
       "      <th>Content Links</th>\n",
       "      <th>Publishing Info</th>\n",
       "      <th>Collected Links</th>\n",
       "      <th>Outside PDF Text</th>\n",
       "      <th>Full Collected Links</th>\n",
       "    </tr>\n",
       "  </thead>\n",
       "  <tbody>\n",
       "    <tr>\n",
       "      <th>0</th>\n",
       "      <td>https://www.regeringen.se/remisser/2023/11/inbjudan-till-larosaten-myndigheter-och-organisationer-att-inkomma-med-synpunkter-till-regeringens-forskningspolitik/</td>\n",
       "      <td>Publicerad02 november 2023· Uppdaterad10 november 2023·RemissfrånUtbildningsdepartementet</td>\n",
       "      <td>/contentassets/c9981cbd1c054e3fa1a2a917d3e22939/inbjudan-till-larosatena-att-inkomma-med-underlag-till-regeringens-forskningspolitik.pdf</td>\n",
       "      <td>NO CONTENT</td>\n",
       "      <td>https://www.regeringen.se/contentassets/c9981cbd1c054e3fa1a2a917d3e22939/inbjudan-till-larosatena-att-inkomma-med-underlag-till-regeringens-forskningspolitik.pdf</td>\n",
       "    </tr>\n",
       "  </tbody>\n",
       "</table>\n",
       "</div>"
      ],
      "text/plain": [
       "                                                                                                                                                      Content Links  \\\n",
       "0  https://www.regeringen.se/remisser/2023/11/inbjudan-till-larosaten-myndigheter-och-organisationer-att-inkomma-med-synpunkter-till-regeringens-forskningspolitik/   \n",
       "\n",
       "                                                                             Publishing Info  \\\n",
       "0  Publicerad02 november 2023· Uppdaterad10 november 2023·RemissfrånUtbildningsdepartementet   \n",
       "\n",
       "                                                                                                                            Collected Links  \\\n",
       "0  /contentassets/c9981cbd1c054e3fa1a2a917d3e22939/inbjudan-till-larosatena-att-inkomma-med-underlag-till-regeringens-forskningspolitik.pdf   \n",
       "\n",
       "  Outside PDF Text  \\\n",
       "0       NO CONTENT   \n",
       "\n",
       "                                                                                                                                                Full Collected Links  \n",
       "0  https://www.regeringen.se/contentassets/c9981cbd1c054e3fa1a2a917d3e22939/inbjudan-till-larosatena-att-inkomma-med-underlag-till-regeringens-forskningspolitik.pdf  "
      ]
     },
     "execution_count": 20,
     "metadata": {},
     "output_type": "execute_result"
    }
   ],
   "source": [
    "practice_article_link_directory.head(1)"
   ]
  },
  {
   "cell_type": "markdown",
   "metadata": {},
   "source": [
    "# Collect Text Data from PDF Links"
   ]
  },
  {
   "cell_type": "markdown",
   "metadata": {},
   "source": [
    "### Collect Data (New Way)"
   ]
  },
  {
   "cell_type": "code",
   "execution_count": 21,
   "metadata": {},
   "outputs": [],
   "source": [
    "# No content alert\n",
    "no_content_alert = \"NO CONTENT\""
   ]
  },
  {
   "cell_type": "code",
   "execution_count": 22,
   "metadata": {},
   "outputs": [
    {
     "name": "stderr",
     "output_type": "stream",
     "text": [
      "Step 2: Collecting PDF Text:  98%|█████████▊| 49/50 [04:55<00:06,  6.02s/link]\n"
     ]
    }
   ],
   "source": [
    "# Specify the path to the CSV file\n",
    "csv_file_path = \"pdf_data.csv\"\n",
    "\n",
    "# Open the CSV file in write mode\n",
    "with open(csv_file_path, mode='w', newline='', encoding='utf-8') as csv_file:\n",
    "    # Create a CSV writer object\n",
    "    csv_writer = csv.writer(csv_file)\n",
    "\n",
    "    # Write the header row to the CSV file\n",
    "    csv_writer.writerow(['PDF URL', 'Inside PDF Text'])\n",
    "\n",
    "    for i, pdf_url in enumerate(tqdm(practice_article_link_directory['Full Collected Links'], desc=\"Step 2: Collecting PDF Text\", unit=\"link\")):\n",
    "        # Check if the URL contains the NO CONTENT alert\n",
    "        if \"NO CONTENT\" in pdf_url:\n",
    "            # Write the data to the CSV file\n",
    "            csv_writer.writerow([pdf_url, \"NO CONTENT\"])\n",
    "            continue\n",
    "\n",
    "        else:\n",
    "            try:\n",
    "                # Send an HTTP GET request to the PDF URL\n",
    "                response = requests.get(pdf_url)\n",
    "\n",
    "                # Check if the request was successful (status code 200)\n",
    "                if response.status_code == 200:\n",
    "                    # Wrap the response content in a BytesIO object\n",
    "                    pdf_bytes = BytesIO(response.content)\n",
    "\n",
    "                    # Create a PDF reader object\n",
    "                    pdf_reader = PyPDF2.PdfReader(pdf_bytes)\n",
    "\n",
    "                    # Initialize an empty string to store the text data\n",
    "                    text_data = \"\"\n",
    "\n",
    "                    # Use len(reader.pages) to determine the number of pages\n",
    "                    for page_num in range(len(pdf_reader.pages)):\n",
    "                        page = pdf_reader.pages[page_num]\n",
    "                        text_data += page.extract_text()\n",
    "\n",
    "                    # Write the data to the CSV file\n",
    "                    csv_writer.writerow([pdf_url, text_data])\n",
    "                else:\n",
    "                    print(f\"Failed to fetch PDF URL: {pdf_url}, Status code: {response.status_code}\")\n",
    "                    # Write the data to the CSV file\n",
    "                    csv_writer.writerow([pdf_url, \"NO CONTENT\"])\n",
    "\n",
    "            except Exception as e:\n",
    "                print(f\"An error occurred while processing PDF URL: {pdf_url}, Error: {str(e)}\")\n",
    "                # Write the data to the CSV file\n",
    "                csv_writer.writerow([pdf_url, \"NO CONTENT\"])\n",
    "\n",
    "        # Introduce a delay time before the next request\n",
    "        time.sleep(3)  # Adjust the delay time as needed\n",
    "\n",
    "        # Add a break statement if the loop index is equal to the expected number of links minus 1\n",
    "        if i == len(practice_article_link_directory['Full Collected Links']) - 1:\n",
    "            break\n",
    "\n"
   ]
  },
  {
   "cell_type": "code",
   "execution_count": 26,
   "metadata": {},
   "outputs": [],
   "source": [
    "test = pd.read_csv('pdf_data.csv')"
   ]
  },
  {
   "cell_type": "code",
   "execution_count": 25,
   "metadata": {},
   "outputs": [
    {
     "data": {
      "text/plain": [
       "50"
      ]
     },
     "execution_count": 25,
     "metadata": {},
     "output_type": "execute_result"
    }
   ],
   "source": [
    "len(test)"
   ]
  },
  {
   "cell_type": "code",
   "execution_count": 24,
   "metadata": {},
   "outputs": [
    {
     "data": {
      "text/html": [
       "<div>\n",
       "<style scoped>\n",
       "    .dataframe tbody tr th:only-of-type {\n",
       "        vertical-align: middle;\n",
       "    }\n",
       "\n",
       "    .dataframe tbody tr th {\n",
       "        vertical-align: top;\n",
       "    }\n",
       "\n",
       "    .dataframe thead th {\n",
       "        text-align: right;\n",
       "    }\n",
       "</style>\n",
       "<table border=\"1\" class=\"dataframe\">\n",
       "  <thead>\n",
       "    <tr style=\"text-align: right;\">\n",
       "      <th></th>\n",
       "      <th>PDF URL</th>\n",
       "      <th>Inside PDF Text</th>\n",
       "    </tr>\n",
       "  </thead>\n",
       "  <tbody>\n",
       "    <tr>\n",
       "      <th>0</th>\n",
       "      <td>https://www.regeringen.se/contentassets/c9981cbd1c054e3fa1a2a917d3e22939/inbjudan-till-larosatena-att-inkomma-med-underlag-till-regeringens-forskningspolitik.pdf</td>\n",
       "      <td>\\n  \\n \\n \\n2023 -04-26 \\nU2023/01467  \\n  \\n  \\n  \\nUtbildningsdepartementet  \\nUtbildningsministern  Rektorer enligt sändlista   \\n \\n \\nTelefonväxel: 08 -405 10 00  \\nFax: 08 -24 46 31  \\nWebb: www.regeringen.se  Postadress: 103 33 Stockholm  \\nBesöksadress: Drottninggatan 16  \\nE-post: u.registrator@regeringskansliet.se  \\n \\nInbjudan att inkomma med underlag till regeringens forsknings - \\noch innovationspolitik  \\nSom ett led i regeringens arbete med en kommande forsknings - och \\ninnovationspolitisk proposition, bjuder regeringen in universitet och \\nhögskolor att inkomma med underlag som kan bidra till regeringens \\nforsknings - och innovationspolitik, vars fokus är excellens, internationa -\\nlisering och innovation.  \\nI regeringsförklaringen 2022 har statsministern uttalat att utbildning och \\nforskning av hög kvalitet är h elt avgörande för Sveriges välstånd  och att det \\nsvenska näringslivet är ett drivhus för innovation och är världsledande inom \\nhållbarhet . Obunden forskning är en omistlig beståndsdel i det öppna sam -\\nhället.  Högre utbildning och forskning är avgörande för Sv eriges kompetens -\\nförsörjning och för att Sverige ska kunna möta olika samhällsutmaningar.  \\nRegeringen anser att en tydlig inriktning mot excellens krävs för att svensk \\nforskning ska vara konkurrenskraftig. Utbildning och forskning ska hålla en \\ninternationel lt sett hög kvalitet och bedrivas effektivt. Internationalisering, \\ninklusive student -, doktorand - och forskarmobilitet, är viktiga medel för att \\nsvensk forskning och innovation ska kunna nå högsta kvalitet. Det ska finnas \\nbra villkor för forskning och inno vation för det svenska näringslivet. Läro -\\nsätena ska ha goda förutsättningar att nyttiggöra forskningsresultat samt att \\nbidra till innovation och svensk konkurrenskraft . Den akademiska friheten \\nska främjas, värnas och bidra till ett öppet samhälle. Lärosät ena ska samverka \\nmed det omgivande samhället för ömsesidigt utbyte och verka för att utbild -\\nning och forskning kommer samhället till nytta. En fråga som vi  behöver ha \\nett förstärkt fokus på framöver är  samtidigt  de utmaningar och säkerhets -\\nrisker  som internationa lisering  kan innebära . 2 (4) \\n \\n Med detta brev vill jag inbjuda er att inkomma med underlag inför \\nkommande forsknings - och innovationspolitiska proposition. Delge gärna de \\nforsknings prioriteringar som har gjorts på ert lärosäte och hur den framtida \\ninriktningen ser ut. Kommentera i synnerhet hur lärosätets verksamhet \\nförhåller sig till de politiska prioriteringarna hög kvalitet i forskning och \\nutbildning, internationalisering  och innovation.  Kommentera även ert arbete \\nmed samverkan, med fokus på hur fors kningsresultat kan nyttiggöras.   \\nKommentera gärna i ert underlag hur ni arbetar med profilområden. Att \\nlärosätena arbetar strategiskt med att profilera sin forskning kan bidra till \\nexcellens och konkurrenskraft och regeringen kommer därför följa det \\narbete  som pågår och vilka överväganden som lärosätena hittills har gjort när \\ndet gäller profilområden. Regeringen avser att i den forsknings - och innova -\\ntions politiska propositionen återkomma i frågan om hur lärosätenas anslag \\ntill forskning och utbildning på forskarnivå ska fördelas. Något ansöknings -\\nförfarande rörande profilområden kommer inte att initieras innan dess.  \\nEventuella synpunkter avseende den statliga organisationen för extern \\nforsknings - och innovationsfinansiering  lämnas inte i det ta underlag. Det \\nkommer att finnas möjlighet att lämna sådana synpunkter efter att den \\npågående utredningen En effektiv organisation för statlig forsknings -\\nfinansiering (U2022:06) har lämnat sitt betänkande.  \\nRegeringen har även gett Forskningsrådet för hä lsa, arbetsliv och välfärd \\n(Forte), Forskningsrådet för miljö, areella näringar och samhällsbyggande \\n(Formas), Rymdstyrelsen, Statens energimyndighet , Verket för innovations -\\nsystem (Vinnova) och Vetenskapsrådet i uppdrag att utifrån sina respektive \\nansvars områden göra analyser och lämna rekommendationer som kan bidra \\ntill regeringens forsknings - och innovationspolitik (dnr. U2023/01317 ).  \\nSenas t den 31  oktober  2023 önskar Utbildningsdepartementet  ta emot \\nunderlaget till u.registrator@regeringskansliet.se . Ange dnr. U2023/01467.  \\nNär det gäller Sveriges Lantbruksuniversitet skickas underlag et till både \\nUtbildningsdepartementet och Landsbygds - och infrastruktur departementet. \\nSvaren kommer att läggas ut på regeringens hemsida.  \\nVänliga hälsningar,  \\n \\nMats Persson  3 (4) \\n \\n Sändlista  \\nUppsala universitet  \\nLunds universitet  \\nGöteborgs universitet  \\nStockholms universitet  \\nUmeå universitet  \\nLinköpings universitet  \\nKarolinska institutet  \\nKungl. Tekniska högskolan  \\nLuleå tekniska universitet  \\nKarlstads universitet  \\nLinnéuniversitetet  \\nÖrebro universitet  \\nMittuniversitetet  \\nMalmö universitet  \\nMälardal ens universitet  \\nSveriges lantbruksuniversitet  \\nBlekinge tekniska högskola  \\nFörsvarshögskolan  \\nGymnastik - och idrottshögskolan  \\nHögskolan i Borås  \\nHögskolan Dalarna  \\nHögskolan i Gävle  \\nHögskolan i Halmstad  \\nHögskolan Kristianstad  \\nHögskolan i Skövde  \\nHögskolan Väst  \\nKonstfack  \\nKungl. Konsthögskolan  \\nKungl. Musikhögskolan i Stockholm  \\nStockholms konstnärliga högskola  \\nSödertörns högskola  \\nAkademi för Ledarskap och Teologi  \\nBeckmans skola AB  \\nChalmers Tekniska Högskola AB  \\nEnskilda Högskolan Stockholm AB  \\nEricastiftelsen  \\nJohannelunds teologiska högskola  4 (4) \\n \\n Handelshögskolan i Stockholm  \\nMarie Cederschiöld högskola AB  \\nNewmaninstitutet AB  \\nSophiahemmet, Ideell förening  \\nStiftelsen Högskolan i Jönköping  \\nStiftelsen Rödakorshemmet  \\nStiftelsen Stockholms Musikpedagogiska  Institut  \\n \\n \\n</td>\n",
       "    </tr>\n",
       "    <tr>\n",
       "      <th>1</th>\n",
       "      <td>https://www.regeringen.se/contentassets/f0bce7ab7cb94f7ca766b01dc1399307/uppdrag-om-informationsinsatser-for-minskad-energianvandning-i-statlig-verksamhet.pdf</td>\n",
       "      <td>\\n  \\n \\n \\n \\n \\n  \\n   \\n  \\n   \\n \\n \\n \\n   \\n   \\n  \\n \\n \\n \\n \\n  \\n   \\n \\n      \\n  \\n \\n    \\n     \\n    \\n  \\n      \\n  \\n    \\n \\n   \\n      \\n    \\n    \\n     \\n       \\n     \\n      \\n \\n \\n     \\n      \\n    \\n   \\n   Regeringsbeslut I 1 \\n2023 -11-09 \\nKN2023/04281 \\nKlimat -och näringslivsdepartementet Statens energimyndighet \\nBox 310, \\n631 04 Eskilstuna \\nUppdrag om information sinsatser för minskad energianvändning \\ni statlig verksamhet \\nRegeringens beslut \\nRegeringen ger Statens energimyndighet (Energimyndigheten ) i uppdrag att \\ntill och med 31 december 2024 bistå övriga statliga myndigheter med \\nsärskilda informationsinsatser för att utveckla de delar av de statliga \\nmyndigheternas miljöledningsarbete som avser att minska el -och \\nenergianvändningen. Senast den 30 november 2023 ska Energimyndigheten \\npublicera en vägledning för myndig heternas genomförande av möjliga och \\nlämpliga åtgärder för att minska sin el -och energianvändning under \\nkommande vinter . \\nEnergimyndigheten ska redovisa en sammanställning av de statliga \\nmyndigheternas arbete med planering och genomförande av åtgärder för att \\nminska sin el- och energianvändning utifrån vad de statliga myndigheterna \\nredovisar i enlighet med förordning en (2009:907) om miljöledning i statliga \\nmyndigheter. Energimyndigheten ska även redovisa sina insatser till stöd för \\nmyndigheterna, samt de slutsatser som dragits från sammanställningen . En \\ndelredovisning ska lämnas senast den 30 juni 2024 och slutredovisning en ska \\nlämnas senast den 30 juni 2025 till Regeringskansliet (Klimat -och \\nnäringslivsdepartementet). \\nNärmare o m uppdraget \\nEnergimyndigheten s informationsinsatser till övriga statliga myndigheter ska \\nkomplettera de råd och åtgärder som Energimyndigheten presenterat inom \\nramen för uppdraget att vidta energibesparingsåtgärder inom den statliga \\nförvaltningen (Fi2022/02571). I nformationen ska bland annat innehålla goda \\nexempel på åtgärder och underlätta för myndigheterna att bedöma \\nTelefonväxel: 08 -405 10 00 Postadress: 103 33 Stockholm \\nWebb:  www.regeringen.se Besöksadress: Herkulesgatan 17 \\nE-post: kn.registrator@regeringskansliet.se  \\n    \\n      \\n \\n   \\n \\n    \\n  \\n \\n   \\n   \\n   \\n \\n   \\n \\n  \\n     \\n \\n     \\n    \\n     \\n    \\n   \\n \\n  \\n  \\n \\n    \\n \\n    \\n       \\n  \\n   \\n    \\n konsekvenser na av energieffektivisering, laststyrning och eventuella åtgärder \\nför att pausa viss verksamhet för att tillfälligt reducera e nergianvändningen . \\nEnergimyndighetens information ska även innehålla goda exempel på \\nåtgärder för att anpassa elanvändningen över dygnet efter el prisets variation \\noch topplasttimmar. \\nEnergimyndigheten ska från Naturvårdsverket inhämta den energirelaterade \\ninformation som statliga myndigheter redovisar i enlighet med förordning en \\nom miljöledning i statliga myndigheter. Skälen för regeringens beslut \\nElpriserna var 2022 mycket höga med stora variationer över dygnet och det \\nfanns en ökad risk för manuell frånkoppling av elförsörjningen. Minskad \\nelanvändning och anpassad elanvändning över dygnet utifrån elprisets \\nvariation kan dämpa e lpriserna och minska risken för frånkoppling . \\nElsystemet är en del av energisystemet och fö r att dämpa riskerna med höga \\nenergipriser behövs effektiviseringsåtgärder inriktade även på andra \\nenergibärare än el. Arbetet med att vidta åtgärder för att minska statsförvaltningens el -och energianvändning inleddes 2022 (Fi2022/02571). \\nDetta uppdrag innebär att Energimyndigheten ska öka sitt stöd till statliga \\nmyndigheter så att de kan vara föregångare och vidta åtgärder som bidrar till \\natt samhället blir mer energieffektivt och bättre förberett för en eventuell \\nsituation kommande vinter med höga el -och energi priser och ökad risk för \\nmanuell frånkoppling. \\nEuropaparlamentets och rådets direktiv (EU) 2023/1791 av den 13 \\nseptember 2023 om energieffektivitet och om ändring av förordning (EU) \\n2023/955 (omarbetning), det s.k. reviderade direktivet om energieffektivitet , \\ninnehåller ett mer ambitiöst EU -mål för energieffektivisering till 2030 och \\nställer krav på offentlig sektor att vara föregångare i arbetet. Myndighete rnas \\nansträngningar att vidta e nergieffektiviseringsåtgärder bör därför inte bara \\ngälla den kommande vintern utan fler a år framöver. \\nEn av utmaningarna för e lektrifieringen är begränsad kapacitet i elnätet på \\nnationell, regional och lokal nivå. Genom åtgärder som minskar \\nelanvändningen när elnätet är hårt belastat över året och dygnet , frigörs \\nkapacitet för ytterligare och snabbare elektrifiering för att uppnå klimatmål \\noch bidra till näringslivsutveckling. \\n2 (3)  \\n  \\n \\n  \\n  \\n  \\n \\n \\n På regeringens vägnar \\nEbba Busch \\nErik Särnholm \\nKopia till \\nNaturvårdsverket \\n3 (3)</td>\n",
       "    </tr>\n",
       "    <tr>\n",
       "      <th>2</th>\n",
       "      <td>https://www.regeringen.se/contentassets/18dbd317274c488997ede753f6df2670/remissmissiv-sou-2023_24.pdf</td>\n",
       "      <td>\\n Remiss  \\n \\n \\n2023 -06-27 \\nA2023/00885  \\n  \\n  \\n \\nArbetsmarknadsdepartementet  \\nEnheten för integration och arbetet mot segregation  \\nPer Ibertsson  \\n \\n \\n \\n   \\n \\n \\nTelefonväxel: 08 -405 10 00  \\nFax: 08 -411 36 16  \\nWebb: www.regeringen.se  Postadress: 103 33 Stockholm  \\nBesöksadress: Fredsgatan 8  \\nE-post: a.registrator@regeringskansliet.se  \\n \\nRemiss av delbetänkandet Etablering för fler – jämställda \\nmöjligheter till integration (SOU 2023:24)  \\nRemissinstanser  \\n1. Arbetsförmedlingen  \\n2. Arboga kommun  \\n3. Barnombudsmannen  \\n4. Boden kommun  \\n5. Borgholm kommun  \\n6. Botkyrka kommun  \\n7. Burlöv kommun  \\n8. Centrala studiestödsnämnden  \\n9. Delegationen för migrationsstudier  \\n10. Diskrimineringsombudsmannen  \\n11. Enköping kommun  \\n12. Entreprenö rskapsforum  \\n13. Fagersta kommun  \\n14. Falkenberg kommun  \\n15. Folkbildningsrådet  \\n16. Folkhälsomyndigheten  \\n17. Funktionsrätt Sverige  \\n18. Företagarna   \\n2 (5) \\n \\n 19. Försäkringskassan  \\n20. Förvaltningsrätten i Malmö  \\n21. Göteborg kommun  \\n22. Helsingborg kommun  \\n23. Härryda kommun  \\n24. Hässleholm kommun  \\n25. Inspektionen för arbetslöshetsförsäkring  \\n26. Inspektionen för socialförsäkringen  \\n27. Institutet för arbetsmarknads - och utbildningspolitisk utvärdering  \\n28. Institutet för mänskliga rättigheter  \\n29. Integritetsskyddsmyndigheten  \\n30. Justitiekanslern  \\n31. Jämställdhetsmyndigheten  \\n32. Kammarrätten i Stockholm  \\n33. Kiruna kommun  \\n34. Landskrona kommun  \\n35. Landsorganisationen i Sverige  \\n36. Landsrådet för Sveriges Ungdomsorganisationer  \\n37. Länsstyrelsen i Dalarnas län  \\n38. Länsstyrelsen i Jönköpings län  \\n39. Länsstyrelsen i Södermanlands län  \\n40. Länsstyrelsen i Västernorrlands län  \\n41. Länsstyrelsen i Västra Götalands län  \\n42. Malmö kommun  \\n43. Malmö universitet  \\n44. Migrationsverket  \\n45. Myndigheten för ungdoms - och civilsamhäll esfrågor  \\n46. Mölndal kommun   \\n3 (5) \\n \\n 47. Nationellt centrum mot hedersrelaterat våld och förtyck vid \\nLänsstyrelsen Östergötland  \\n48. Nässjö kommun  \\n49. Oskarshamn kommun  \\n50. Region Stockholm  \\n51. Region Värmland  \\n52. Region Västerbotten  \\n53. Riksförbundet för homosexuellas, bisexuellas, transpersoners , queeras \\noch intersexpersoners rättigheter  \\n54. Riksorganisationen GAPF  \\n55. Riksrevisionen  \\n56. Ronneby kommun  \\n57. Rädda barnen  \\n58. Rättvik kommun  \\n59. Samarbetsorgan för etniska organisationer i Sverige  \\n60. Sandviken kommun  \\n61. Skatteverket  \\n62. Socialstyrelsen  \\n63. Sollefteå kommun  \\n64. Statens servicecenter  \\n65. Statens skolinspektion  \\n66. Statens skolverk  \\n67. Statskontoret  \\n68. Stockholm kommun  \\n69. Stockholms universitet  \\n70. Sundsvall kommun  \\n71. Svenska ESF -rådet  \\n72. Svenska kyrkan  \\n73. Svenska Röda Korset   \\n4 (5) \\n \\n 74. Svenskt Näringsliv  \\n75. Sveriges akademikers centralorganisation  \\n76. Sveriges Kommuner  och Regioner  \\n77. Sveriges kvinnoorganisationer  \\n78. Säffle kommun  \\n79. Södertälje kommun  \\n80. Tibro kommun  \\n81. Tillväxtverket  \\n82. Tjänstemännens centralorganisation  \\n83. UNHCR:s kontor för de nordiska och baltiska länderna  \\n84. Uppsala kommun  \\n85. Uppsala universitet  \\n86. Vännäs kommun  \\n87. Växjö kommun  \\nRemissvaren ska ha kommit in till Arbetsmarknadsdepartementet  senast \\nden 15 november 2023 . Svaren bör lämnas per e -post till \\na.remissvar@regeringskansliet.se  och med kopia till \\na.ias@regeringskansliet.se . Ange diarienummer A2023/00885  och \\nremissin stansens namn i ämnesraden på e -postmeddelandet.  \\nSvaret bör lämnas i två versioner: den ena i ett bearbetningsbart format (t.ex. \\nWord), den andra i ett format (t.ex. pdf) som följer tillgänglighetskraven \\nenligt lagen (2018:1937) om tillgänglighet till digital offentlig service. \\nRemissinstansens namn ska anges i namnet på respektive dokument.  \\nRemissvaren kommer att publiceras  på regeringens webbplats.  \\nI remissen ligger att regeringen vill ha synpunkter på förslagen eller \\nmaterialet i  betänkandet. Om remissen är begränsad till en viss del av \\nbetänkandet, anges detta inom parentes efter remissinstansens namn i \\nremisslistan. En sådan begränsning hindrar givetvis inte att remissinstansen \\nlämnar synpunkter också på övriga delar.   \\n5 (5) \\n \\n Myndighete r under regeringen  är skyldiga att svara på remissen. En \\nmyndighet avgör dock på eget ansvar om den har några synpunkter att \\nredovisa i ett svar. Om myndigheten inte har några synpunkter, räcker det att \\nsvaret ger besked om detta.  \\nFör andra remissinstanser  innebär remissen en inbjudan att lämna \\nsynpunkter.  \\nBetänkandet kan laddas ned från Regeringskansliets webbplats \\nwww.regeringen.se.  \\nRemissinstanserna kan utan kostnad beställa tryckta exemplar av \\nbetänkandet  via ett beställningsformulär hos Elanders Sverige AB . \\nRåd om hur remissyttranden utformas finns i Statsrådsberedningens \\npromemoria Svara på remiss (SB PM 2021:1) . Den kan ladd as ned från \\nRegeringskansliets webbplats www.regeringen.se.  \\n \\n \\n \\nCatharina Nordlander  \\nRättschef  \\n \\n \\n \\n \\nKopia till  \\nElanders Sverige AB, e -postadress: betankande@elanders.com  \\n \\n</td>\n",
       "    </tr>\n",
       "  </tbody>\n",
       "</table>\n",
       "</div>"
      ],
      "text/plain": [
       "                                                                                                                                                             PDF URL  \\\n",
       "0  https://www.regeringen.se/contentassets/c9981cbd1c054e3fa1a2a917d3e22939/inbjudan-till-larosatena-att-inkomma-med-underlag-till-regeringens-forskningspolitik.pdf   \n",
       "1     https://www.regeringen.se/contentassets/f0bce7ab7cb94f7ca766b01dc1399307/uppdrag-om-informationsinsatser-for-minskad-energianvandning-i-statlig-verksamhet.pdf   \n",
       "2                                                              https://www.regeringen.se/contentassets/18dbd317274c488997ede753f6df2670/remissmissiv-sou-2023_24.pdf   \n",
       "\n",
       "                                                                                                                                                                                                                                                                                                                                                                                                                                                                                                                                                                                                                                                                                                                                                                                                                                                                                                                                                                                                                                                                                                                                                                                                                                                                                                                                                                                                                                                                                                                                                                                                                                                                                                                                                                                                                                                                                                                                                                                                                                                                                                                                                                                                                                                                                                                                                                                                                                                                                                                                                                                                                                                                                                                                                                                                                                                                                                                                                                                                                                                                                                                                                                                                                                                                                                                                                                                                                                                                                                                                                                                                                                                                                                                                                                                                                                                                                                                                                                                                                                                                                                                                                                                                                                                                                                                                                                                                                                                                                                                                                                                                                                                                                                                                                                                                                                                                                                                                                                                                                                                                                                                                                                                                                                                                                                                                                                                                                                                                                                                                                                                                                                                                                                                                                                                                                                                                                                                                                                                                                                          Inside PDF Text  \n",
       "0      \\n  \\n \\n \\n2023 -04-26 \\nU2023/01467  \\n  \\n  \\n  \\nUtbildningsdepartementet  \\nUtbildningsministern  Rektorer enligt sändlista   \\n \\n \\nTelefonväxel: 08 -405 10 00  \\nFax: 08 -24 46 31  \\nWebb: www.regeringen.se  Postadress: 103 33 Stockholm  \\nBesöksadress: Drottninggatan 16  \\nE-post: u.registrator@regeringskansliet.se  \\n \\nInbjudan att inkomma med underlag till regeringens forsknings - \\noch innovationspolitik  \\nSom ett led i regeringens arbete med en kommande forsknings - och \\ninnovationspolitisk proposition, bjuder regeringen in universitet och \\nhögskolor att inkomma med underlag som kan bidra till regeringens \\nforsknings - och innovationspolitik, vars fokus är excellens, internationa -\\nlisering och innovation.  \\nI regeringsförklaringen 2022 har statsministern uttalat att utbildning och \\nforskning av hög kvalitet är h elt avgörande för Sveriges välstånd  och att det \\nsvenska näringslivet är ett drivhus för innovation och är världsledande inom \\nhållbarhet . Obunden forskning är en omistlig beståndsdel i det öppna sam -\\nhället.  Högre utbildning och forskning är avgörande för Sv eriges kompetens -\\nförsörjning och för att Sverige ska kunna möta olika samhällsutmaningar.  \\nRegeringen anser att en tydlig inriktning mot excellens krävs för att svensk \\nforskning ska vara konkurrenskraftig. Utbildning och forskning ska hålla en \\ninternationel lt sett hög kvalitet och bedrivas effektivt. Internationalisering, \\ninklusive student -, doktorand - och forskarmobilitet, är viktiga medel för att \\nsvensk forskning och innovation ska kunna nå högsta kvalitet. Det ska finnas \\nbra villkor för forskning och inno vation för det svenska näringslivet. Läro -\\nsätena ska ha goda förutsättningar att nyttiggöra forskningsresultat samt att \\nbidra till innovation och svensk konkurrenskraft . Den akademiska friheten \\nska främjas, värnas och bidra till ett öppet samhälle. Lärosät ena ska samverka \\nmed det omgivande samhället för ömsesidigt utbyte och verka för att utbild -\\nning och forskning kommer samhället till nytta. En fråga som vi  behöver ha \\nett förstärkt fokus på framöver är  samtidigt  de utmaningar och säkerhets -\\nrisker  som internationa lisering  kan innebära . 2 (4) \\n \\n Med detta brev vill jag inbjuda er att inkomma med underlag inför \\nkommande forsknings - och innovationspolitiska proposition. Delge gärna de \\nforsknings prioriteringar som har gjorts på ert lärosäte och hur den framtida \\ninriktningen ser ut. Kommentera i synnerhet hur lärosätets verksamhet \\nförhåller sig till de politiska prioriteringarna hög kvalitet i forskning och \\nutbildning, internationalisering  och innovation.  Kommentera även ert arbete \\nmed samverkan, med fokus på hur fors kningsresultat kan nyttiggöras.   \\nKommentera gärna i ert underlag hur ni arbetar med profilområden. Att \\nlärosätena arbetar strategiskt med att profilera sin forskning kan bidra till \\nexcellens och konkurrenskraft och regeringen kommer därför följa det \\narbete  som pågår och vilka överväganden som lärosätena hittills har gjort när \\ndet gäller profilområden. Regeringen avser att i den forsknings - och innova -\\ntions politiska propositionen återkomma i frågan om hur lärosätenas anslag \\ntill forskning och utbildning på forskarnivå ska fördelas. Något ansöknings -\\nförfarande rörande profilområden kommer inte att initieras innan dess.  \\nEventuella synpunkter avseende den statliga organisationen för extern \\nforsknings - och innovationsfinansiering  lämnas inte i det ta underlag. Det \\nkommer att finnas möjlighet att lämna sådana synpunkter efter att den \\npågående utredningen En effektiv organisation för statlig forsknings -\\nfinansiering (U2022:06) har lämnat sitt betänkande.  \\nRegeringen har även gett Forskningsrådet för hä lsa, arbetsliv och välfärd \\n(Forte), Forskningsrådet för miljö, areella näringar och samhällsbyggande \\n(Formas), Rymdstyrelsen, Statens energimyndighet , Verket för innovations -\\nsystem (Vinnova) och Vetenskapsrådet i uppdrag att utifrån sina respektive \\nansvars områden göra analyser och lämna rekommendationer som kan bidra \\ntill regeringens forsknings - och innovationspolitik (dnr. U2023/01317 ).  \\nSenas t den 31  oktober  2023 önskar Utbildningsdepartementet  ta emot \\nunderlaget till u.registrator@regeringskansliet.se . Ange dnr. U2023/01467.  \\nNär det gäller Sveriges Lantbruksuniversitet skickas underlag et till både \\nUtbildningsdepartementet och Landsbygds - och infrastruktur departementet. \\nSvaren kommer att läggas ut på regeringens hemsida.  \\nVänliga hälsningar,  \\n \\nMats Persson  3 (4) \\n \\n Sändlista  \\nUppsala universitet  \\nLunds universitet  \\nGöteborgs universitet  \\nStockholms universitet  \\nUmeå universitet  \\nLinköpings universitet  \\nKarolinska institutet  \\nKungl. Tekniska högskolan  \\nLuleå tekniska universitet  \\nKarlstads universitet  \\nLinnéuniversitetet  \\nÖrebro universitet  \\nMittuniversitetet  \\nMalmö universitet  \\nMälardal ens universitet  \\nSveriges lantbruksuniversitet  \\nBlekinge tekniska högskola  \\nFörsvarshögskolan  \\nGymnastik - och idrottshögskolan  \\nHögskolan i Borås  \\nHögskolan Dalarna  \\nHögskolan i Gävle  \\nHögskolan i Halmstad  \\nHögskolan Kristianstad  \\nHögskolan i Skövde  \\nHögskolan Väst  \\nKonstfack  \\nKungl. Konsthögskolan  \\nKungl. Musikhögskolan i Stockholm  \\nStockholms konstnärliga högskola  \\nSödertörns högskola  \\nAkademi för Ledarskap och Teologi  \\nBeckmans skola AB  \\nChalmers Tekniska Högskola AB  \\nEnskilda Högskolan Stockholm AB  \\nEricastiftelsen  \\nJohannelunds teologiska högskola  4 (4) \\n \\n Handelshögskolan i Stockholm  \\nMarie Cederschiöld högskola AB  \\nNewmaninstitutet AB  \\nSophiahemmet, Ideell förening  \\nStiftelsen Högskolan i Jönköping  \\nStiftelsen Rödakorshemmet  \\nStiftelsen Stockholms Musikpedagogiska  Institut  \\n \\n \\n   \n",
       "1                                                                                                                                                                                                                                                                                                                                                                                                                                                                                                                                                                                                                                                                                                                                                                                                                                                                                                                                                                                                                               \\n  \\n \\n \\n \\n \\n  \\n   \\n  \\n   \\n \\n \\n \\n   \\n   \\n  \\n \\n \\n \\n \\n  \\n   \\n \\n      \\n  \\n \\n    \\n     \\n    \\n  \\n      \\n  \\n    \\n \\n   \\n      \\n    \\n    \\n     \\n       \\n     \\n      \\n \\n \\n     \\n      \\n    \\n   \\n   Regeringsbeslut I 1 \\n2023 -11-09 \\nKN2023/04281 \\nKlimat -och näringslivsdepartementet Statens energimyndighet \\nBox 310, \\n631 04 Eskilstuna \\nUppdrag om information sinsatser för minskad energianvändning \\ni statlig verksamhet \\nRegeringens beslut \\nRegeringen ger Statens energimyndighet (Energimyndigheten ) i uppdrag att \\ntill och med 31 december 2024 bistå övriga statliga myndigheter med \\nsärskilda informationsinsatser för att utveckla de delar av de statliga \\nmyndigheternas miljöledningsarbete som avser att minska el -och \\nenergianvändningen. Senast den 30 november 2023 ska Energimyndigheten \\npublicera en vägledning för myndig heternas genomförande av möjliga och \\nlämpliga åtgärder för att minska sin el -och energianvändning under \\nkommande vinter . \\nEnergimyndigheten ska redovisa en sammanställning av de statliga \\nmyndigheternas arbete med planering och genomförande av åtgärder för att \\nminska sin el- och energianvändning utifrån vad de statliga myndigheterna \\nredovisar i enlighet med förordning en (2009:907) om miljöledning i statliga \\nmyndigheter. Energimyndigheten ska även redovisa sina insatser till stöd för \\nmyndigheterna, samt de slutsatser som dragits från sammanställningen . En \\ndelredovisning ska lämnas senast den 30 juni 2024 och slutredovisning en ska \\nlämnas senast den 30 juni 2025 till Regeringskansliet (Klimat -och \\nnäringslivsdepartementet). \\nNärmare o m uppdraget \\nEnergimyndigheten s informationsinsatser till övriga statliga myndigheter ska \\nkomplettera de råd och åtgärder som Energimyndigheten presenterat inom \\nramen för uppdraget att vidta energibesparingsåtgärder inom den statliga \\nförvaltningen (Fi2022/02571). I nformationen ska bland annat innehålla goda \\nexempel på åtgärder och underlätta för myndigheterna att bedöma \\nTelefonväxel: 08 -405 10 00 Postadress: 103 33 Stockholm \\nWebb:  www.regeringen.se Besöksadress: Herkulesgatan 17 \\nE-post: kn.registrator@regeringskansliet.se  \\n    \\n      \\n \\n   \\n \\n    \\n  \\n \\n   \\n   \\n   \\n \\n   \\n \\n  \\n     \\n \\n     \\n    \\n     \\n    \\n   \\n \\n  \\n  \\n \\n    \\n \\n    \\n       \\n  \\n   \\n    \\n konsekvenser na av energieffektivisering, laststyrning och eventuella åtgärder \\nför att pausa viss verksamhet för att tillfälligt reducera e nergianvändningen . \\nEnergimyndighetens information ska även innehålla goda exempel på \\nåtgärder för att anpassa elanvändningen över dygnet efter el prisets variation \\noch topplasttimmar. \\nEnergimyndigheten ska från Naturvårdsverket inhämta den energirelaterade \\ninformation som statliga myndigheter redovisar i enlighet med förordning en \\nom miljöledning i statliga myndigheter. Skälen för regeringens beslut \\nElpriserna var 2022 mycket höga med stora variationer över dygnet och det \\nfanns en ökad risk för manuell frånkoppling av elförsörjningen. Minskad \\nelanvändning och anpassad elanvändning över dygnet utifrån elprisets \\nvariation kan dämpa e lpriserna och minska risken för frånkoppling . \\nElsystemet är en del av energisystemet och fö r att dämpa riskerna med höga \\nenergipriser behövs effektiviseringsåtgärder inriktade även på andra \\nenergibärare än el. Arbetet med att vidta åtgärder för att minska statsförvaltningens el -och energianvändning inleddes 2022 (Fi2022/02571). \\nDetta uppdrag innebär att Energimyndigheten ska öka sitt stöd till statliga \\nmyndigheter så att de kan vara föregångare och vidta åtgärder som bidrar till \\natt samhället blir mer energieffektivt och bättre förberett för en eventuell \\nsituation kommande vinter med höga el -och energi priser och ökad risk för \\nmanuell frånkoppling. \\nEuropaparlamentets och rådets direktiv (EU) 2023/1791 av den 13 \\nseptember 2023 om energieffektivitet och om ändring av förordning (EU) \\n2023/955 (omarbetning), det s.k. reviderade direktivet om energieffektivitet , \\ninnehåller ett mer ambitiöst EU -mål för energieffektivisering till 2030 och \\nställer krav på offentlig sektor att vara föregångare i arbetet. Myndighete rnas \\nansträngningar att vidta e nergieffektiviseringsåtgärder bör därför inte bara \\ngälla den kommande vintern utan fler a år framöver. \\nEn av utmaningarna för e lektrifieringen är begränsad kapacitet i elnätet på \\nnationell, regional och lokal nivå. Genom åtgärder som minskar \\nelanvändningen när elnätet är hårt belastat över året och dygnet , frigörs \\nkapacitet för ytterligare och snabbare elektrifiering för att uppnå klimatmål \\noch bidra till näringslivsutveckling. \\n2 (3)  \\n  \\n \\n  \\n  \\n  \\n \\n \\n På regeringens vägnar \\nEbba Busch \\nErik Särnholm \\nKopia till \\nNaturvårdsverket \\n3 (3)   \n",
       "2                                                                                                                                                                                                                                                                                                                                                                                                                                                                                                                                                                                                                                                          \\n Remiss  \\n \\n \\n2023 -06-27 \\nA2023/00885  \\n  \\n  \\n \\nArbetsmarknadsdepartementet  \\nEnheten för integration och arbetet mot segregation  \\nPer Ibertsson  \\n \\n \\n \\n   \\n \\n \\nTelefonväxel: 08 -405 10 00  \\nFax: 08 -411 36 16  \\nWebb: www.regeringen.se  Postadress: 103 33 Stockholm  \\nBesöksadress: Fredsgatan 8  \\nE-post: a.registrator@regeringskansliet.se  \\n \\nRemiss av delbetänkandet Etablering för fler – jämställda \\nmöjligheter till integration (SOU 2023:24)  \\nRemissinstanser  \\n1. Arbetsförmedlingen  \\n2. Arboga kommun  \\n3. Barnombudsmannen  \\n4. Boden kommun  \\n5. Borgholm kommun  \\n6. Botkyrka kommun  \\n7. Burlöv kommun  \\n8. Centrala studiestödsnämnden  \\n9. Delegationen för migrationsstudier  \\n10. Diskrimineringsombudsmannen  \\n11. Enköping kommun  \\n12. Entreprenö rskapsforum  \\n13. Fagersta kommun  \\n14. Falkenberg kommun  \\n15. Folkbildningsrådet  \\n16. Folkhälsomyndigheten  \\n17. Funktionsrätt Sverige  \\n18. Företagarna   \\n2 (5) \\n \\n 19. Försäkringskassan  \\n20. Förvaltningsrätten i Malmö  \\n21. Göteborg kommun  \\n22. Helsingborg kommun  \\n23. Härryda kommun  \\n24. Hässleholm kommun  \\n25. Inspektionen för arbetslöshetsförsäkring  \\n26. Inspektionen för socialförsäkringen  \\n27. Institutet för arbetsmarknads - och utbildningspolitisk utvärdering  \\n28. Institutet för mänskliga rättigheter  \\n29. Integritetsskyddsmyndigheten  \\n30. Justitiekanslern  \\n31. Jämställdhetsmyndigheten  \\n32. Kammarrätten i Stockholm  \\n33. Kiruna kommun  \\n34. Landskrona kommun  \\n35. Landsorganisationen i Sverige  \\n36. Landsrådet för Sveriges Ungdomsorganisationer  \\n37. Länsstyrelsen i Dalarnas län  \\n38. Länsstyrelsen i Jönköpings län  \\n39. Länsstyrelsen i Södermanlands län  \\n40. Länsstyrelsen i Västernorrlands län  \\n41. Länsstyrelsen i Västra Götalands län  \\n42. Malmö kommun  \\n43. Malmö universitet  \\n44. Migrationsverket  \\n45. Myndigheten för ungdoms - och civilsamhäll esfrågor  \\n46. Mölndal kommun   \\n3 (5) \\n \\n 47. Nationellt centrum mot hedersrelaterat våld och förtyck vid \\nLänsstyrelsen Östergötland  \\n48. Nässjö kommun  \\n49. Oskarshamn kommun  \\n50. Region Stockholm  \\n51. Region Värmland  \\n52. Region Västerbotten  \\n53. Riksförbundet för homosexuellas, bisexuellas, transpersoners , queeras \\noch intersexpersoners rättigheter  \\n54. Riksorganisationen GAPF  \\n55. Riksrevisionen  \\n56. Ronneby kommun  \\n57. Rädda barnen  \\n58. Rättvik kommun  \\n59. Samarbetsorgan för etniska organisationer i Sverige  \\n60. Sandviken kommun  \\n61. Skatteverket  \\n62. Socialstyrelsen  \\n63. Sollefteå kommun  \\n64. Statens servicecenter  \\n65. Statens skolinspektion  \\n66. Statens skolverk  \\n67. Statskontoret  \\n68. Stockholm kommun  \\n69. Stockholms universitet  \\n70. Sundsvall kommun  \\n71. Svenska ESF -rådet  \\n72. Svenska kyrkan  \\n73. Svenska Röda Korset   \\n4 (5) \\n \\n 74. Svenskt Näringsliv  \\n75. Sveriges akademikers centralorganisation  \\n76. Sveriges Kommuner  och Regioner  \\n77. Sveriges kvinnoorganisationer  \\n78. Säffle kommun  \\n79. Södertälje kommun  \\n80. Tibro kommun  \\n81. Tillväxtverket  \\n82. Tjänstemännens centralorganisation  \\n83. UNHCR:s kontor för de nordiska och baltiska länderna  \\n84. Uppsala kommun  \\n85. Uppsala universitet  \\n86. Vännäs kommun  \\n87. Växjö kommun  \\nRemissvaren ska ha kommit in till Arbetsmarknadsdepartementet  senast \\nden 15 november 2023 . Svaren bör lämnas per e -post till \\na.remissvar@regeringskansliet.se  och med kopia till \\na.ias@regeringskansliet.se . Ange diarienummer A2023/00885  och \\nremissin stansens namn i ämnesraden på e -postmeddelandet.  \\nSvaret bör lämnas i två versioner: den ena i ett bearbetningsbart format (t.ex. \\nWord), den andra i ett format (t.ex. pdf) som följer tillgänglighetskraven \\nenligt lagen (2018:1937) om tillgänglighet till digital offentlig service. \\nRemissinstansens namn ska anges i namnet på respektive dokument.  \\nRemissvaren kommer att publiceras  på regeringens webbplats.  \\nI remissen ligger att regeringen vill ha synpunkter på förslagen eller \\nmaterialet i  betänkandet. Om remissen är begränsad till en viss del av \\nbetänkandet, anges detta inom parentes efter remissinstansens namn i \\nremisslistan. En sådan begränsning hindrar givetvis inte att remissinstansen \\nlämnar synpunkter också på övriga delar.   \\n5 (5) \\n \\n Myndighete r under regeringen  är skyldiga att svara på remissen. En \\nmyndighet avgör dock på eget ansvar om den har några synpunkter att \\nredovisa i ett svar. Om myndigheten inte har några synpunkter, räcker det att \\nsvaret ger besked om detta.  \\nFör andra remissinstanser  innebär remissen en inbjudan att lämna \\nsynpunkter.  \\nBetänkandet kan laddas ned från Regeringskansliets webbplats \\nwww.regeringen.se.  \\nRemissinstanserna kan utan kostnad beställa tryckta exemplar av \\nbetänkandet  via ett beställningsformulär hos Elanders Sverige AB . \\nRåd om hur remissyttranden utformas finns i Statsrådsberedningens \\npromemoria Svara på remiss (SB PM 2021:1) . Den kan ladd as ned från \\nRegeringskansliets webbplats www.regeringen.se.  \\n \\n \\n \\nCatharina Nordlander  \\nRättschef  \\n \\n \\n \\n \\nKopia till  \\nElanders Sverige AB, e -postadress: betankande@elanders.com  \\n \\n   "
      ]
     },
     "execution_count": 24,
     "metadata": {},
     "output_type": "execute_result"
    }
   ],
   "source": [
    "test.head(3)"
   ]
  },
  {
   "cell_type": "markdown",
   "metadata": {},
   "source": [
    "### Collect data (old way)"
   ]
  },
  {
   "cell_type": "code",
   "execution_count": 43,
   "metadata": {},
   "outputs": [
    {
     "name": "stderr",
     "output_type": "stream",
     "text": [
      "Step 2: Collecting PDF Text: 100%|██████████| 10/10 [00:55<00:00,  5.55s/link]\n"
     ]
    }
   ],
   "source": [
    "# COLLECT PDF TEXT CONTENT\n",
    "\n",
    "# Initialize an empty list to collect text data from PDFs\n",
    "pdf_text_data = []\n",
    "\n",
    "for pdf_url in tqdm(practice_article_link_directory['Full Collected Links'], desc = \"Step 2: Collecting PDF Text\", unit = \"link\"):\n",
    "    \n",
    "    # Check if the URL contains the NO CONTENT alert\n",
    "    if \"NO CONTENT\" in pdf_url:\n",
    "        # If yes, append \"NO CONTENT\" to pdf_text_data and continue to the next URL\n",
    "        pdf_text_data.append(\"NO CONTENT\")\n",
    "\n",
    "    else:\n",
    "        try:\n",
    "            # Send an HTTP GET request to the PDF URL\n",
    "            response = requests.get(pdf_url)\n",
    "\n",
    "            # Check if the request was successful (status code 200)\n",
    "            if response.status_code == 200:\n",
    "                # Wrap the response content in a BytesIO object\n",
    "                pdf_bytes = BytesIO(response.content)\n",
    "\n",
    "                # Create a PDF reader object\n",
    "                pdf_reader = PyPDF2.PdfReader(pdf_bytes)\n",
    "\n",
    "                # Initialize an empty string to store the text data\n",
    "                text_data = \"\"\n",
    "\n",
    "                # Use len(reader.pages) to determine the number of pages\n",
    "                for page_num in range(len(pdf_reader.pages)):\n",
    "                    page = pdf_reader.pages[page_num]\n",
    "                    text_data += page.extract_text()\n",
    "\n",
    "                # Append the extracted text to the pdf_text_data list\n",
    "                pdf_text_data.append(text_data)\n",
    "            else:\n",
    "                print(f\"Failed to fetch PDF URL: {pdf_url}, Status code: {response.status_code}\")\n",
    "                pdf_text_data.append(\"NO CONTENT\")\n",
    "\n",
    "        except Exception as e:\n",
    "            print(f\"An error occurred while processing PDF URL: {pdf_url}, Error: {str(e)}\")\n",
    "            pdf_text_data.append(\"NO CONTENT\")\n",
    "\n",
    "    # Introduce a random delay time before the next request\n",
    "    time.sleep(3)  # Adjust the delay time as needed\n"
   ]
  },
  {
   "cell_type": "code",
   "execution_count": 44,
   "metadata": {},
   "outputs": [
    {
     "name": "stderr",
     "output_type": "stream",
     "text": [
      "C:\\Users\\ryanh\\AppData\\Local\\Temp\\ipykernel_28180\\3828830412.py:2: SettingWithCopyWarning: \n",
      "A value is trying to be set on a copy of a slice from a DataFrame.\n",
      "Try using .loc[row_indexer,col_indexer] = value instead\n",
      "\n",
      "See the caveats in the documentation: https://pandas.pydata.org/pandas-docs/stable/user_guide/indexing.html#returning-a-view-versus-a-copy\n",
      "  practice_article_link_directory['Inside PDF Text'] = pdf_text_data\n"
     ]
    }
   ],
   "source": [
    "# Create a new column \"Inside PDF Text\" in article_link_directory and assign pdf_text_data to it\n",
    "practice_article_link_directory['Inside PDF Text'] = pdf_text_data"
   ]
  },
  {
   "cell_type": "code",
   "execution_count": 45,
   "metadata": {},
   "outputs": [
    {
     "data": {
      "text/html": [
       "<div>\n",
       "<style scoped>\n",
       "    .dataframe tbody tr th:only-of-type {\n",
       "        vertical-align: middle;\n",
       "    }\n",
       "\n",
       "    .dataframe tbody tr th {\n",
       "        vertical-align: top;\n",
       "    }\n",
       "\n",
       "    .dataframe thead th {\n",
       "        text-align: right;\n",
       "    }\n",
       "</style>\n",
       "<table border=\"1\" class=\"dataframe\">\n",
       "  <thead>\n",
       "    <tr style=\"text-align: right;\">\n",
       "      <th></th>\n",
       "      <th>Content Links</th>\n",
       "      <th>Publishing Info</th>\n",
       "      <th>Collected Links</th>\n",
       "      <th>Outside PDF Text</th>\n",
       "      <th>Full Collected Links</th>\n",
       "      <th>Inside PDF Text</th>\n",
       "    </tr>\n",
       "  </thead>\n",
       "  <tbody>\n",
       "    <tr>\n",
       "      <th>0</th>\n",
       "      <td>https://www.regeringen.se/remisser/2023/11/inbjudan-till-larosaten-myndigheter-och-organisationer-att-inkomma-med-synpunkter-till-regeringens-forskningspolitik/</td>\n",
       "      <td>Publicerad02 november 2023· Uppdaterad10 november 2023·RemissfrånUtbildningsdepartementet</td>\n",
       "      <td>/contentassets/c9981cbd1c054e3fa1a2a917d3e22939/inbjudan-till-larosatena-att-inkomma-med-underlag-till-regeringens-forskningspolitik.pdf</td>\n",
       "      <td>NO CONTENT</td>\n",
       "      <td>https://www.regeringen.se/contentassets/c9981cbd1c054e3fa1a2a917d3e22939/inbjudan-till-larosatena-att-inkomma-med-underlag-till-regeringens-forskningspolitik.pdf</td>\n",
       "      <td>\\n  \\n \\n \\n2023 -04-26 \\nU2023/01467  \\n  \\n  \\n  \\nUtbildningsdepartementet  \\nUtbildningsministern  Rektorer enligt sändlista   \\n \\n \\nTelefonväxel: 08 -405 10 00  \\nFax: 08 -24 46 31  \\nWebb: www.regeringen.se  Postadress: 103 33 Stockholm  \\nBesöksadress: Drottninggatan 16  \\nE-post: u.registrator@regeringskansliet.se  \\n \\nInbjudan att inkomma med underlag till regeringens forsknings - \\noch innovationspolitik  \\nSom ett led i regeringens arbete med en kommande forsknings - och \\ninnovationspolitisk proposition, bjuder regeringen in universitet och \\nhögskolor att inkomma med underlag som kan bidra till regeringens \\nforsknings - och innovationspolitik, vars fokus är excellens, internationa -\\nlisering och innovation.  \\nI regeringsförklaringen 2022 har statsministern uttalat att utbildning och \\nforskning av hög kvalitet är h elt avgörande för Sveriges välstånd  och att det \\nsvenska näringslivet är ett drivhus för innovation och är världsledande inom \\nhållbarhet . Obunden forskning är en omistlig beståndsdel i det öppna sam -\\nhället.  Högre utbildning och forskning är avgörande för Sv eriges kompetens -\\nförsörjning och för att Sverige ska kunna möta olika samhällsutmaningar.  \\nRegeringen anser att en tydlig inriktning mot excellens krävs för att svensk \\nforskning ska vara konkurrenskraftig. Utbildning och forskning ska hålla en \\ninternationel lt sett hög kvalitet och bedrivas effektivt. Internationalisering, \\ninklusive student -, doktorand - och forskarmobilitet, är viktiga medel för att \\nsvensk forskning och innovation ska kunna nå högsta kvalitet. Det ska finnas \\nbra villkor för forskning och inno vation för det svenska näringslivet. Läro -\\nsätena ska ha goda förutsättningar att nyttiggöra forskningsresultat samt att \\nbidra till innovation och svensk konkurrenskraft . Den akademiska friheten \\nska främjas, värnas och bidra till ett öppet samhälle. Lärosät ena ska samverka \\nmed det omgivande samhället för ömsesidigt utbyte och verka för att utbild -\\nning och forskning kommer samhället till nytta. En fråga som vi  behöver ha \\nett förstärkt fokus på framöver är  samtidigt  de utmaningar och säkerhets -\\nrisker  som internationa lisering  kan innebära . 2 (4) \\n \\n Med detta brev vill jag inbjuda er att inkomma med underlag inför \\nkommande forsknings - och innovationspolitiska proposition. Delge gärna de \\nforsknings prioriteringar som har gjorts på ert lärosäte och hur den framtida \\ninriktningen ser ut. Kommentera i synnerhet hur lärosätets verksamhet \\nförhåller sig till de politiska prioriteringarna hög kvalitet i forskning och \\nutbildning, internationalisering  och innovation.  Kommentera även ert arbete \\nmed samverkan, med fokus på hur fors kningsresultat kan nyttiggöras.   \\nKommentera gärna i ert underlag hur ni arbetar med profilområden. Att \\nlärosätena arbetar strategiskt med att profilera sin forskning kan bidra till \\nexcellens och konkurrenskraft och regeringen kommer därför följa det \\narbete  som pågår och vilka överväganden som lärosätena hittills har gjort när \\ndet gäller profilområden. Regeringen avser att i den forsknings - och innova -\\ntions politiska propositionen återkomma i frågan om hur lärosätenas anslag \\ntill forskning och utbildning på forskarnivå ska fördelas. Något ansöknings -\\nförfarande rörande profilområden kommer inte att initieras innan dess.  \\nEventuella synpunkter avseende den statliga organisationen för extern \\nforsknings - och innovationsfinansiering  lämnas inte i det ta underlag. Det \\nkommer att finnas möjlighet att lämna sådana synpunkter efter att den \\npågående utredningen En effektiv organisation för statlig forsknings -\\nfinansiering (U2022:06) har lämnat sitt betänkande.  \\nRegeringen har även gett Forskningsrådet för hä lsa, arbetsliv och välfärd \\n(Forte), Forskningsrådet för miljö, areella näringar och samhällsbyggande \\n(Formas), Rymdstyrelsen, Statens energimyndighet , Verket för innovations -\\nsystem (Vinnova) och Vetenskapsrådet i uppdrag att utifrån sina respektive \\nansvars områden göra analyser och lämna rekommendationer som kan bidra \\ntill regeringens forsknings - och innovationspolitik (dnr. U2023/01317 ).  \\nSenas t den 31  oktober  2023 önskar Utbildningsdepartementet  ta emot \\nunderlaget till u.registrator@regeringskansliet.se . Ange dnr. U2023/01467.  \\nNär det gäller Sveriges Lantbruksuniversitet skickas underlag et till både \\nUtbildningsdepartementet och Landsbygds - och infrastruktur departementet. \\nSvaren kommer att läggas ut på regeringens hemsida.  \\nVänliga hälsningar,  \\n \\nMats Persson  3 (4) \\n \\n Sändlista  \\nUppsala universitet  \\nLunds universitet  \\nGöteborgs universitet  \\nStockholms universitet  \\nUmeå universitet  \\nLinköpings universitet  \\nKarolinska institutet  \\nKungl. Tekniska högskolan  \\nLuleå tekniska universitet  \\nKarlstads universitet  \\nLinnéuniversitetet  \\nÖrebro universitet  \\nMittuniversitetet  \\nMalmö universitet  \\nMälardal ens universitet  \\nSveriges lantbruksuniversitet  \\nBlekinge tekniska högskola  \\nFörsvarshögskolan  \\nGymnastik - och idrottshögskolan  \\nHögskolan i Borås  \\nHögskolan Dalarna  \\nHögskolan i Gävle  \\nHögskolan i Halmstad  \\nHögskolan Kristianstad  \\nHögskolan i Skövde  \\nHögskolan Väst  \\nKonstfack  \\nKungl. Konsthögskolan  \\nKungl. Musikhögskolan i Stockholm  \\nStockholms konstnärliga högskola  \\nSödertörns högskola  \\nAkademi för Ledarskap och Teologi  \\nBeckmans skola AB  \\nChalmers Tekniska Högskola AB  \\nEnskilda Högskolan Stockholm AB  \\nEricastiftelsen  \\nJohannelunds teologiska högskola  4 (4) \\n \\n Handelshögskolan i Stockholm  \\nMarie Cederschiöld högskola AB  \\nNewmaninstitutet AB  \\nSophiahemmet, Ideell förening  \\nStiftelsen Högskolan i Jönköping  \\nStiftelsen Rödakorshemmet  \\nStiftelsen Stockholms Musikpedagogiska  Institut  \\n \\n \\n</td>\n",
       "    </tr>\n",
       "  </tbody>\n",
       "</table>\n",
       "</div>"
      ],
      "text/plain": [
       "                                                                                                                                                      Content Links  \\\n",
       "0  https://www.regeringen.se/remisser/2023/11/inbjudan-till-larosaten-myndigheter-och-organisationer-att-inkomma-med-synpunkter-till-regeringens-forskningspolitik/   \n",
       "\n",
       "                                                                             Publishing Info  \\\n",
       "0  Publicerad02 november 2023· Uppdaterad10 november 2023·RemissfrånUtbildningsdepartementet   \n",
       "\n",
       "                                                                                                                            Collected Links  \\\n",
       "0  /contentassets/c9981cbd1c054e3fa1a2a917d3e22939/inbjudan-till-larosatena-att-inkomma-med-underlag-till-regeringens-forskningspolitik.pdf   \n",
       "\n",
       "  Outside PDF Text  \\\n",
       "0       NO CONTENT   \n",
       "\n",
       "                                                                                                                                                Full Collected Links  \\\n",
       "0  https://www.regeringen.se/contentassets/c9981cbd1c054e3fa1a2a917d3e22939/inbjudan-till-larosatena-att-inkomma-med-underlag-till-regeringens-forskningspolitik.pdf   \n",
       "\n",
       "                                                                                                                                                                                                                                                                                                                                                                                                                                                                                                                                                                                                                                                                                                                                                                                                                                                                                                                                                                                                                                                                                                                                                                                                                                                                                                                                                                                                                                                                                                                                                                                                                                                                                                                                                                                                                                                                                                                                                                                                                                                                                                                                                                                                                                                                                                                                                                                                                                                                                                                                                                                                                                                                                                                                                                                                                                                                                                                                                                                                                                                                                                                                                                                                                                                                                                                                                                                                                                                                                                                                                                                                                                                                                                                                                                                                                                                                                                                                                                                                                                                                                                                                                                                                                                                                                                                                                                                                                                                                                                                                                                                                                                                                                                                                                                                                                                                                                                                                                                                                                                                                                                                                                                                                                                                                                                                                                                                                                                                                                                                                                                                                                                                                                                                                                                                                                                                                                                                                                                                                                                          Inside PDF Text  \n",
       "0      \\n  \\n \\n \\n2023 -04-26 \\nU2023/01467  \\n  \\n  \\n  \\nUtbildningsdepartementet  \\nUtbildningsministern  Rektorer enligt sändlista   \\n \\n \\nTelefonväxel: 08 -405 10 00  \\nFax: 08 -24 46 31  \\nWebb: www.regeringen.se  Postadress: 103 33 Stockholm  \\nBesöksadress: Drottninggatan 16  \\nE-post: u.registrator@regeringskansliet.se  \\n \\nInbjudan att inkomma med underlag till regeringens forsknings - \\noch innovationspolitik  \\nSom ett led i regeringens arbete med en kommande forsknings - och \\ninnovationspolitisk proposition, bjuder regeringen in universitet och \\nhögskolor att inkomma med underlag som kan bidra till regeringens \\nforsknings - och innovationspolitik, vars fokus är excellens, internationa -\\nlisering och innovation.  \\nI regeringsförklaringen 2022 har statsministern uttalat att utbildning och \\nforskning av hög kvalitet är h elt avgörande för Sveriges välstånd  och att det \\nsvenska näringslivet är ett drivhus för innovation och är världsledande inom \\nhållbarhet . Obunden forskning är en omistlig beståndsdel i det öppna sam -\\nhället.  Högre utbildning och forskning är avgörande för Sv eriges kompetens -\\nförsörjning och för att Sverige ska kunna möta olika samhällsutmaningar.  \\nRegeringen anser att en tydlig inriktning mot excellens krävs för att svensk \\nforskning ska vara konkurrenskraftig. Utbildning och forskning ska hålla en \\ninternationel lt sett hög kvalitet och bedrivas effektivt. Internationalisering, \\ninklusive student -, doktorand - och forskarmobilitet, är viktiga medel för att \\nsvensk forskning och innovation ska kunna nå högsta kvalitet. Det ska finnas \\nbra villkor för forskning och inno vation för det svenska näringslivet. Läro -\\nsätena ska ha goda förutsättningar att nyttiggöra forskningsresultat samt att \\nbidra till innovation och svensk konkurrenskraft . Den akademiska friheten \\nska främjas, värnas och bidra till ett öppet samhälle. Lärosät ena ska samverka \\nmed det omgivande samhället för ömsesidigt utbyte och verka för att utbild -\\nning och forskning kommer samhället till nytta. En fråga som vi  behöver ha \\nett förstärkt fokus på framöver är  samtidigt  de utmaningar och säkerhets -\\nrisker  som internationa lisering  kan innebära . 2 (4) \\n \\n Med detta brev vill jag inbjuda er att inkomma med underlag inför \\nkommande forsknings - och innovationspolitiska proposition. Delge gärna de \\nforsknings prioriteringar som har gjorts på ert lärosäte och hur den framtida \\ninriktningen ser ut. Kommentera i synnerhet hur lärosätets verksamhet \\nförhåller sig till de politiska prioriteringarna hög kvalitet i forskning och \\nutbildning, internationalisering  och innovation.  Kommentera även ert arbete \\nmed samverkan, med fokus på hur fors kningsresultat kan nyttiggöras.   \\nKommentera gärna i ert underlag hur ni arbetar med profilområden. Att \\nlärosätena arbetar strategiskt med att profilera sin forskning kan bidra till \\nexcellens och konkurrenskraft och regeringen kommer därför följa det \\narbete  som pågår och vilka överväganden som lärosätena hittills har gjort när \\ndet gäller profilområden. Regeringen avser att i den forsknings - och innova -\\ntions politiska propositionen återkomma i frågan om hur lärosätenas anslag \\ntill forskning och utbildning på forskarnivå ska fördelas. Något ansöknings -\\nförfarande rörande profilområden kommer inte att initieras innan dess.  \\nEventuella synpunkter avseende den statliga organisationen för extern \\nforsknings - och innovationsfinansiering  lämnas inte i det ta underlag. Det \\nkommer att finnas möjlighet att lämna sådana synpunkter efter att den \\npågående utredningen En effektiv organisation för statlig forsknings -\\nfinansiering (U2022:06) har lämnat sitt betänkande.  \\nRegeringen har även gett Forskningsrådet för hä lsa, arbetsliv och välfärd \\n(Forte), Forskningsrådet för miljö, areella näringar och samhällsbyggande \\n(Formas), Rymdstyrelsen, Statens energimyndighet , Verket för innovations -\\nsystem (Vinnova) och Vetenskapsrådet i uppdrag att utifrån sina respektive \\nansvars områden göra analyser och lämna rekommendationer som kan bidra \\ntill regeringens forsknings - och innovationspolitik (dnr. U2023/01317 ).  \\nSenas t den 31  oktober  2023 önskar Utbildningsdepartementet  ta emot \\nunderlaget till u.registrator@regeringskansliet.se . Ange dnr. U2023/01467.  \\nNär det gäller Sveriges Lantbruksuniversitet skickas underlag et till både \\nUtbildningsdepartementet och Landsbygds - och infrastruktur departementet. \\nSvaren kommer att läggas ut på regeringens hemsida.  \\nVänliga hälsningar,  \\n \\nMats Persson  3 (4) \\n \\n Sändlista  \\nUppsala universitet  \\nLunds universitet  \\nGöteborgs universitet  \\nStockholms universitet  \\nUmeå universitet  \\nLinköpings universitet  \\nKarolinska institutet  \\nKungl. Tekniska högskolan  \\nLuleå tekniska universitet  \\nKarlstads universitet  \\nLinnéuniversitetet  \\nÖrebro universitet  \\nMittuniversitetet  \\nMalmö universitet  \\nMälardal ens universitet  \\nSveriges lantbruksuniversitet  \\nBlekinge tekniska högskola  \\nFörsvarshögskolan  \\nGymnastik - och idrottshögskolan  \\nHögskolan i Borås  \\nHögskolan Dalarna  \\nHögskolan i Gävle  \\nHögskolan i Halmstad  \\nHögskolan Kristianstad  \\nHögskolan i Skövde  \\nHögskolan Väst  \\nKonstfack  \\nKungl. Konsthögskolan  \\nKungl. Musikhögskolan i Stockholm  \\nStockholms konstnärliga högskola  \\nSödertörns högskola  \\nAkademi för Ledarskap och Teologi  \\nBeckmans skola AB  \\nChalmers Tekniska Högskola AB  \\nEnskilda Högskolan Stockholm AB  \\nEricastiftelsen  \\nJohannelunds teologiska högskola  4 (4) \\n \\n Handelshögskolan i Stockholm  \\nMarie Cederschiöld högskola AB  \\nNewmaninstitutet AB  \\nSophiahemmet, Ideell förening  \\nStiftelsen Högskolan i Jönköping  \\nStiftelsen Rödakorshemmet  \\nStiftelsen Stockholms Musikpedagogiska  Institut  \\n \\n \\n   "
      ]
     },
     "execution_count": 45,
     "metadata": {},
     "output_type": "execute_result"
    }
   ],
   "source": [
    "practice_article_link_directory.head(1)"
   ]
  }
 ],
 "metadata": {
  "kernelspec": {
   "display_name": "capstone",
   "language": "python",
   "name": "python3"
  },
  "language_info": {
   "codemirror_mode": {
    "name": "ipython",
    "version": 3
   },
   "file_extension": ".py",
   "mimetype": "text/x-python",
   "name": "python",
   "nbconvert_exporter": "python",
   "pygments_lexer": "ipython3",
   "version": "3.10.12"
  },
  "orig_nbformat": 4
 },
 "nbformat": 4,
 "nbformat_minor": 2
}
