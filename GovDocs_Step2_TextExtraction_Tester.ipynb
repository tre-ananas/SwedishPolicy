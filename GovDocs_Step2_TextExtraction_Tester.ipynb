{
 "cells": [
  {
   "cell_type": "markdown",
   "metadata": {},
   "source": [
    "# Load Libraries and Set Settings"
   ]
  },
  {
   "cell_type": "code",
   "execution_count": 1,
   "metadata": {},
   "outputs": [],
   "source": [
    "# Libraries\n",
    "import requests\n",
    "from bs4 import BeautifulSoup\n",
    "import pandas as pd\n",
    "import PyPDF2\n",
    "from io import BytesIO\n",
    "from tqdm import tqdm\n",
    "import time\n",
    "import csv\n",
    "import sys\n",
    "from random import randint\n",
    "\n",
    "# Other Settings\n",
    "pd.set_option('display.max.colwidth', None) # max display width"
   ]
  },
  {
   "cell_type": "markdown",
   "metadata": {},
   "source": [
    "# Load Data"
   ]
  },
  {
   "cell_type": "code",
   "execution_count": 19,
   "metadata": {},
   "outputs": [],
   "source": [
    "# Load data from CSV file into a DataFrame\n",
    "csv_file_path = \"publication_info_problem.csv\"  # Update with the correct file path\n",
    "existing_data = pd.read_csv(csv_file_path)\n",
    "\n",
    "# Rename the columns to match your desired names\n",
    "existing_data.columns = ['Content Links', 'Publishing Dates']\n",
    "\n",
    "# Append the loaded data to the existing DataFrame\n",
    "article_link_directory = existing_data.copy()"
   ]
  },
  {
   "cell_type": "markdown",
   "metadata": {},
   "source": [
    "# COLLECT THE PDF LINKS FROM EACH CONTENT PAGE CONTAINING A PDF; IF A CONTENT PAGE CONTAINS NO PDF, GRAB ALL TEXT INSTEAD"
   ]
  },
  {
   "cell_type": "markdown",
   "metadata": {},
   "source": [
    "### Collect data"
   ]
  },
  {
   "cell_type": "code",
   "execution_count": 20,
   "metadata": {},
   "outputs": [
    {
     "name": "stderr",
     "output_type": "stream",
     "text": [
      "Step 1: Collecting PDF Links:  78%|███████▊  | 72/92 [03:22<01:01,  3.05s/link]"
     ]
    },
    {
     "name": "stdout",
     "output_type": "stream",
     "text": [
      "Failed to fetch URL: https://www.regeringen.se/rattsliga-dokument/proposition/2014/03/201314184/, Status code: 500\n"
     ]
    },
    {
     "name": "stderr",
     "output_type": "stream",
     "text": [
      "Step 1: Collecting PDF Links: 100%|██████████| 92/92 [04:11<00:00,  2.73s/link]\n"
     ]
    }
   ],
   "source": [
    "# Initialize an empty list to collect the links\n",
    "layered_links = []\n",
    "text_data_list = []\n",
    "\n",
    "# No content alert\n",
    "no_content_alert = \"NO CONTENT\"\n",
    "\n",
    "for link in tqdm(article_link_directory['Content Links'], desc=\"Step 1: Collecting PDF Links\", unit=\"link\"):\n",
    "    try:\n",
    "        # Send an HTTP GET request to the URL\n",
    "        response = requests.get(link)\n",
    "\n",
    "        # Check if the request was successful (status code 200)\n",
    "        if response.status_code == 200:\n",
    "            # Parse the HTML content of the page\n",
    "            soup = BeautifulSoup(response.text, \"html.parser\")\n",
    "\n",
    "            # Find the first instance of <ul class=\"list--Block--icons\">\n",
    "            ul_tag = soup.find('ul', class_='list--Block--icons')\n",
    "\n",
    "            # Check if the <ul> tag is found\n",
    "            if ul_tag:\n",
    "                # Find the first <a> tag with href inside the <ul> tag\n",
    "                first_link = ul_tag.find('a', href=True)\n",
    "                # no_content_alert = \"NO CONTENT\"\n",
    "                if first_link:\n",
    "                    layered_links.append(first_link['href'])\n",
    "                    text_data_list.append(no_content_alert)\n",
    "                else:\n",
    "                    layered_links.append(no_content_alert)\n",
    "            else:\n",
    "                # If <ul> tag is not found, extract text from <p> tags\n",
    "                paragraphs = soup.find_all('p')\n",
    "                text_data = '\\n'.join([p.get_text(strip=True) for p in paragraphs])\n",
    "                text_data_list.append(text_data)\n",
    "                layered_links.append(no_content_alert)\n",
    "        else:\n",
    "            print(f\"Failed to fetch URL: {link}, Status code: {response.status_code}\")\n",
    "            # If <ul> tag is not found, extract text from <p> tags\n",
    "            paragraphs = soup.find_all('p')\n",
    "            text_data = '\\n'.join([p.get_text(strip=True) for p in paragraphs])\n",
    "            text_data_list.append(text_data)\n",
    "            layered_links.append(no_content_alert)\n",
    "\n",
    "    except Exception as e:\n",
    "        print(f\"An error occurred while processing URL: {link}, Error: {str(e)}\")\n",
    "        text_data_list.append(no_content_alert)\n",
    "        layered_links.append(no_content_alert)\n",
    "\n",
    "    # Introduce a random delay time before the next request\n",
    "    time.sleep(randint(1))  # Adjust the delay time as needed"
   ]
  },
  {
   "cell_type": "markdown",
   "metadata": {},
   "source": [
    "### Create dataframe to hold scraped text information"
   ]
  },
  {
   "cell_type": "code",
   "execution_count": 21,
   "metadata": {},
   "outputs": [],
   "source": [
    "# Create a DataFrame with the lists and rename columns\n",
    "additional_data = pd.DataFrame({'Collected Links': layered_links, 'Outside PDF Text': text_data_list})\n",
    "# Concatenate the new DataFrame with the original DataFrame along the columns axis (axis=1)\n",
    "article_link_directory = pd.concat([article_link_directory, additional_data], axis=1)"
   ]
  },
  {
   "cell_type": "markdown",
   "metadata": {},
   "source": [
    "### Add prefix to links to make valid links"
   ]
  },
  {
   "cell_type": "code",
   "execution_count": 22,
   "metadata": {},
   "outputs": [],
   "source": [
    "# Add prefix to the links in the result_df to complete the links\n",
    "# Define the prefix to add\n",
    "prefix = 'https://www.regeringen.se'\n",
    "\n",
    "# Define a function to conditionally add the prefix\n",
    "def add_prefix(link):\n",
    "    if link == 'NO CONTENT':\n",
    "        return link\n",
    "    else:\n",
    "        return f'{prefix}{link}'\n",
    "\n",
    "# Use the .apply() method with the defined function to add the prefix conditionally\n",
    "article_link_directory['Full Collected Links'] = article_link_directory['Collected Links'].apply(add_prefix)"
   ]
  },
  {
   "cell_type": "markdown",
   "metadata": {},
   "source": [
    "### Remove cookies warning from text"
   ]
  },
  {
   "cell_type": "code",
   "execution_count": 23,
   "metadata": {},
   "outputs": [],
   "source": [
    "# Remove the repetitive string in front of all the rows on the Outside PDF Text\n",
    "# Define the string to remove\n",
    "string_to_remove = \"På regeringen.se använder vi kakor för att löpande förbättra webbplatsen. Du väljer själv om du accepterar kakor.Läs om kakor\\nHuvudnavigering\\nHuvudnavigering\\n\"\n",
    "\n",
    "# Define a function to conditionally remove the specified string\n",
    "def remove_string(text):\n",
    "    if text == 'NO CONTENT':\n",
    "        return text\n",
    "    else:\n",
    "        return text.replace(string_to_remove, '', 1)  # Remove the specified string only from the beginning\n",
    "\n",
    "# Apply the defined function to 'Outside PDF Text' column\n",
    "article_link_directory['Outside PDF Text'] = article_link_directory['Outside PDF Text'].apply(remove_string)"
   ]
  },
  {
   "cell_type": "code",
   "execution_count": 24,
   "metadata": {},
   "outputs": [
    {
     "data": {
      "text/html": [
       "<div>\n",
       "<style scoped>\n",
       "    .dataframe tbody tr th:only-of-type {\n",
       "        vertical-align: middle;\n",
       "    }\n",
       "\n",
       "    .dataframe tbody tr th {\n",
       "        vertical-align: top;\n",
       "    }\n",
       "\n",
       "    .dataframe thead th {\n",
       "        text-align: right;\n",
       "    }\n",
       "</style>\n",
       "<table border=\"1\" class=\"dataframe\">\n",
       "  <thead>\n",
       "    <tr style=\"text-align: right;\">\n",
       "      <th></th>\n",
       "      <th>Content Links</th>\n",
       "      <th>Publishing Dates</th>\n",
       "      <th>Collected Links</th>\n",
       "      <th>Outside PDF Text</th>\n",
       "      <th>Full Collected Links</th>\n",
       "    </tr>\n",
       "  </thead>\n",
       "  <tbody>\n",
       "    <tr>\n",
       "      <th>0</th>\n",
       "      <td>https://www.regeringen.se/rattsliga-dokument/skrivelse/2006/03/skr.-200506171</td>\n",
       "      <td>Publicerad22 mars 2006· Uppdaterad02 april 2015·Rättsliga dokument,SkrivelsefrånKlimat- och näringslivsdepartementet</td>\n",
       "      <td>/contentassets/540e1ee83da946328aecfd682f4303e3/vissa-fiskeripolitiska-fragor-skr.-200506171</td>\n",
       "      <td>NO CONTENT</td>\n",
       "      <td>https://www.regeringen.se/contentassets/540e1ee83da946328aecfd682f4303e3/vissa-fiskeripolitiska-fragor-skr.-200506171</td>\n",
       "    </tr>\n",
       "    <tr>\n",
       "      <th>1</th>\n",
       "      <td>https://www.regeringen.se/rattsliga-dokument/skrivelse/2006/11/skr.-20060721</td>\n",
       "      <td>Publicerad14 november 2006· Uppdaterad02 april 2015·Rättsliga dokument,SkrivelsefrånKlimat- och näringslivsdepartementet</td>\n",
       "      <td>/contentassets/5b183cf3f7194c63873738e2998cd578/aterkallelse-av-proposition-200506214-offentliggorande-av-resultat-av-livsmedelskontroll-skr.-20060721</td>\n",
       "      <td>NO CONTENT</td>\n",
       "      <td>https://www.regeringen.se/contentassets/5b183cf3f7194c63873738e2998cd578/aterkallelse-av-proposition-200506214-offentliggorande-av-resultat-av-livsmedelskontroll-skr.-20060721</td>\n",
       "    </tr>\n",
       "    <tr>\n",
       "      <th>2</th>\n",
       "      <td>https://www.regeringen.se/rattsliga-dokument/skrivelse/2010/03/skr.-200910187</td>\n",
       "      <td>Publicerad23 mars 2010· Uppdaterad02 april 2015·Rättsliga dokument,SkrivelsefrånLandsbygds- och infrastrukturdepartementet</td>\n",
       "      <td>/contentassets/ca3d6909196c471597ddbcab449498bc/redovisning-av-fiskeripolitiska-insatser-skr.-200910187</td>\n",
       "      <td>NO CONTENT</td>\n",
       "      <td>https://www.regeringen.se/contentassets/ca3d6909196c471597ddbcab449498bc/redovisning-av-fiskeripolitiska-insatser-skr.-200910187</td>\n",
       "    </tr>\n",
       "    <tr>\n",
       "      <th>3</th>\n",
       "      <td>https://www.regeringen.se/rattsliga-dokument/skrivelse/2012/04/skr.-201112124</td>\n",
       "      <td>Publicerad04 april 2012· Uppdaterad02 april 2015·Rättsliga dokument,SkrivelsefrånKlimat- och näringslivsdepartementet,Landsbygds- och infrastrukturdepartementet</td>\n",
       "      <td>/contentassets/002902dd1126471d8f42dd5017bad411/miljo--klimat--och-energiinsatser-inom-jordbruket-skr.-201112124</td>\n",
       "      <td>NO CONTENT</td>\n",
       "      <td>https://www.regeringen.se/contentassets/002902dd1126471d8f42dd5017bad411/miljo--klimat--och-energiinsatser-inom-jordbruket-skr.-201112124</td>\n",
       "    </tr>\n",
       "    <tr>\n",
       "      <th>4</th>\n",
       "      <td>https://www.regeringen.se/rattsliga-dokument/skrivelse/2014/03/skr.-201314158</td>\n",
       "      <td>Publicerad11 mars 2014· Uppdaterad02 april 2015·Rättsliga dokument,SkrivelsefrånLandsbygds- och infrastrukturdepartementet</td>\n",
       "      <td>/contentassets/afe5e93c7f2b41519c2093a48f146242/riksrevisionens-rapport-om-det-svenska-landsbygdsprogrammet-20072013/</td>\n",
       "      <td>NO CONTENT</td>\n",
       "      <td>https://www.regeringen.se/contentassets/afe5e93c7f2b41519c2093a48f146242/riksrevisionens-rapport-om-det-svenska-landsbygdsprogrammet-20072013/</td>\n",
       "    </tr>\n",
       "    <tr>\n",
       "      <th>...</th>\n",
       "      <td>...</td>\n",
       "      <td>...</td>\n",
       "      <td>...</td>\n",
       "      <td>...</td>\n",
       "      <td>...</td>\n",
       "    </tr>\n",
       "    <tr>\n",
       "      <th>87</th>\n",
       "      <td>https://www.regeringen.se/rattsliga-dokument/departementsserien-och-promemorior/2004/01/ds-200414/</td>\n",
       "      <td>Publicerad01 januari 2004· Uppdaterad02 april 2015·Departementsserien och promemorior,Rättsliga dokumentfrånKlimat- och näringslivsdepartementet</td>\n",
       "      <td>/contentassets/9a99922e7e54408294929462b3d9092f/lag-om-andring-i-epizootilagen/</td>\n",
       "      <td>NO CONTENT</td>\n",
       "      <td>https://www.regeringen.se/contentassets/9a99922e7e54408294929462b3d9092f/lag-om-andring-i-epizootilagen/</td>\n",
       "    </tr>\n",
       "    <tr>\n",
       "      <th>88</th>\n",
       "      <td>https://www.regeringen.se/rattsliga-dokument/departementsserien-och-promemorior/2004/01/ds-200415/</td>\n",
       "      <td>Publicerad01 januari 2004· Uppdaterad02 april 2015·Departementsserien och promemorior,Rättsliga dokumentfrånKlimat- och näringslivsdepartementet</td>\n",
       "      <td>/contentassets/dc8c1bf54f3e4c17b08a91706eb907a3/tillstand-vid-forvarv-av-lantbruksegendom-i-glesbygd/</td>\n",
       "      <td>NO CONTENT</td>\n",
       "      <td>https://www.regeringen.se/contentassets/dc8c1bf54f3e4c17b08a91706eb907a3/tillstand-vid-forvarv-av-lantbruksegendom-i-glesbygd/</td>\n",
       "    </tr>\n",
       "    <tr>\n",
       "      <th>89</th>\n",
       "      <td>https://www.regeringen.se/rattsliga-dokument/departementsserien-och-promemorior/2004/08/ds-200439/</td>\n",
       "      <td>Publicerad01 augusti 2004· Uppdaterad02 april 2015·Departementsserien och promemorior,Rättsliga dokumentfrånKlimat- och näringslivsdepartementet</td>\n",
       "      <td>/contentassets/c2216a0082fc4078837c17bde116d9b2/det-gar-langsamt-fram...---jamstalldheten-inom-jord--och-skogsbrukssektorn</td>\n",
       "      <td>NO CONTENT</td>\n",
       "      <td>https://www.regeringen.se/contentassets/c2216a0082fc4078837c17bde116d9b2/det-gar-langsamt-fram...---jamstalldheten-inom-jord--och-skogsbrukssektorn</td>\n",
       "    </tr>\n",
       "    <tr>\n",
       "      <th>90</th>\n",
       "      <td>https://www.regeringen.se/rattsliga-dokument/departementsserien-och-promemorior/2005/07/ds-200522/</td>\n",
       "      <td>Publicerad27 juli 2005· Uppdaterad02 april 2015·Departementsserien och promemorior,Rättsliga dokumentfrånKlimat- och näringslivsdepartementet</td>\n",
       "      <td>/contentassets/a39a1030d800489480e6e0667d29467c/smaskalig-livsmedelsforadling/</td>\n",
       "      <td>NO CONTENT</td>\n",
       "      <td>https://www.regeringen.se/contentassets/a39a1030d800489480e6e0667d29467c/smaskalig-livsmedelsforadling/</td>\n",
       "    </tr>\n",
       "    <tr>\n",
       "      <th>91</th>\n",
       "      <td>https://www.regeringen.se/rattsliga-dokument/departementsserien-och-promemorior/2005/08/ds-200531/</td>\n",
       "      <td>Publicerad15 augusti 2005· Uppdaterad02 april 2015·Departementsserien och promemorior,Rättsliga dokumentfrånKlimat- och näringslivsdepartementet</td>\n",
       "      <td>/contentassets/39ebe5f90a824f5faaf088742f82bffb/ds-200531-kapitel-1-4/</td>\n",
       "      <td>NO CONTENT</td>\n",
       "      <td>https://www.regeringen.se/contentassets/39ebe5f90a824f5faaf088742f82bffb/ds-200531-kapitel-1-4/</td>\n",
       "    </tr>\n",
       "  </tbody>\n",
       "</table>\n",
       "<p>92 rows × 5 columns</p>\n",
       "</div>"
      ],
      "text/plain": [
       "                                                                                         Content Links  \\\n",
       "0                        https://www.regeringen.se/rattsliga-dokument/skrivelse/2006/03/skr.-200506171   \n",
       "1                         https://www.regeringen.se/rattsliga-dokument/skrivelse/2006/11/skr.-20060721   \n",
       "2                        https://www.regeringen.se/rattsliga-dokument/skrivelse/2010/03/skr.-200910187   \n",
       "3                        https://www.regeringen.se/rattsliga-dokument/skrivelse/2012/04/skr.-201112124   \n",
       "4                        https://www.regeringen.se/rattsliga-dokument/skrivelse/2014/03/skr.-201314158   \n",
       "..                                                                                                 ...   \n",
       "87  https://www.regeringen.se/rattsliga-dokument/departementsserien-och-promemorior/2004/01/ds-200414/   \n",
       "88  https://www.regeringen.se/rattsliga-dokument/departementsserien-och-promemorior/2004/01/ds-200415/   \n",
       "89  https://www.regeringen.se/rattsliga-dokument/departementsserien-och-promemorior/2004/08/ds-200439/   \n",
       "90  https://www.regeringen.se/rattsliga-dokument/departementsserien-och-promemorior/2005/07/ds-200522/   \n",
       "91  https://www.regeringen.se/rattsliga-dokument/departementsserien-och-promemorior/2005/08/ds-200531/   \n",
       "\n",
       "                                                                                                                                                    Publishing Dates  \\\n",
       "0                                               Publicerad22 mars 2006· Uppdaterad02 april 2015·Rättsliga dokument,SkrivelsefrånKlimat- och näringslivsdepartementet   \n",
       "1                                           Publicerad14 november 2006· Uppdaterad02 april 2015·Rättsliga dokument,SkrivelsefrånKlimat- och näringslivsdepartementet   \n",
       "2                                         Publicerad23 mars 2010· Uppdaterad02 april 2015·Rättsliga dokument,SkrivelsefrånLandsbygds- och infrastrukturdepartementet   \n",
       "3   Publicerad04 april 2012· Uppdaterad02 april 2015·Rättsliga dokument,SkrivelsefrånKlimat- och näringslivsdepartementet,Landsbygds- och infrastrukturdepartementet   \n",
       "4                                         Publicerad11 mars 2014· Uppdaterad02 april 2015·Rättsliga dokument,SkrivelsefrånLandsbygds- och infrastrukturdepartementet   \n",
       "..                                                                                                                                                               ...   \n",
       "87                  Publicerad01 januari 2004· Uppdaterad02 april 2015·Departementsserien och promemorior,Rättsliga dokumentfrånKlimat- och näringslivsdepartementet   \n",
       "88                  Publicerad01 januari 2004· Uppdaterad02 april 2015·Departementsserien och promemorior,Rättsliga dokumentfrånKlimat- och näringslivsdepartementet   \n",
       "89                  Publicerad01 augusti 2004· Uppdaterad02 april 2015·Departementsserien och promemorior,Rättsliga dokumentfrånKlimat- och näringslivsdepartementet   \n",
       "90                     Publicerad27 juli 2005· Uppdaterad02 april 2015·Departementsserien och promemorior,Rättsliga dokumentfrånKlimat- och näringslivsdepartementet   \n",
       "91                  Publicerad15 augusti 2005· Uppdaterad02 april 2015·Departementsserien och promemorior,Rättsliga dokumentfrånKlimat- och näringslivsdepartementet   \n",
       "\n",
       "                                                                                                                                           Collected Links  \\\n",
       "0                                                             /contentassets/540e1ee83da946328aecfd682f4303e3/vissa-fiskeripolitiska-fragor-skr.-200506171   \n",
       "1   /contentassets/5b183cf3f7194c63873738e2998cd578/aterkallelse-av-proposition-200506214-offentliggorande-av-resultat-av-livsmedelskontroll-skr.-20060721   \n",
       "2                                                  /contentassets/ca3d6909196c471597ddbcab449498bc/redovisning-av-fiskeripolitiska-insatser-skr.-200910187   \n",
       "3                                         /contentassets/002902dd1126471d8f42dd5017bad411/miljo--klimat--och-energiinsatser-inom-jordbruket-skr.-201112124   \n",
       "4                                    /contentassets/afe5e93c7f2b41519c2093a48f146242/riksrevisionens-rapport-om-det-svenska-landsbygdsprogrammet-20072013/   \n",
       "..                                                                                                                                                     ...   \n",
       "87                                                                         /contentassets/9a99922e7e54408294929462b3d9092f/lag-om-andring-i-epizootilagen/   \n",
       "88                                                   /contentassets/dc8c1bf54f3e4c17b08a91706eb907a3/tillstand-vid-forvarv-av-lantbruksegendom-i-glesbygd/   \n",
       "89                              /contentassets/c2216a0082fc4078837c17bde116d9b2/det-gar-langsamt-fram...---jamstalldheten-inom-jord--och-skogsbrukssektorn   \n",
       "90                                                                          /contentassets/a39a1030d800489480e6e0667d29467c/smaskalig-livsmedelsforadling/   \n",
       "91                                                                                  /contentassets/39ebe5f90a824f5faaf088742f82bffb/ds-200531-kapitel-1-4/   \n",
       "\n",
       "   Outside PDF Text  \\\n",
       "0        NO CONTENT   \n",
       "1        NO CONTENT   \n",
       "2        NO CONTENT   \n",
       "3        NO CONTENT   \n",
       "4        NO CONTENT   \n",
       "..              ...   \n",
       "87       NO CONTENT   \n",
       "88       NO CONTENT   \n",
       "89       NO CONTENT   \n",
       "90       NO CONTENT   \n",
       "91       NO CONTENT   \n",
       "\n",
       "                                                                                                                                                               Full Collected Links  \n",
       "0                                                             https://www.regeringen.se/contentassets/540e1ee83da946328aecfd682f4303e3/vissa-fiskeripolitiska-fragor-skr.-200506171  \n",
       "1   https://www.regeringen.se/contentassets/5b183cf3f7194c63873738e2998cd578/aterkallelse-av-proposition-200506214-offentliggorande-av-resultat-av-livsmedelskontroll-skr.-20060721  \n",
       "2                                                  https://www.regeringen.se/contentassets/ca3d6909196c471597ddbcab449498bc/redovisning-av-fiskeripolitiska-insatser-skr.-200910187  \n",
       "3                                         https://www.regeringen.se/contentassets/002902dd1126471d8f42dd5017bad411/miljo--klimat--och-energiinsatser-inom-jordbruket-skr.-201112124  \n",
       "4                                    https://www.regeringen.se/contentassets/afe5e93c7f2b41519c2093a48f146242/riksrevisionens-rapport-om-det-svenska-landsbygdsprogrammet-20072013/  \n",
       "..                                                                                                                                                                              ...  \n",
       "87                                                                         https://www.regeringen.se/contentassets/9a99922e7e54408294929462b3d9092f/lag-om-andring-i-epizootilagen/  \n",
       "88                                                   https://www.regeringen.se/contentassets/dc8c1bf54f3e4c17b08a91706eb907a3/tillstand-vid-forvarv-av-lantbruksegendom-i-glesbygd/  \n",
       "89                              https://www.regeringen.se/contentassets/c2216a0082fc4078837c17bde116d9b2/det-gar-langsamt-fram...---jamstalldheten-inom-jord--och-skogsbrukssektorn  \n",
       "90                                                                          https://www.regeringen.se/contentassets/a39a1030d800489480e6e0667d29467c/smaskalig-livsmedelsforadling/  \n",
       "91                                                                                  https://www.regeringen.se/contentassets/39ebe5f90a824f5faaf088742f82bffb/ds-200531-kapitel-1-4/  \n",
       "\n",
       "[92 rows x 5 columns]"
      ]
     },
     "execution_count": 24,
     "metadata": {},
     "output_type": "execute_result"
    }
   ],
   "source": [
    "article_link_directory"
   ]
  },
  {
   "cell_type": "markdown",
   "metadata": {},
   "source": [
    "### Download data as .csv"
   ]
  },
  {
   "cell_type": "code",
   "execution_count": 25,
   "metadata": {},
   "outputs": [],
   "source": [
    "# Download article_link_directory as a fail safe\n",
    "article_link_directory.to_csv('article_link_directory_save_step_2.csv', index=False)"
   ]
  }
 ],
 "metadata": {
  "kernelspec": {
   "display_name": "capstone",
   "language": "python",
   "name": "python3"
  },
  "language_info": {
   "codemirror_mode": {
    "name": "ipython",
    "version": 3
   },
   "file_extension": ".py",
   "mimetype": "text/x-python",
   "name": "python",
   "nbconvert_exporter": "python",
   "pygments_lexer": "ipython3",
   "version": "3.10.12"
  },
  "orig_nbformat": 4
 },
 "nbformat": 4,
 "nbformat_minor": 2
}
