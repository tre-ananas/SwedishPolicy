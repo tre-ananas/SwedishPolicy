{
 "cells": [
  {
   "cell_type": "markdown",
   "metadata": {},
   "source": [
    "# Load Libraries and Set Settings"
   ]
  },
  {
   "cell_type": "code",
   "execution_count": 1,
   "metadata": {},
   "outputs": [],
   "source": [
    "# Libraries\n",
    "import requests\n",
    "from bs4 import BeautifulSoup\n",
    "import pandas as pd\n",
    "import PyPDF2\n",
    "from io import BytesIO\n",
    "from tqdm import tqdm\n",
    "import time\n",
    "import csv\n",
    "import sys\n",
    "from random import randint\n",
    "\n",
    "# Other Settings\n",
    "pd.set_option('display.max.colwidth', None) # max display width"
   ]
  },
  {
   "cell_type": "markdown",
   "metadata": {},
   "source": [
    "# Load Data"
   ]
  },
  {
   "cell_type": "code",
   "execution_count": 3,
   "metadata": {},
   "outputs": [],
   "source": [
    "# Load data from CSV file into a DataFrame\n",
    "pdf_links = pd.read_csv('pdf_links.csv')\n",
    "publication_info = pd.read_csv('publication_info.csv')"
   ]
  },
  {
   "cell_type": "markdown",
   "metadata": {},
   "source": [
    "# Clean Data"
   ]
  },
  {
   "cell_type": "markdown",
   "metadata": {},
   "source": [
    "### Add prefix to links to make valid links"
   ]
  },
  {
   "cell_type": "code",
   "execution_count": 8,
   "metadata": {},
   "outputs": [],
   "source": [
    "# Add prefix to the links in the result_df to complete the links\n",
    "# Define the prefix to add\n",
    "prefix = 'https://www.regeringen.se'\n",
    "\n",
    "# Define a function to conditionally add the prefix\n",
    "def add_prefix(link):\n",
    "    if link == 'NO CONTENT':\n",
    "        return link\n",
    "    else:\n",
    "        return f'{prefix}{link}'\n",
    "\n",
    "# Use the .apply() method with the defined function to add the prefix conditionally\n",
    "pdf_links['Full Collected Links'] = pdf_links['Collected Links'].apply(add_prefix)"
   ]
  },
  {
   "cell_type": "markdown",
   "metadata": {},
   "source": [
    "### Remove cookies warning from text"
   ]
  },
  {
   "cell_type": "code",
   "execution_count": 12,
   "metadata": {},
   "outputs": [],
   "source": [
    "# Assuming pdf_links is your DataFrame and 'Outside PDF Text' is the column you want to convert to string\n",
    "pdf_links['Outside PDF Text'] = pdf_links['Outside PDF Text'].astype(str)"
   ]
  },
  {
   "cell_type": "code",
   "execution_count": 13,
   "metadata": {},
   "outputs": [],
   "source": [
    "# Remove the repetitive string in front of all the rows on the Outside PDF Text\n",
    "# Define the string to remove\n",
    "string_to_remove = \"På regeringen.se använder vi kakor för att löpande förbättra webbplatsen. Du väljer själv om du accepterar kakor.Läs om kakor\\nHuvudnavigering\\nHuvudnavigering\\n\"\n",
    "\n",
    "# Define a function to conditionally remove the specified string\n",
    "def remove_string(text):\n",
    "    if text == 'NO CONTENT':\n",
    "        return text\n",
    "    else:\n",
    "        return text.replace(string_to_remove, '', 1)  # Remove the specified string only from the beginning\n",
    "\n",
    "# Apply the defined function to 'Outside PDF Text' column\n",
    "pdf_links['Outside PDF Text'] = pdf_links['Outside PDF Text'].apply(remove_string)"
   ]
  },
  {
   "cell_type": "markdown",
   "metadata": {},
   "source": [
    "# Combine Data"
   ]
  },
  {
   "cell_type": "code",
   "execution_count": 28,
   "metadata": {},
   "outputs": [],
   "source": [
    "# Initiate article_link_directory as a copy of publication_info\n",
    "article_link_directory = publication_info"
   ]
  },
  {
   "cell_type": "code",
   "execution_count": 29,
   "metadata": {},
   "outputs": [],
   "source": [
    "# Complete the article_link_directory as a combination of pdf_links and publication_info\n",
    "article_link_directory['Collected Links'] = pdf_links['Collected Links']\n",
    "article_link_directory['Outside PDF Text'] = pdf_links['Outside PDF Text']\n",
    "article_link_directory['Full Collected Links'] = pdf_links['Full Collected Links']"
   ]
  },
  {
   "cell_type": "code",
   "execution_count": 36,
   "metadata": {},
   "outputs": [],
   "source": [
    "# Rename column 'Link' to 'Content Links' in article_link_directory\n",
    "article_link_directory.rename(columns={'Link': 'Content Links'}, inplace=True)"
   ]
  },
  {
   "cell_type": "code",
   "execution_count": 37,
   "metadata": {},
   "outputs": [
    {
     "data": {
      "text/html": [
       "<div>\n",
       "<style scoped>\n",
       "    .dataframe tbody tr th:only-of-type {\n",
       "        vertical-align: middle;\n",
       "    }\n",
       "\n",
       "    .dataframe tbody tr th {\n",
       "        vertical-align: top;\n",
       "    }\n",
       "\n",
       "    .dataframe thead th {\n",
       "        text-align: right;\n",
       "    }\n",
       "</style>\n",
       "<table border=\"1\" class=\"dataframe\">\n",
       "  <thead>\n",
       "    <tr style=\"text-align: right;\">\n",
       "      <th></th>\n",
       "      <th>Content Links</th>\n",
       "      <th>Publishing Info</th>\n",
       "      <th>Collected Links</th>\n",
       "      <th>Outside PDF Text</th>\n",
       "      <th>Full Collected Links</th>\n",
       "    </tr>\n",
       "  </thead>\n",
       "  <tbody>\n",
       "    <tr>\n",
       "      <th>0</th>\n",
       "      <td>https://www.regeringen.se/remisser/2023/11/inbjudan-till-larosaten-myndigheter-och-organisationer-att-inkomma-med-synpunkter-till-regeringens-forskningspolitik/</td>\n",
       "      <td>Publicerad02 november 2023· Uppdaterad10 november 2023·RemissfrånUtbildningsdepartementet</td>\n",
       "      <td>/contentassets/c9981cbd1c054e3fa1a2a917d3e22939/inbjudan-till-larosatena-att-inkomma-med-underlag-till-regeringens-forskningspolitik.pdf</td>\n",
       "      <td>NO CONTENT</td>\n",
       "      <td>https://www.regeringen.se/contentassets/c9981cbd1c054e3fa1a2a917d3e22939/inbjudan-till-larosatena-att-inkomma-med-underlag-till-regeringens-forskningspolitik.pdf</td>\n",
       "    </tr>\n",
       "  </tbody>\n",
       "</table>\n",
       "</div>"
      ],
      "text/plain": [
       "                                                                                                                                                      Content Links  \\\n",
       "0  https://www.regeringen.se/remisser/2023/11/inbjudan-till-larosaten-myndigheter-och-organisationer-att-inkomma-med-synpunkter-till-regeringens-forskningspolitik/   \n",
       "\n",
       "                                                                             Publishing Info  \\\n",
       "0  Publicerad02 november 2023· Uppdaterad10 november 2023·RemissfrånUtbildningsdepartementet   \n",
       "\n",
       "                                                                                                                            Collected Links  \\\n",
       "0  /contentassets/c9981cbd1c054e3fa1a2a917d3e22939/inbjudan-till-larosatena-att-inkomma-med-underlag-till-regeringens-forskningspolitik.pdf   \n",
       "\n",
       "  Outside PDF Text  \\\n",
       "0       NO CONTENT   \n",
       "\n",
       "                                                                                                                                                Full Collected Links  \n",
       "0  https://www.regeringen.se/contentassets/c9981cbd1c054e3fa1a2a917d3e22939/inbjudan-till-larosatena-att-inkomma-med-underlag-till-regeringens-forskningspolitik.pdf  "
      ]
     },
     "execution_count": 37,
     "metadata": {},
     "output_type": "execute_result"
    }
   ],
   "source": [
    "article_link_directory.head(1)"
   ]
  },
  {
   "cell_type": "markdown",
   "metadata": {},
   "source": [
    "# Export Data"
   ]
  },
  {
   "cell_type": "code",
   "execution_count": 35,
   "metadata": {},
   "outputs": [],
   "source": [
    "# Download article_link_directory as a fail safe\n",
    "article_link_directory.to_csv('article_link_directory.csv', index=False)"
   ]
  }
 ],
 "metadata": {
  "kernelspec": {
   "display_name": "capstone",
   "language": "python",
   "name": "python3"
  },
  "language_info": {
   "codemirror_mode": {
    "name": "ipython",
    "version": 3
   },
   "file_extension": ".py",
   "mimetype": "text/x-python",
   "name": "python",
   "nbconvert_exporter": "python",
   "pygments_lexer": "ipython3",
   "version": "3.10.12"
  },
  "orig_nbformat": 4
 },
 "nbformat": 4,
 "nbformat_minor": 2
}
